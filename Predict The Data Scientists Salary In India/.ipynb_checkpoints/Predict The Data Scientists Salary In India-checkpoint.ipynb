{
 "cells": [
  {
   "cell_type": "markdown",
   "id": "c45120d9",
   "metadata": {},
   "source": [
    "## Predict The Data Scientists Salary In India\n",
    "\n",
    "Data scientist is the sexiest job in the world. How many times have you heard that? Analytics India Annual Salary Study which aims to understand a wide range of trends data science says that the median analytics salary in India for the year 2017 is INR 12.7 Lakhs across all experience level and skill sets. So given the job description and other key information can you predict the range of salary of the job posting? What kind of factors influence the salary of a data scientist? \n",
    "The study also says that in the world of analytics, Mumbai is the highest paymaster at almost 13.3 Lakhs per annum, followed by Bengaluru at 12.5 Lakhs. The industry of the data scientist can also influence the salary. Telecom industry pays the highest median salaries to its analytics professionals at 18.6 Lakhs. What are you waiting for, solve the problem by predicting how much a data scientist or analytics professional will be paid by analysing the data given. \n",
    "\n",
    "Bonus Tip: You can analyse the data and get key insights for your career as well. The best data scientists and machine learning engineers will be given awesome prizes at the end of hackathon. \n",
    "\n",
    "Data The dataset is based on salary and job postings in India across the internet. The train and the test data consists of attributes mentioned below. The rows of train dataset has rich amount of information regarding the job posting such as name of the designation and key skills required for the job. The training data and test data comprise of 19802 samples and of 6601 samples each. This is a dataset which has been collected over some time to gather relevant analytics jobs posting over the years. \n",
    "\n",
    "`Features`:\n",
    "- Name of the company (Encoded) \n",
    "- Years of experience \n",
    "- Job description \n",
    "- Job designation \n",
    "- Job Type \n",
    "- Key skills \n",
    "- Location \n",
    "- Salary in Rupees Lakhs(To be predicted) \n",
    "\n",
    "\n",
    "`Problem Statement`: Based on the given attributes and salary information, build a robust machine learning model that predicts the salary range of the salary post."
   ]
  },
  {
   "cell_type": "markdown",
   "id": "c4400b0e",
   "metadata": {},
   "source": [
    "##### Import libraries"
   ]
  },
  {
   "cell_type": "code",
   "execution_count": 1,
   "id": "90509635",
   "metadata": {},
   "outputs": [],
   "source": [
    "import os\n",
    "import pandas as pd\n",
    "import numpy as np\n",
    "import matplotlib.pyplot as plt\n",
    "import seaborn as sns\n",
    "import re\n",
    "import nltk\n",
    "import warnings\n",
    "warnings.filterwarnings('ignore')\n",
    "from scipy.sparse import hstack, csr_matrix"
   ]
  },
  {
   "cell_type": "markdown",
   "id": "774f61e4",
   "metadata": {},
   "source": [
    "##### Import datasets"
   ]
  },
  {
   "cell_type": "code",
   "execution_count": 2,
   "id": "e37f3626",
   "metadata": {},
   "outputs": [],
   "source": [
    "train = pd.read_csv(os.path.join('data', 'Final_Train_Dataset.csv'))\n",
    "test = pd.read_csv(os.path.join('data', 'Final_Test_Dataset.csv'))"
   ]
  },
  {
   "cell_type": "code",
   "execution_count": 3,
   "id": "d94cec28",
   "metadata": {},
   "outputs": [],
   "source": [
    "len_train = len(train)\n",
    "len_test = len(test)\n",
    "data = pd.concat((train, test))"
   ]
  },
  {
   "cell_type": "code",
   "execution_count": 4,
   "id": "c4d04ed9",
   "metadata": {
    "scrolled": false
   },
   "outputs": [
    {
     "data": {
      "text/html": [
       "<div>\n",
       "<style scoped>\n",
       "    .dataframe tbody tr th:only-of-type {\n",
       "        vertical-align: middle;\n",
       "    }\n",
       "\n",
       "    .dataframe tbody tr th {\n",
       "        vertical-align: top;\n",
       "    }\n",
       "\n",
       "    .dataframe thead th {\n",
       "        text-align: right;\n",
       "    }\n",
       "</style>\n",
       "<table border=\"1\" class=\"dataframe\">\n",
       "  <thead>\n",
       "    <tr style=\"text-align: right;\">\n",
       "      <th></th>\n",
       "      <th>Unnamed: 0</th>\n",
       "      <th>experience</th>\n",
       "      <th>job_description</th>\n",
       "      <th>job_desig</th>\n",
       "      <th>job_type</th>\n",
       "      <th>key_skills</th>\n",
       "      <th>location</th>\n",
       "      <th>salary</th>\n",
       "      <th>company_name_encoded</th>\n",
       "    </tr>\n",
       "  </thead>\n",
       "  <tbody>\n",
       "    <tr>\n",
       "      <th>0</th>\n",
       "      <td>0.0</td>\n",
       "      <td>5-7 yrs</td>\n",
       "      <td>Exp: Minimum 5 years;Good understanding of IOC...</td>\n",
       "      <td>Senior Exploit and Vulnerability Researcher</td>\n",
       "      <td>NaN</td>\n",
       "      <td>team skills, communication skills, analytical ...</td>\n",
       "      <td>Delhi NCR(Vikas Puri)</td>\n",
       "      <td>6to10</td>\n",
       "      <td>3687</td>\n",
       "    </tr>\n",
       "    <tr>\n",
       "      <th>1</th>\n",
       "      <td>1.0</td>\n",
       "      <td>10-17 yrs</td>\n",
       "      <td>He should have handled a team of atleast 5-6 d...</td>\n",
       "      <td>Head SCM</td>\n",
       "      <td>NaN</td>\n",
       "      <td>ppc, logistics, inventory management, supply c...</td>\n",
       "      <td>Sonepat</td>\n",
       "      <td>10to15</td>\n",
       "      <td>458</td>\n",
       "    </tr>\n",
       "    <tr>\n",
       "      <th>2</th>\n",
       "      <td>2.0</td>\n",
       "      <td>5-9 yrs</td>\n",
       "      <td>Must be an effective communicator (written &amp; s...</td>\n",
       "      <td>Deputy Manager - Talent Management &amp; Leadershi...</td>\n",
       "      <td>Analytics</td>\n",
       "      <td>HR Analytics, Employee Engagement, Training, S...</td>\n",
       "      <td>Delhi NCR</td>\n",
       "      <td>15to25</td>\n",
       "      <td>4195</td>\n",
       "    </tr>\n",
       "    <tr>\n",
       "      <th>3</th>\n",
       "      <td>3.0</td>\n",
       "      <td>7-10 yrs</td>\n",
       "      <td>7  -  10 years of overall experience in data e...</td>\n",
       "      <td>Associate Manager Data Engineering</td>\n",
       "      <td>Analytics</td>\n",
       "      <td>SQL, Javascript, Automation, Python, Ruby, Ana...</td>\n",
       "      <td>Bengaluru</td>\n",
       "      <td>10to15</td>\n",
       "      <td>313</td>\n",
       "    </tr>\n",
       "    <tr>\n",
       "      <th>4</th>\n",
       "      <td>4.0</td>\n",
       "      <td>1-3 yrs</td>\n",
       "      <td>Chartered Accountancy degree or MBA in Finance...</td>\n",
       "      <td>TS- GSA- Senior Analyst</td>\n",
       "      <td>NaN</td>\n",
       "      <td>accounting, finance, cash flow, financial plan...</td>\n",
       "      <td>Gurgaon</td>\n",
       "      <td>3to6</td>\n",
       "      <td>1305</td>\n",
       "    </tr>\n",
       "  </tbody>\n",
       "</table>\n",
       "</div>"
      ],
      "text/plain": [
       "   Unnamed: 0 experience                                    job_description  \\\n",
       "0         0.0    5-7 yrs  Exp: Minimum 5 years;Good understanding of IOC...   \n",
       "1         1.0  10-17 yrs  He should have handled a team of atleast 5-6 d...   \n",
       "2         2.0    5-9 yrs  Must be an effective communicator (written & s...   \n",
       "3         3.0   7-10 yrs  7  -  10 years of overall experience in data e...   \n",
       "4         4.0    1-3 yrs  Chartered Accountancy degree or MBA in Finance...   \n",
       "\n",
       "                                           job_desig   job_type  \\\n",
       "0        Senior Exploit and Vulnerability Researcher        NaN   \n",
       "1                                           Head SCM        NaN   \n",
       "2  Deputy Manager - Talent Management & Leadershi...  Analytics   \n",
       "3                 Associate Manager Data Engineering  Analytics   \n",
       "4                            TS- GSA- Senior Analyst        NaN   \n",
       "\n",
       "                                          key_skills               location  \\\n",
       "0  team skills, communication skills, analytical ...  Delhi NCR(Vikas Puri)   \n",
       "1  ppc, logistics, inventory management, supply c...                Sonepat   \n",
       "2  HR Analytics, Employee Engagement, Training, S...              Delhi NCR   \n",
       "3  SQL, Javascript, Automation, Python, Ruby, Ana...              Bengaluru   \n",
       "4  accounting, finance, cash flow, financial plan...                Gurgaon   \n",
       "\n",
       "   salary  company_name_encoded  \n",
       "0   6to10                  3687  \n",
       "1  10to15                   458  \n",
       "2  15to25                  4195  \n",
       "3  10to15                   313  \n",
       "4    3to6                  1305  "
      ]
     },
     "execution_count": 4,
     "metadata": {},
     "output_type": "execute_result"
    }
   ],
   "source": [
    "data.head()"
   ]
  },
  {
   "cell_type": "code",
   "execution_count": 5,
   "id": "7c7b10e9",
   "metadata": {},
   "outputs": [],
   "source": [
    "data = data[['experience', 'job_description', 'job_desig', 'job_type', 'key_skills', 'location', 'salary', 'company_name_encoded']]"
   ]
  },
  {
   "cell_type": "code",
   "execution_count": 6,
   "id": "735f61d7",
   "metadata": {
    "scrolled": true
   },
   "outputs": [
    {
     "name": "stdout",
     "output_type": "stream",
     "text": [
      "<class 'pandas.core.frame.DataFrame'>\n",
      "Int64Index: 26403 entries, 0 to 6600\n",
      "Data columns (total 8 columns):\n",
      " #   Column                Non-Null Count  Dtype \n",
      "---  ------                --------------  ----- \n",
      " 0   experience            26403 non-null  object\n",
      " 1   job_description       20463 non-null  object\n",
      " 2   job_desig             26403 non-null  object\n",
      " 3   job_type              6434 non-null   object\n",
      " 4   key_skills            26402 non-null  object\n",
      " 5   location              26403 non-null  object\n",
      " 6   salary                19802 non-null  object\n",
      " 7   company_name_encoded  26403 non-null  int64 \n",
      "dtypes: int64(1), object(7)\n",
      "memory usage: 1.8+ MB\n"
     ]
    }
   ],
   "source": [
    "data.info()"
   ]
  },
  {
   "cell_type": "code",
   "execution_count": 7,
   "id": "896a66dd",
   "metadata": {},
   "outputs": [
    {
     "data": {
      "text/plain": [
       "experience                  0\n",
       "job_description          5940\n",
       "job_desig                   0\n",
       "job_type                19969\n",
       "key_skills                  1\n",
       "location                    0\n",
       "salary                   6601\n",
       "company_name_encoded        0\n",
       "dtype: int64"
      ]
     },
     "execution_count": 7,
     "metadata": {},
     "output_type": "execute_result"
    }
   ],
   "source": [
    "data.isna().sum()"
   ]
  },
  {
   "cell_type": "code",
   "execution_count": 8,
   "id": "f5626eb9",
   "metadata": {},
   "outputs": [
    {
     "data": {
      "text/plain": [
       "26403"
      ]
     },
     "execution_count": 8,
     "metadata": {},
     "output_type": "execute_result"
    }
   ],
   "source": [
    "len(data)"
   ]
  },
  {
   "cell_type": "markdown",
   "id": "3d060835",
   "metadata": {},
   "source": [
    "##### Data Preprocessing: Skills"
   ]
  },
  {
   "cell_type": "code",
   "execution_count": 9,
   "id": "d9729a41",
   "metadata": {},
   "outputs": [],
   "source": [
    "data['key_skills'] = data['key_skills'] \\\n",
    "    .apply(lambda x: str(x).lower()) \\\n",
    "        .apply(lambda x: re.sub(r'\\...', '', x)) \\\n",
    "            .apply(lambda x: re.sub(r',', '', x)) \\\n",
    "                .apply(lambda x: re.sub(r'\\s+', ' ', x))"
   ]
  },
  {
   "cell_type": "markdown",
   "id": "c2b28357",
   "metadata": {},
   "source": [
    "##### Data Preprocessing: Job_Design"
   ]
  },
  {
   "cell_type": "code",
   "execution_count": 10,
   "id": "42f09640",
   "metadata": {},
   "outputs": [],
   "source": [
    "data['job_desig'] = data['job_desig'] \\\n",
    "    .apply(lambda x: str(x).lower()) \\\n",
    "        .apply(lambda x: re.sub(r'[^a-z]', ' ', x)) \\\n",
    "            .apply(lambda x: re.sub(r'\\s+', ' ', x))"
   ]
  },
  {
   "cell_type": "markdown",
   "id": "10441aa1",
   "metadata": {},
   "source": [
    "##### Data Preprocessing: job_description"
   ]
  },
  {
   "cell_type": "code",
   "execution_count": 11,
   "id": "eba5c730",
   "metadata": {},
   "outputs": [],
   "source": [
    "data['job_description'] = data['job_description'].fillna('missing')\n",
    "data['job_description'] = data['job_description'] \\\n",
    "    .apply(lambda x: str(x).lower()) \\\n",
    "        .apply(lambda x: re.sub(r'[^a-z]', ' ', x)) \\\n",
    "            .apply(lambda x: re.sub(r'\\s+', ' ', x)) \\"
   ]
  },
  {
   "cell_type": "markdown",
   "id": "68d140a0",
   "metadata": {},
   "source": [
    "##### Data Preprocessing: location"
   ]
  },
  {
   "cell_type": "code",
   "execution_count": 12,
   "id": "5196d45c",
   "metadata": {},
   "outputs": [],
   "source": [
    "data['location'] = data['location'] \\\n",
    "    .apply(lambda x: str(x).lower()) \\\n",
    "        .apply(lambda x: re.sub(r'[^a-z]', ' ', x)) \\\n",
    "            .apply(lambda x: re.sub(r'\\s+', ' ', x)) \\"
   ]
  },
  {
   "cell_type": "markdown",
   "id": "7e20627d",
   "metadata": {},
   "source": [
    "##### Data Preprocessing: job_type -> cleaning data"
   ]
  },
  {
   "cell_type": "code",
   "execution_count": 13,
   "id": "f9df093a",
   "metadata": {},
   "outputs": [
    {
     "data": {
      "text/plain": [
       "array([nan, 'Analytics', 'analytics', 'Analytic', 'ANALYTICS', 'analytic'],\n",
       "      dtype=object)"
      ]
     },
     "execution_count": 13,
     "metadata": {},
     "output_type": "execute_result"
    }
   ],
   "source": [
    "train['job_type'].unique()"
   ]
  },
  {
   "cell_type": "code",
   "execution_count": 14,
   "id": "60a80cf3",
   "metadata": {},
   "outputs": [],
   "source": [
    "data['job_type'].fillna('missingjobtype', inplace=True)\n",
    "data['job_type'].replace('Analytics', 'analytics', inplace=True)\n",
    "data['job_type'].replace('Analytic', 'analytics', inplace=True)\n",
    "data['job_type'].replace('ANALYTICS', 'analytics', inplace=True)\n",
    "data['job_type'].replace('analytic', 'analytics', inplace=True)"
   ]
  },
  {
   "cell_type": "markdown",
   "id": "fc05016d",
   "metadata": {},
   "source": [
    "##### Data Preprocessing: experience"
   ]
  },
  {
   "cell_type": "code",
   "execution_count": 15,
   "id": "15889774",
   "metadata": {},
   "outputs": [
    {
     "data": {
      "text/plain": [
       "14857     4-6 yrs\n",
       "5814      3-6 yrs\n",
       "5272      5-8 yrs\n",
       "5826      1-5 yrs\n",
       "889       5-8 yrs\n",
       "19076     3-5 yrs\n",
       "7142      2-4 yrs\n",
       "531      8-13 yrs\n",
       "18492    6-10 yrs\n",
       "12795    9-12 yrs\n",
       "Name: experience, dtype: object"
      ]
     },
     "execution_count": 15,
     "metadata": {},
     "output_type": "execute_result"
    }
   ],
   "source": [
    "data['experience'].sample(10)"
   ]
  },
  {
   "cell_type": "code",
   "execution_count": 16,
   "id": "06a7c065",
   "metadata": {},
   "outputs": [],
   "source": [
    "data['min_exp'] = data['experience'].apply(lambda x: x.split('-')[0]).astype('int')\n",
    "data['max_exp'] = data['experience'].apply(lambda x: x.split('-')[1].split(' ')[0]).astype('int')\n",
    "data.drop(columns = ['experience'], inplace = True)"
   ]
  },
  {
   "cell_type": "code",
   "execution_count": 17,
   "id": "2ea3c40f",
   "metadata": {},
   "outputs": [
    {
     "name": "stdout",
     "output_type": "stream",
     "text": [
      "<class 'pandas.core.frame.DataFrame'>\n",
      "Int64Index: 26403 entries, 0 to 6600\n",
      "Data columns (total 9 columns):\n",
      " #   Column                Non-Null Count  Dtype \n",
      "---  ------                --------------  ----- \n",
      " 0   job_description       26403 non-null  object\n",
      " 1   job_desig             26403 non-null  object\n",
      " 2   job_type              26403 non-null  object\n",
      " 3   key_skills            26403 non-null  object\n",
      " 4   location              26403 non-null  object\n",
      " 5   salary                19802 non-null  object\n",
      " 6   company_name_encoded  26403 non-null  int64 \n",
      " 7   min_exp               26403 non-null  int32 \n",
      " 8   max_exp               26403 non-null  int32 \n",
      "dtypes: int32(2), int64(1), object(6)\n",
      "memory usage: 1.8+ MB\n"
     ]
    }
   ],
   "source": [
    "data.info()"
   ]
  },
  {
   "cell_type": "code",
   "execution_count": 18,
   "id": "f1a51728",
   "metadata": {},
   "outputs": [],
   "source": [
    "data['merged'] = (data['job_desig'] + ' ' + data['job_description'] + ' ' + data['key_skills'] + ' ' + data['job_type'])"
   ]
  },
  {
   "cell_type": "code",
   "execution_count": 19,
   "id": "d234bbb9",
   "metadata": {},
   "outputs": [],
   "source": [
    "data.drop(columns = ['job_desig', 'job_description', 'key_skills', 'job_type'], inplace = True)"
   ]
  },
  {
   "cell_type": "code",
   "execution_count": 20,
   "id": "c9b1f428",
   "metadata": {},
   "outputs": [
    {
     "data": {
      "text/html": [
       "<div>\n",
       "<style scoped>\n",
       "    .dataframe tbody tr th:only-of-type {\n",
       "        vertical-align: middle;\n",
       "    }\n",
       "\n",
       "    .dataframe tbody tr th {\n",
       "        vertical-align: top;\n",
       "    }\n",
       "\n",
       "    .dataframe thead th {\n",
       "        text-align: right;\n",
       "    }\n",
       "</style>\n",
       "<table border=\"1\" class=\"dataframe\">\n",
       "  <thead>\n",
       "    <tr style=\"text-align: right;\">\n",
       "      <th></th>\n",
       "      <th>location</th>\n",
       "      <th>salary</th>\n",
       "      <th>company_name_encoded</th>\n",
       "      <th>min_exp</th>\n",
       "      <th>max_exp</th>\n",
       "      <th>merged</th>\n",
       "    </tr>\n",
       "  </thead>\n",
       "  <tbody>\n",
       "    <tr>\n",
       "      <th>0</th>\n",
       "      <td>delhi ncr vikas puri</td>\n",
       "      <td>6to10</td>\n",
       "      <td>3687</td>\n",
       "      <td>5</td>\n",
       "      <td>7</td>\n",
       "      <td>senior exploit and vulnerability researcher ex...</td>\n",
       "    </tr>\n",
       "    <tr>\n",
       "      <th>1</th>\n",
       "      <td>sonepat</td>\n",
       "      <td>10to15</td>\n",
       "      <td>458</td>\n",
       "      <td>10</td>\n",
       "      <td>17</td>\n",
       "      <td>head scm he should have handled a team of atle...</td>\n",
       "    </tr>\n",
       "    <tr>\n",
       "      <th>2</th>\n",
       "      <td>delhi ncr</td>\n",
       "      <td>15to25</td>\n",
       "      <td>4195</td>\n",
       "      <td>5</td>\n",
       "      <td>9</td>\n",
       "      <td>deputy manager talent management leadership de...</td>\n",
       "    </tr>\n",
       "    <tr>\n",
       "      <th>3</th>\n",
       "      <td>bengaluru</td>\n",
       "      <td>10to15</td>\n",
       "      <td>313</td>\n",
       "      <td>7</td>\n",
       "      <td>10</td>\n",
       "      <td>associate manager data engineering  years of o...</td>\n",
       "    </tr>\n",
       "    <tr>\n",
       "      <th>4</th>\n",
       "      <td>gurgaon</td>\n",
       "      <td>3to6</td>\n",
       "      <td>1305</td>\n",
       "      <td>1</td>\n",
       "      <td>3</td>\n",
       "      <td>ts gsa senior analyst chartered accountancy de...</td>\n",
       "    </tr>\n",
       "    <tr>\n",
       "      <th>...</th>\n",
       "      <td>...</td>\n",
       "      <td>...</td>\n",
       "      <td>...</td>\n",
       "      <td>...</td>\n",
       "      <td>...</td>\n",
       "      <td>...</td>\n",
       "    </tr>\n",
       "    <tr>\n",
       "      <th>6596</th>\n",
       "      <td>mumbai</td>\n",
       "      <td>NaN</td>\n",
       "      <td>2692</td>\n",
       "      <td>4</td>\n",
       "      <td>7</td>\n",
       "      <td>business analyst implementation p p s p erp sc...</td>\n",
       "    </tr>\n",
       "    <tr>\n",
       "      <th>6597</th>\n",
       "      <td>gurgaon</td>\n",
       "      <td>NaN</td>\n",
       "      <td>104</td>\n",
       "      <td>1</td>\n",
       "      <td>5</td>\n",
       "      <td>sap basis administration missing crm scm srm c...</td>\n",
       "    </tr>\n",
       "    <tr>\n",
       "      <th>6598</th>\n",
       "      <td>mumbai</td>\n",
       "      <td>NaN</td>\n",
       "      <td>2025</td>\n",
       "      <td>5</td>\n",
       "      <td>10</td>\n",
       "      <td>apps store developer lead android ios ovi stor...</td>\n",
       "    </tr>\n",
       "    <tr>\n",
       "      <th>6599</th>\n",
       "      <td>hyderabad</td>\n",
       "      <td>NaN</td>\n",
       "      <td>2512</td>\n",
       "      <td>7</td>\n",
       "      <td>12</td>\n",
       "      <td>associate scientific liasion scientific liasio...</td>\n",
       "    </tr>\n",
       "    <tr>\n",
       "      <th>6600</th>\n",
       "      <td>bengaluru</td>\n",
       "      <td>NaN</td>\n",
       "      <td>464</td>\n",
       "      <td>3</td>\n",
       "      <td>8</td>\n",
       "      <td>webmethods developer  years of experience desi...</td>\n",
       "    </tr>\n",
       "  </tbody>\n",
       "</table>\n",
       "<p>26403 rows × 6 columns</p>\n",
       "</div>"
      ],
      "text/plain": [
       "                   location  salary  company_name_encoded  min_exp  max_exp  \\\n",
       "0     delhi ncr vikas puri    6to10                  3687        5        7   \n",
       "1                   sonepat  10to15                   458       10       17   \n",
       "2                 delhi ncr  15to25                  4195        5        9   \n",
       "3                 bengaluru  10to15                   313        7       10   \n",
       "4                   gurgaon    3to6                  1305        1        3   \n",
       "...                     ...     ...                   ...      ...      ...   \n",
       "6596                 mumbai     NaN                  2692        4        7   \n",
       "6597                gurgaon     NaN                   104        1        5   \n",
       "6598                 mumbai     NaN                  2025        5       10   \n",
       "6599              hyderabad     NaN                  2512        7       12   \n",
       "6600              bengaluru     NaN                   464        3        8   \n",
       "\n",
       "                                                 merged  \n",
       "0     senior exploit and vulnerability researcher ex...  \n",
       "1     head scm he should have handled a team of atle...  \n",
       "2     deputy manager talent management leadership de...  \n",
       "3     associate manager data engineering  years of o...  \n",
       "4     ts gsa senior analyst chartered accountancy de...  \n",
       "...                                                 ...  \n",
       "6596  business analyst implementation p p s p erp sc...  \n",
       "6597  sap basis administration missing crm scm srm c...  \n",
       "6598  apps store developer lead android ios ovi stor...  \n",
       "6599  associate scientific liasion scientific liasio...  \n",
       "6600  webmethods developer  years of experience desi...  \n",
       "\n",
       "[26403 rows x 6 columns]"
      ]
     },
     "execution_count": 20,
     "metadata": {},
     "output_type": "execute_result"
    }
   ],
   "source": [
    "data"
   ]
  },
  {
   "cell_type": "markdown",
   "id": "9ac603ff",
   "metadata": {},
   "source": [
    "##### LabelEncoder on location and salary"
   ]
  },
  {
   "cell_type": "code",
   "execution_count": 21,
   "id": "c27c1fb7",
   "metadata": {},
   "outputs": [],
   "source": [
    "from sklearn.preprocessing import LabelEncoder\n",
    "LE = LabelEncoder()\n",
    "data['salary'] = LE.fit_transform(data['salary'])"
   ]
  },
  {
   "cell_type": "code",
   "execution_count": 22,
   "id": "75138bbe",
   "metadata": {},
   "outputs": [],
   "source": [
    "y_data = data.pop('salary').values"
   ]
  },
  {
   "cell_type": "markdown",
   "id": "14bb0a1b",
   "metadata": {},
   "source": [
    "##### StandardScaler"
   ]
  },
  {
   "cell_type": "code",
   "execution_count": 23,
   "id": "c8e684e2",
   "metadata": {},
   "outputs": [],
   "source": [
    "from sklearn.preprocessing import StandardScaler"
   ]
  },
  {
   "cell_type": "code",
   "execution_count": 24,
   "id": "d64c38a2",
   "metadata": {},
   "outputs": [],
   "source": [
    "for col in ['min_exp', 'max_exp']:\n",
    "    data[col] = StandardScaler().fit_transform(data[col].values.reshape(-1, 1))"
   ]
  },
  {
   "cell_type": "markdown",
   "id": "03911f28",
   "metadata": {},
   "source": [
    "##### TF-IDF"
   ]
  },
  {
   "cell_type": "code",
   "execution_count": 25,
   "id": "dffdb608",
   "metadata": {},
   "outputs": [],
   "source": [
    "from sklearn.feature_extraction.text import TfidfVectorizer, CountVectorizer\n",
    "from scipy import sparse"
   ]
  },
  {
   "cell_type": "code",
   "execution_count": 26,
   "id": "56cf48c9",
   "metadata": {},
   "outputs": [],
   "source": [
    "tf1 = TfidfVectorizer(min_df=3, token_pattern=r'\\w{3,}', ngram_range=(1,3), max_df=0.9)\n",
    "data_merged = tf1.fit_transform(data['merged'])"
   ]
  },
  {
   "cell_type": "code",
   "execution_count": 27,
   "id": "6f1d8fa0",
   "metadata": {},
   "outputs": [],
   "source": [
    "tf2 = TfidfVectorizer(min_df=2, token_pattern=r'\\w{3,}')\n",
    "data_loc = tf2.fit_transform(data['location'])"
   ]
  },
  {
   "cell_type": "code",
   "execution_count": 28,
   "id": "779f02a7",
   "metadata": {},
   "outputs": [],
   "source": [
    "data = sparse.csr_matrix(data[['company_name_encoded', 'min_exp', 'max_exp']].values)"
   ]
  },
  {
   "cell_type": "code",
   "execution_count": 29,
   "id": "74d4f50d",
   "metadata": {},
   "outputs": [],
   "source": [
    "data = hstack((data, data_merged, data_loc)).toarray()"
   ]
  },
  {
   "cell_type": "markdown",
   "id": "f3e09f10",
   "metadata": {},
   "source": [
    "##### Splitting data"
   ]
  },
  {
   "cell_type": "code",
   "execution_count": 30,
   "id": "21ec5347",
   "metadata": {},
   "outputs": [],
   "source": [
    "X_train = data[:len(train)]\n",
    "X_test = data[len(train):]"
   ]
  },
  {
   "cell_type": "code",
   "execution_count": 31,
   "id": "239cc263",
   "metadata": {},
   "outputs": [],
   "source": [
    "y_train = y_data[:len(train)]"
   ]
  },
  {
   "cell_type": "code",
   "execution_count": 32,
   "id": "5670318e",
   "metadata": {},
   "outputs": [
    {
     "data": {
      "text/plain": [
       "(19802, 6601, 19802)"
      ]
     },
     "execution_count": 32,
     "metadata": {},
     "output_type": "execute_result"
    }
   ],
   "source": [
    "len(X_train), len(X_test), len(y_train)"
   ]
  },
  {
   "cell_type": "code",
   "execution_count": 33,
   "id": "340c2ec1",
   "metadata": {},
   "outputs": [],
   "source": [
    "import lightgbm as lgb\n",
    "train_data = lgb.Dataset(X_train, label=y_train)"
   ]
  },
  {
   "cell_type": "code",
   "execution_count": 34,
   "id": "4e33c7da",
   "metadata": {},
   "outputs": [],
   "source": [
    "param = {'objective': 'multiclass',\n",
    "         'num_iterations': 80,\n",
    "         'learning_rate': 0.04,  \n",
    "         'num_leaves': 23,\n",
    "         'max_depth': 7, \n",
    "         'min_data_in_leaf': 28, \n",
    "         'max_bin': 10, \n",
    "         'min_data_in_bin': 3,   \n",
    "         'num_class': 6,\n",
    "         'metric': 'multi_logloss'\n",
    "         }"
   ]
  },
  {
   "cell_type": "code",
   "execution_count": 35,
   "id": "344f4d30",
   "metadata": {},
   "outputs": [
    {
     "name": "stdout",
     "output_type": "stream",
     "text": [
      "[LightGBM] [Info] Auto-choosing col-wise multi-threading, the overhead of testing was 0.076686 seconds.\n",
      "You can set `force_col_wise=true` to remove the overhead.\n",
      "[LightGBM] [Info] Total Bins 37843\n",
      "[LightGBM] [Info] Number of data points in the train set: 19802, number of used features: 3849\n",
      "[LightGBM] [Info] Start training from score -1.808668\n",
      "[LightGBM] [Info] Start training from score -1.481706\n",
      "[LightGBM] [Info] Start training from score -1.568717\n",
      "[LightGBM] [Info] Start training from score -2.531528\n",
      "[LightGBM] [Info] Start training from score -1.947629\n",
      "[LightGBM] [Info] Start training from score -1.723636\n",
      "[LightGBM] [Warning] No further splits with positive gain, best gain: -inf\n",
      "[LightGBM] [Warning] No further splits with positive gain, best gain: -inf\n",
      "[LightGBM] [Warning] No further splits with positive gain, best gain: -inf\n",
      "[LightGBM] [Warning] No further splits with positive gain, best gain: -inf\n",
      "[LightGBM] [Warning] No further splits with positive gain, best gain: -inf\n",
      "[LightGBM] [Warning] No further splits with positive gain, best gain: -inf\n",
      "[LightGBM] [Warning] No further splits with positive gain, best gain: -inf\n",
      "[LightGBM] [Warning] No further splits with positive gain, best gain: -inf\n",
      "[LightGBM] [Warning] No further splits with positive gain, best gain: -inf\n",
      "[LightGBM] [Warning] No further splits with positive gain, best gain: -inf\n",
      "[LightGBM] [Warning] No further splits with positive gain, best gain: -inf\n",
      "[LightGBM] [Warning] No further splits with positive gain, best gain: -inf\n",
      "[LightGBM] [Warning] No further splits with positive gain, best gain: -inf\n",
      "[LightGBM] [Warning] No further splits with positive gain, best gain: -inf\n",
      "[LightGBM] [Warning] No further splits with positive gain, best gain: -inf\n",
      "[LightGBM] [Warning] No further splits with positive gain, best gain: -inf\n",
      "[LightGBM] [Warning] No further splits with positive gain, best gain: -inf\n"
     ]
    }
   ],
   "source": [
    "lgbm = lgb.train(params=param,\n",
    "                 train_set=train_data,\n",
    "                 num_boost_round=100)"
   ]
  },
  {
   "cell_type": "markdown",
   "id": "5da48099",
   "metadata": {},
   "source": [
    "##### Accuracy on train"
   ]
  },
  {
   "cell_type": "code",
   "execution_count": 36,
   "id": "0da0f832",
   "metadata": {},
   "outputs": [],
   "source": [
    "from sklearn.metrics import accuracy_score, classification_report, confusion_matrix"
   ]
  },
  {
   "cell_type": "code",
   "execution_count": 37,
   "id": "9053f29e",
   "metadata": {},
   "outputs": [
    {
     "name": "stdout",
     "output_type": "stream",
     "text": [
      "accuracy: 0.5292394707605292\n"
     ]
    }
   ],
   "source": [
    "y_pred = lgbm.predict(X_train)\n",
    "predictions = []\n",
    "for x in y_pred:\n",
    "    predictions.append(np.argmax(x))\n",
    "\n",
    "print('accuracy:', accuracy_score(y_train, predictions))"
   ]
  },
  {
   "cell_type": "markdown",
   "id": "e227e329",
   "metadata": {},
   "source": [
    "##### Accuracy on test"
   ]
  },
  {
   "cell_type": "code",
   "execution_count": 38,
   "id": "9d18cd1d",
   "metadata": {},
   "outputs": [],
   "source": [
    "y_pred_test = lgbm.predict(X_test)\n",
    "predictions = []\n",
    "for x in y_pred_test:\n",
    "    predictions.append(np.argmax(x))"
   ]
  },
  {
   "cell_type": "code",
   "execution_count": 39,
   "id": "88d0ea57",
   "metadata": {},
   "outputs": [
    {
     "data": {
      "text/html": [
       "<div>\n",
       "<style scoped>\n",
       "    .dataframe tbody tr th:only-of-type {\n",
       "        vertical-align: middle;\n",
       "    }\n",
       "\n",
       "    .dataframe tbody tr th {\n",
       "        vertical-align: top;\n",
       "    }\n",
       "\n",
       "    .dataframe thead th {\n",
       "        text-align: right;\n",
       "    }\n",
       "</style>\n",
       "<table border=\"1\" class=\"dataframe\">\n",
       "  <thead>\n",
       "    <tr style=\"text-align: right;\">\n",
       "      <th></th>\n",
       "      <th>salary</th>\n",
       "    </tr>\n",
       "  </thead>\n",
       "  <tbody>\n",
       "    <tr>\n",
       "      <th>0</th>\n",
       "      <td>15to25</td>\n",
       "    </tr>\n",
       "    <tr>\n",
       "      <th>1</th>\n",
       "      <td>0to3</td>\n",
       "    </tr>\n",
       "    <tr>\n",
       "      <th>2</th>\n",
       "      <td>6to10</td>\n",
       "    </tr>\n",
       "    <tr>\n",
       "      <th>3</th>\n",
       "      <td>0to3</td>\n",
       "    </tr>\n",
       "    <tr>\n",
       "      <th>4</th>\n",
       "      <td>0to3</td>\n",
       "    </tr>\n",
       "    <tr>\n",
       "      <th>...</th>\n",
       "      <td>...</td>\n",
       "    </tr>\n",
       "    <tr>\n",
       "      <th>6596</th>\n",
       "      <td>10to15</td>\n",
       "    </tr>\n",
       "    <tr>\n",
       "      <th>6597</th>\n",
       "      <td>6to10</td>\n",
       "    </tr>\n",
       "    <tr>\n",
       "      <th>6598</th>\n",
       "      <td>15to25</td>\n",
       "    </tr>\n",
       "    <tr>\n",
       "      <th>6599</th>\n",
       "      <td>15to25</td>\n",
       "    </tr>\n",
       "    <tr>\n",
       "      <th>6600</th>\n",
       "      <td>15to25</td>\n",
       "    </tr>\n",
       "  </tbody>\n",
       "</table>\n",
       "<p>6601 rows × 1 columns</p>\n",
       "</div>"
      ],
      "text/plain": [
       "      salary\n",
       "0     15to25\n",
       "1       0to3\n",
       "2      6to10\n",
       "3       0to3\n",
       "4       0to3\n",
       "...      ...\n",
       "6596  10to15\n",
       "6597   6to10\n",
       "6598  15to25\n",
       "6599  15to25\n",
       "6600  15to25\n",
       "\n",
       "[6601 rows x 1 columns]"
      ]
     },
     "execution_count": 39,
     "metadata": {},
     "output_type": "execute_result"
    }
   ],
   "source": [
    "op = pd.DataFrame()\n",
    "op['salary'] = LE.inverse_transform(predictions)\n",
    "op"
   ]
  },
  {
   "cell_type": "code",
   "execution_count": 40,
   "id": "359ffece",
   "metadata": {},
   "outputs": [],
   "source": [
    "op.to_csv('submissions.csv', index = False)"
   ]
  },
  {
   "cell_type": "code",
   "execution_count": null,
   "id": "a5a17727",
   "metadata": {},
   "outputs": [],
   "source": []
  },
  {
   "cell_type": "code",
   "execution_count": null,
   "id": "c7876514",
   "metadata": {},
   "outputs": [],
   "source": []
  }
 ],
 "metadata": {
  "kernelspec": {
   "display_name": "Python 3 (ipykernel)",
   "language": "python",
   "name": "python3"
  },
  "language_info": {
   "codemirror_mode": {
    "name": "ipython",
    "version": 3
   },
   "file_extension": ".py",
   "mimetype": "text/x-python",
   "name": "python",
   "nbconvert_exporter": "python",
   "pygments_lexer": "ipython3",
   "version": "3.7.16"
  }
 },
 "nbformat": 4,
 "nbformat_minor": 5
}
