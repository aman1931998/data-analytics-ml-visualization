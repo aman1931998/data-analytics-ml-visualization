{
 "cells": [
  {
   "cell_type": "code",
   "execution_count": 1,
   "metadata": {
    "_cell_guid": "b1076dfc-b9ad-4769-8c92-a6c4dae69d19",
    "_uuid": "8f2839f25d086af736a60e9eeb907d3b93b6e0e5"
   },
   "outputs": [
    {
     "name": "stdout",
     "output_type": "stream",
     "text": [
      "/kaggle/input/machine-hack-house-price-prediction/Test.csv\n",
      "/kaggle/input/machine-hack-house-price-prediction/sample_submission.csv\n",
      "/kaggle/input/machine-hack-house-price-prediction/Train.csv\n"
     ]
    }
   ],
   "source": [
    "# This Python 3 environment comes with many helpful analytics libraries installed\n",
    "# It is defined by the kaggle/python Docker image: https://github.com/kaggle/docker-python\n",
    "# For example, here's several helpful packages to load\n",
    "\n",
    "import numpy as np # linear algebra\n",
    "import pandas as pd # data processing, CSV file I/O (e.g. pd.read_csv)\n",
    "\n",
    "# Input data files are available in the read-only \"../input/\" directory\n",
    "# For example, running this (by clicking run or pressing Shift+Enter) will list all files under the input directory\n",
    "\n",
    "import os\n",
    "for dirname, _, filenames in os.walk('/kaggle/input'):\n",
    "    for filename in filenames:\n",
    "        print(os.path.join(dirname, filename))\n",
    "\n",
    "# You can write up to 5GB to the current directory (/kaggle/working/) that gets preserved as output when you create a version using \"Save & Run All\" \n",
    "# You can also write temporary files to /kaggle/temp/, but they won't be saved outside of the current session"
   ]
  },
  {
   "cell_type": "code",
   "execution_count": 2,
   "metadata": {
    "_cell_guid": "79c7e3d0-c299-4dcb-8224-4455121ee9b0",
    "_uuid": "d629ff2d2480ee46fbb7e2d37f6b5fab8052498a"
   },
   "outputs": [],
   "source": [
    "#importing the libraries\n",
    "import pandas as pd\n",
    "import numpy as np\n",
    "import matplotlib.pyplot as plt\n",
    "import seaborn as sns\n",
    "from catboost import CatBoostRegressor\n",
    "from xgboost import XGBRegressor\n",
    "from lightgbm import LGBMRegressor\n",
    "from sklearn.model_selection import train_test_split\n",
    "from sklearn.metrics import mean_squared_log_error\n",
    "from sklearn.model_selection import KFold\n",
    "%matplotlib inline"
   ]
  },
  {
   "cell_type": "code",
   "execution_count": 3,
   "metadata": {},
   "outputs": [],
   "source": [
    "# to see all the comands result in a single kernal \n",
    "%load_ext autoreload\n",
    "%autoreload 2\n",
    "from IPython.core.interactiveshell import InteractiveShell\n",
    "InteractiveShell.ast_node_interactivity = \"all\""
   ]
  },
  {
   "cell_type": "code",
   "execution_count": 4,
   "metadata": {},
   "outputs": [],
   "source": [
    "# to increase no. of rows and column visibility in outputs\n",
    "pd.set_option('display.max_rows', 500)\n",
    "pd.set_option('display.max_columns', 500)\n",
    "pd.set_option('display.width', 1000)"
   ]
  },
  {
   "cell_type": "code",
   "execution_count": 5,
   "metadata": {},
   "outputs": [
    {
     "data": {
      "text/plain": [
       "(29451, 12)"
      ]
     },
     "execution_count": 5,
     "metadata": {},
     "output_type": "execute_result"
    },
    {
     "data": {
      "text/plain": [
       "(68720, 11)"
      ]
     },
     "execution_count": 5,
     "metadata": {},
     "output_type": "execute_result"
    },
    {
     "data": {
      "text/plain": [
       "(68720, 1)"
      ]
     },
     "execution_count": 5,
     "metadata": {},
     "output_type": "execute_result"
    }
   ],
   "source": [
    "train=pd.read_csv(\"../input/machine-hack-house-price-prediction/Train.csv\")\n",
    "test=pd.read_csv(\"../input/machine-hack-house-price-prediction/Test.csv\")\n",
    "sub=pd.read_csv('../input/machine-hack-house-price-prediction/sample_submission.csv')\n",
    "train.shape\n",
    "test.shape\n",
    "sub.shape"
   ]
  },
  {
   "cell_type": "code",
   "execution_count": 6,
   "metadata": {},
   "outputs": [
    {
     "data": {
      "text/html": [
       "<div>\n",
       "<style scoped>\n",
       "    .dataframe tbody tr th:only-of-type {\n",
       "        vertical-align: middle;\n",
       "    }\n",
       "\n",
       "    .dataframe tbody tr th {\n",
       "        vertical-align: top;\n",
       "    }\n",
       "\n",
       "    .dataframe thead th {\n",
       "        text-align: right;\n",
       "    }\n",
       "</style>\n",
       "<table border=\"1\" class=\"dataframe\">\n",
       "  <thead>\n",
       "    <tr style=\"text-align: right;\">\n",
       "      <th></th>\n",
       "      <th>TARGET(PRICE_IN_LACS)</th>\n",
       "    </tr>\n",
       "  </thead>\n",
       "  <tbody>\n",
       "    <tr>\n",
       "      <th>0</th>\n",
       "      <td>0.0</td>\n",
       "    </tr>\n",
       "    <tr>\n",
       "      <th>1</th>\n",
       "      <td>0.0</td>\n",
       "    </tr>\n",
       "    <tr>\n",
       "      <th>2</th>\n",
       "      <td>0.0</td>\n",
       "    </tr>\n",
       "    <tr>\n",
       "      <th>3</th>\n",
       "      <td>0.0</td>\n",
       "    </tr>\n",
       "    <tr>\n",
       "      <th>4</th>\n",
       "      <td>0.0</td>\n",
       "    </tr>\n",
       "  </tbody>\n",
       "</table>\n",
       "</div>"
      ],
      "text/plain": [
       "   TARGET(PRICE_IN_LACS)\n",
       "0                    0.0\n",
       "1                    0.0\n",
       "2                    0.0\n",
       "3                    0.0\n",
       "4                    0.0"
      ]
     },
     "execution_count": 6,
     "metadata": {},
     "output_type": "execute_result"
    },
    {
     "data": {
      "text/html": [
       "<div>\n",
       "<style scoped>\n",
       "    .dataframe tbody tr th:only-of-type {\n",
       "        vertical-align: middle;\n",
       "    }\n",
       "\n",
       "    .dataframe tbody tr th {\n",
       "        vertical-align: top;\n",
       "    }\n",
       "\n",
       "    .dataframe thead th {\n",
       "        text-align: right;\n",
       "    }\n",
       "</style>\n",
       "<table border=\"1\" class=\"dataframe\">\n",
       "  <thead>\n",
       "    <tr style=\"text-align: right;\">\n",
       "      <th></th>\n",
       "      <th>POSTED_BY</th>\n",
       "      <th>UNDER_CONSTRUCTION</th>\n",
       "      <th>RERA</th>\n",
       "      <th>BHK_NO.</th>\n",
       "      <th>BHK_OR_RK</th>\n",
       "      <th>SQUARE_FT</th>\n",
       "      <th>READY_TO_MOVE</th>\n",
       "      <th>RESALE</th>\n",
       "      <th>ADDRESS</th>\n",
       "      <th>LONGITUDE</th>\n",
       "      <th>LATITUDE</th>\n",
       "      <th>TARGET(PRICE_IN_LACS)</th>\n",
       "    </tr>\n",
       "  </thead>\n",
       "  <tbody>\n",
       "    <tr>\n",
       "      <th>0</th>\n",
       "      <td>Owner</td>\n",
       "      <td>0</td>\n",
       "      <td>0</td>\n",
       "      <td>2</td>\n",
       "      <td>BHK</td>\n",
       "      <td>1300.236407</td>\n",
       "      <td>1</td>\n",
       "      <td>1</td>\n",
       "      <td>Ksfc Layout,Bangalore</td>\n",
       "      <td>12.969910</td>\n",
       "      <td>77.597960</td>\n",
       "      <td>55.0</td>\n",
       "    </tr>\n",
       "    <tr>\n",
       "      <th>1</th>\n",
       "      <td>Dealer</td>\n",
       "      <td>0</td>\n",
       "      <td>0</td>\n",
       "      <td>2</td>\n",
       "      <td>BHK</td>\n",
       "      <td>1275.000000</td>\n",
       "      <td>1</td>\n",
       "      <td>1</td>\n",
       "      <td>Vishweshwara Nagar,Mysore</td>\n",
       "      <td>12.274538</td>\n",
       "      <td>76.644605</td>\n",
       "      <td>51.0</td>\n",
       "    </tr>\n",
       "    <tr>\n",
       "      <th>2</th>\n",
       "      <td>Owner</td>\n",
       "      <td>0</td>\n",
       "      <td>0</td>\n",
       "      <td>2</td>\n",
       "      <td>BHK</td>\n",
       "      <td>933.159722</td>\n",
       "      <td>1</td>\n",
       "      <td>1</td>\n",
       "      <td>Jigani,Bangalore</td>\n",
       "      <td>12.778033</td>\n",
       "      <td>77.632191</td>\n",
       "      <td>43.0</td>\n",
       "    </tr>\n",
       "    <tr>\n",
       "      <th>3</th>\n",
       "      <td>Owner</td>\n",
       "      <td>0</td>\n",
       "      <td>1</td>\n",
       "      <td>2</td>\n",
       "      <td>BHK</td>\n",
       "      <td>929.921143</td>\n",
       "      <td>1</td>\n",
       "      <td>1</td>\n",
       "      <td>Sector-1 Vaishali,Ghaziabad</td>\n",
       "      <td>28.642300</td>\n",
       "      <td>77.344500</td>\n",
       "      <td>62.5</td>\n",
       "    </tr>\n",
       "    <tr>\n",
       "      <th>4</th>\n",
       "      <td>Dealer</td>\n",
       "      <td>1</td>\n",
       "      <td>0</td>\n",
       "      <td>2</td>\n",
       "      <td>BHK</td>\n",
       "      <td>999.009247</td>\n",
       "      <td>0</td>\n",
       "      <td>1</td>\n",
       "      <td>New Town,Kolkata</td>\n",
       "      <td>22.592200</td>\n",
       "      <td>88.484911</td>\n",
       "      <td>60.5</td>\n",
       "    </tr>\n",
       "  </tbody>\n",
       "</table>\n",
       "</div>"
      ],
      "text/plain": [
       "  POSTED_BY  UNDER_CONSTRUCTION  RERA  BHK_NO. BHK_OR_RK    SQUARE_FT  READY_TO_MOVE  RESALE                      ADDRESS  LONGITUDE   LATITUDE  TARGET(PRICE_IN_LACS)\n",
       "0     Owner                   0     0        2       BHK  1300.236407              1       1        Ksfc Layout,Bangalore  12.969910  77.597960                   55.0\n",
       "1    Dealer                   0     0        2       BHK  1275.000000              1       1    Vishweshwara Nagar,Mysore  12.274538  76.644605                   51.0\n",
       "2     Owner                   0     0        2       BHK   933.159722              1       1             Jigani,Bangalore  12.778033  77.632191                   43.0\n",
       "3     Owner                   0     1        2       BHK   929.921143              1       1  Sector-1 Vaishali,Ghaziabad  28.642300  77.344500                   62.5\n",
       "4    Dealer                   1     0        2       BHK   999.009247              0       1             New Town,Kolkata  22.592200  88.484911                   60.5"
      ]
     },
     "execution_count": 6,
     "metadata": {},
     "output_type": "execute_result"
    },
    {
     "data": {
      "text/html": [
       "<div>\n",
       "<style scoped>\n",
       "    .dataframe tbody tr th:only-of-type {\n",
       "        vertical-align: middle;\n",
       "    }\n",
       "\n",
       "    .dataframe tbody tr th {\n",
       "        vertical-align: top;\n",
       "    }\n",
       "\n",
       "    .dataframe thead th {\n",
       "        text-align: right;\n",
       "    }\n",
       "</style>\n",
       "<table border=\"1\" class=\"dataframe\">\n",
       "  <thead>\n",
       "    <tr style=\"text-align: right;\">\n",
       "      <th></th>\n",
       "      <th>POSTED_BY</th>\n",
       "      <th>UNDER_CONSTRUCTION</th>\n",
       "      <th>RERA</th>\n",
       "      <th>BHK_NO.</th>\n",
       "      <th>BHK_OR_RK</th>\n",
       "      <th>SQUARE_FT</th>\n",
       "      <th>READY_TO_MOVE</th>\n",
       "      <th>RESALE</th>\n",
       "      <th>ADDRESS</th>\n",
       "      <th>LONGITUDE</th>\n",
       "      <th>LATITUDE</th>\n",
       "      <th>TARGET(PRICE_IN_LACS)</th>\n",
       "    </tr>\n",
       "  </thead>\n",
       "  <tbody>\n",
       "    <tr>\n",
       "      <th>29446</th>\n",
       "      <td>Owner</td>\n",
       "      <td>0</td>\n",
       "      <td>0</td>\n",
       "      <td>3</td>\n",
       "      <td>BHK</td>\n",
       "      <td>2500.000000</td>\n",
       "      <td>1</td>\n",
       "      <td>1</td>\n",
       "      <td>Shamshabad Road,Agra</td>\n",
       "      <td>27.140626</td>\n",
       "      <td>78.043277</td>\n",
       "      <td>45.0</td>\n",
       "    </tr>\n",
       "    <tr>\n",
       "      <th>29447</th>\n",
       "      <td>Owner</td>\n",
       "      <td>0</td>\n",
       "      <td>0</td>\n",
       "      <td>2</td>\n",
       "      <td>BHK</td>\n",
       "      <td>769.230769</td>\n",
       "      <td>1</td>\n",
       "      <td>1</td>\n",
       "      <td>E3-108, Lake View Recidency,,Vapi</td>\n",
       "      <td>39.945409</td>\n",
       "      <td>-86.150721</td>\n",
       "      <td>16.0</td>\n",
       "    </tr>\n",
       "    <tr>\n",
       "      <th>29448</th>\n",
       "      <td>Dealer</td>\n",
       "      <td>0</td>\n",
       "      <td>0</td>\n",
       "      <td>2</td>\n",
       "      <td>BHK</td>\n",
       "      <td>1022.641509</td>\n",
       "      <td>1</td>\n",
       "      <td>1</td>\n",
       "      <td>Ajmer Road,Jaipur</td>\n",
       "      <td>26.928785</td>\n",
       "      <td>75.828002</td>\n",
       "      <td>27.1</td>\n",
       "    </tr>\n",
       "    <tr>\n",
       "      <th>29449</th>\n",
       "      <td>Owner</td>\n",
       "      <td>0</td>\n",
       "      <td>0</td>\n",
       "      <td>2</td>\n",
       "      <td>BHK</td>\n",
       "      <td>927.079009</td>\n",
       "      <td>1</td>\n",
       "      <td>1</td>\n",
       "      <td>Sholinganallur,Chennai</td>\n",
       "      <td>12.900150</td>\n",
       "      <td>80.227910</td>\n",
       "      <td>67.0</td>\n",
       "    </tr>\n",
       "    <tr>\n",
       "      <th>29450</th>\n",
       "      <td>Dealer</td>\n",
       "      <td>0</td>\n",
       "      <td>1</td>\n",
       "      <td>2</td>\n",
       "      <td>BHK</td>\n",
       "      <td>896.774194</td>\n",
       "      <td>1</td>\n",
       "      <td>1</td>\n",
       "      <td>Jagatpura,Jaipur</td>\n",
       "      <td>26.832353</td>\n",
       "      <td>75.841749</td>\n",
       "      <td>27.8</td>\n",
       "    </tr>\n",
       "  </tbody>\n",
       "</table>\n",
       "</div>"
      ],
      "text/plain": [
       "      POSTED_BY  UNDER_CONSTRUCTION  RERA  BHK_NO. BHK_OR_RK    SQUARE_FT  READY_TO_MOVE  RESALE                            ADDRESS  LONGITUDE   LATITUDE  TARGET(PRICE_IN_LACS)\n",
       "29446     Owner                   0     0        3       BHK  2500.000000              1       1               Shamshabad Road,Agra  27.140626  78.043277                   45.0\n",
       "29447     Owner                   0     0        2       BHK   769.230769              1       1  E3-108, Lake View Recidency,,Vapi  39.945409 -86.150721                   16.0\n",
       "29448    Dealer                   0     0        2       BHK  1022.641509              1       1                  Ajmer Road,Jaipur  26.928785  75.828002                   27.1\n",
       "29449     Owner                   0     0        2       BHK   927.079009              1       1             Sholinganallur,Chennai  12.900150  80.227910                   67.0\n",
       "29450    Dealer                   0     1        2       BHK   896.774194              1       1                   Jagatpura,Jaipur  26.832353  75.841749                   27.8"
      ]
     },
     "execution_count": 6,
     "metadata": {},
     "output_type": "execute_result"
    },
    {
     "data": {
      "text/html": [
       "<div>\n",
       "<style scoped>\n",
       "    .dataframe tbody tr th:only-of-type {\n",
       "        vertical-align: middle;\n",
       "    }\n",
       "\n",
       "    .dataframe tbody tr th {\n",
       "        vertical-align: top;\n",
       "    }\n",
       "\n",
       "    .dataframe thead th {\n",
       "        text-align: right;\n",
       "    }\n",
       "</style>\n",
       "<table border=\"1\" class=\"dataframe\">\n",
       "  <thead>\n",
       "    <tr style=\"text-align: right;\">\n",
       "      <th></th>\n",
       "      <th>POSTED_BY</th>\n",
       "      <th>UNDER_CONSTRUCTION</th>\n",
       "      <th>RERA</th>\n",
       "      <th>BHK_NO.</th>\n",
       "      <th>BHK_OR_RK</th>\n",
       "      <th>SQUARE_FT</th>\n",
       "      <th>READY_TO_MOVE</th>\n",
       "      <th>RESALE</th>\n",
       "      <th>ADDRESS</th>\n",
       "      <th>LONGITUDE</th>\n",
       "      <th>LATITUDE</th>\n",
       "    </tr>\n",
       "  </thead>\n",
       "  <tbody>\n",
       "    <tr>\n",
       "      <th>0</th>\n",
       "      <td>Owner</td>\n",
       "      <td>0</td>\n",
       "      <td>0</td>\n",
       "      <td>1</td>\n",
       "      <td>BHK</td>\n",
       "      <td>545.171340</td>\n",
       "      <td>1</td>\n",
       "      <td>1</td>\n",
       "      <td>Kamrej,Surat</td>\n",
       "      <td>21.262000</td>\n",
       "      <td>73.047700</td>\n",
       "    </tr>\n",
       "    <tr>\n",
       "      <th>1</th>\n",
       "      <td>Dealer</td>\n",
       "      <td>1</td>\n",
       "      <td>1</td>\n",
       "      <td>2</td>\n",
       "      <td>BHK</td>\n",
       "      <td>800.000000</td>\n",
       "      <td>0</td>\n",
       "      <td>0</td>\n",
       "      <td>Panvel,Lalitpur</td>\n",
       "      <td>18.966114</td>\n",
       "      <td>73.148278</td>\n",
       "    </tr>\n",
       "    <tr>\n",
       "      <th>2</th>\n",
       "      <td>Dealer</td>\n",
       "      <td>0</td>\n",
       "      <td>0</td>\n",
       "      <td>2</td>\n",
       "      <td>BHK</td>\n",
       "      <td>1257.096513</td>\n",
       "      <td>1</td>\n",
       "      <td>1</td>\n",
       "      <td>New Town,Kolkata</td>\n",
       "      <td>22.592200</td>\n",
       "      <td>88.484911</td>\n",
       "    </tr>\n",
       "    <tr>\n",
       "      <th>3</th>\n",
       "      <td>Dealer</td>\n",
       "      <td>0</td>\n",
       "      <td>0</td>\n",
       "      <td>3</td>\n",
       "      <td>BHK</td>\n",
       "      <td>1400.329489</td>\n",
       "      <td>1</td>\n",
       "      <td>1</td>\n",
       "      <td>Kalwar Road,Jaipur</td>\n",
       "      <td>26.988300</td>\n",
       "      <td>75.584600</td>\n",
       "    </tr>\n",
       "    <tr>\n",
       "      <th>4</th>\n",
       "      <td>Owner</td>\n",
       "      <td>0</td>\n",
       "      <td>0</td>\n",
       "      <td>1</td>\n",
       "      <td>BHK</td>\n",
       "      <td>430.477830</td>\n",
       "      <td>1</td>\n",
       "      <td>1</td>\n",
       "      <td>Mai Mandir,Nadiad</td>\n",
       "      <td>22.700000</td>\n",
       "      <td>72.870000</td>\n",
       "    </tr>\n",
       "  </tbody>\n",
       "</table>\n",
       "</div>"
      ],
      "text/plain": [
       "  POSTED_BY  UNDER_CONSTRUCTION  RERA  BHK_NO. BHK_OR_RK    SQUARE_FT  READY_TO_MOVE  RESALE             ADDRESS  LONGITUDE   LATITUDE\n",
       "0     Owner                   0     0        1       BHK   545.171340              1       1        Kamrej,Surat  21.262000  73.047700\n",
       "1    Dealer                   1     1        2       BHK   800.000000              0       0     Panvel,Lalitpur  18.966114  73.148278\n",
       "2    Dealer                   0     0        2       BHK  1257.096513              1       1    New Town,Kolkata  22.592200  88.484911\n",
       "3    Dealer                   0     0        3       BHK  1400.329489              1       1  Kalwar Road,Jaipur  26.988300  75.584600\n",
       "4     Owner                   0     0        1       BHK   430.477830              1       1   Mai Mandir,Nadiad  22.700000  72.870000"
      ]
     },
     "execution_count": 6,
     "metadata": {},
     "output_type": "execute_result"
    },
    {
     "data": {
      "text/html": [
       "<div>\n",
       "<style scoped>\n",
       "    .dataframe tbody tr th:only-of-type {\n",
       "        vertical-align: middle;\n",
       "    }\n",
       "\n",
       "    .dataframe tbody tr th {\n",
       "        vertical-align: top;\n",
       "    }\n",
       "\n",
       "    .dataframe thead th {\n",
       "        text-align: right;\n",
       "    }\n",
       "</style>\n",
       "<table border=\"1\" class=\"dataframe\">\n",
       "  <thead>\n",
       "    <tr style=\"text-align: right;\">\n",
       "      <th></th>\n",
       "      <th>POSTED_BY</th>\n",
       "      <th>UNDER_CONSTRUCTION</th>\n",
       "      <th>RERA</th>\n",
       "      <th>BHK_NO.</th>\n",
       "      <th>BHK_OR_RK</th>\n",
       "      <th>SQUARE_FT</th>\n",
       "      <th>READY_TO_MOVE</th>\n",
       "      <th>RESALE</th>\n",
       "      <th>ADDRESS</th>\n",
       "      <th>LONGITUDE</th>\n",
       "      <th>LATITUDE</th>\n",
       "    </tr>\n",
       "  </thead>\n",
       "  <tbody>\n",
       "    <tr>\n",
       "      <th>68715</th>\n",
       "      <td>Dealer</td>\n",
       "      <td>0</td>\n",
       "      <td>1</td>\n",
       "      <td>2</td>\n",
       "      <td>BHK</td>\n",
       "      <td>856.555505</td>\n",
       "      <td>1</td>\n",
       "      <td>1</td>\n",
       "      <td>Thane West,Maharashtra</td>\n",
       "      <td>19.180000</td>\n",
       "      <td>72.963330</td>\n",
       "    </tr>\n",
       "    <tr>\n",
       "      <th>68716</th>\n",
       "      <td>Dealer</td>\n",
       "      <td>0</td>\n",
       "      <td>1</td>\n",
       "      <td>3</td>\n",
       "      <td>BHK</td>\n",
       "      <td>2304.147465</td>\n",
       "      <td>1</td>\n",
       "      <td>1</td>\n",
       "      <td>Sector-66A Mohali,Mohali</td>\n",
       "      <td>30.661104</td>\n",
       "      <td>76.746082</td>\n",
       "    </tr>\n",
       "    <tr>\n",
       "      <th>68717</th>\n",
       "      <td>Dealer</td>\n",
       "      <td>1</td>\n",
       "      <td>1</td>\n",
       "      <td>1</td>\n",
       "      <td>BHK</td>\n",
       "      <td>33362.792750</td>\n",
       "      <td>0</td>\n",
       "      <td>0</td>\n",
       "      <td>Balkum,Maharashtra</td>\n",
       "      <td>19.222101</td>\n",
       "      <td>72.988231</td>\n",
       "    </tr>\n",
       "    <tr>\n",
       "      <th>68718</th>\n",
       "      <td>Dealer</td>\n",
       "      <td>0</td>\n",
       "      <td>0</td>\n",
       "      <td>2</td>\n",
       "      <td>BHK</td>\n",
       "      <td>1173.708920</td>\n",
       "      <td>1</td>\n",
       "      <td>1</td>\n",
       "      <td>Hadapsar,Pune</td>\n",
       "      <td>18.496670</td>\n",
       "      <td>73.941670</td>\n",
       "    </tr>\n",
       "    <tr>\n",
       "      <th>68719</th>\n",
       "      <td>Dealer</td>\n",
       "      <td>0</td>\n",
       "      <td>0</td>\n",
       "      <td>3</td>\n",
       "      <td>BHK</td>\n",
       "      <td>2439.532944</td>\n",
       "      <td>1</td>\n",
       "      <td>1</td>\n",
       "      <td>Hiranandani Gardens - Powai,Mumbai</td>\n",
       "      <td>19.124896</td>\n",
       "      <td>72.893503</td>\n",
       "    </tr>\n",
       "  </tbody>\n",
       "</table>\n",
       "</div>"
      ],
      "text/plain": [
       "      POSTED_BY  UNDER_CONSTRUCTION  RERA  BHK_NO. BHK_OR_RK     SQUARE_FT  READY_TO_MOVE  RESALE                             ADDRESS  LONGITUDE   LATITUDE\n",
       "68715    Dealer                   0     1        2       BHK    856.555505              1       1              Thane West,Maharashtra  19.180000  72.963330\n",
       "68716    Dealer                   0     1        3       BHK   2304.147465              1       1            Sector-66A Mohali,Mohali  30.661104  76.746082\n",
       "68717    Dealer                   1     1        1       BHK  33362.792750              0       0                  Balkum,Maharashtra  19.222101  72.988231\n",
       "68718    Dealer                   0     0        2       BHK   1173.708920              1       1                       Hadapsar,Pune  18.496670  73.941670\n",
       "68719    Dealer                   0     0        3       BHK   2439.532944              1       1  Hiranandani Gardens - Powai,Mumbai  19.124896  72.893503"
      ]
     },
     "execution_count": 6,
     "metadata": {},
     "output_type": "execute_result"
    }
   ],
   "source": [
    "sub.head()\n",
    "train.head()\n",
    "train.tail()\n",
    "test.head()\n",
    "test.tail()"
   ]
  },
  {
   "cell_type": "code",
   "execution_count": 7,
   "metadata": {},
   "outputs": [
    {
     "data": {
      "text/plain": [
       "0"
      ]
     },
     "execution_count": 7,
     "metadata": {},
     "output_type": "execute_result"
    },
    {
     "data": {
      "text/plain": [
       "0"
      ]
     },
     "execution_count": 7,
     "metadata": {},
     "output_type": "execute_result"
    }
   ],
   "source": [
    "# Missing Values\n",
    "train.isnull().sum().sum()\n",
    "test.isnull().sum().sum()"
   ]
  },
  {
   "cell_type": "code",
   "execution_count": 8,
   "metadata": {},
   "outputs": [
    {
     "data": {
      "text/html": [
       "<div>\n",
       "<style scoped>\n",
       "    .dataframe tbody tr th:only-of-type {\n",
       "        vertical-align: middle;\n",
       "    }\n",
       "\n",
       "    .dataframe tbody tr th {\n",
       "        vertical-align: top;\n",
       "    }\n",
       "\n",
       "    .dataframe thead th {\n",
       "        text-align: right;\n",
       "    }\n",
       "</style>\n",
       "<table border=\"1\" class=\"dataframe\">\n",
       "  <thead>\n",
       "    <tr style=\"text-align: right;\">\n",
       "      <th></th>\n",
       "      <th>UNDER_CONSTRUCTION</th>\n",
       "      <th>RERA</th>\n",
       "      <th>BHK_NO.</th>\n",
       "      <th>SQUARE_FT</th>\n",
       "      <th>READY_TO_MOVE</th>\n",
       "      <th>RESALE</th>\n",
       "      <th>LONGITUDE</th>\n",
       "      <th>LATITUDE</th>\n",
       "      <th>TARGET(PRICE_IN_LACS)</th>\n",
       "    </tr>\n",
       "  </thead>\n",
       "  <tbody>\n",
       "    <tr>\n",
       "      <th>count</th>\n",
       "      <td>29451.000000</td>\n",
       "      <td>29451.000000</td>\n",
       "      <td>29451.000000</td>\n",
       "      <td>2.945100e+04</td>\n",
       "      <td>29451.000000</td>\n",
       "      <td>29451.000000</td>\n",
       "      <td>29451.000000</td>\n",
       "      <td>29451.000000</td>\n",
       "      <td>29451.000000</td>\n",
       "    </tr>\n",
       "    <tr>\n",
       "      <th>mean</th>\n",
       "      <td>0.179756</td>\n",
       "      <td>0.317918</td>\n",
       "      <td>2.392279</td>\n",
       "      <td>1.980217e+04</td>\n",
       "      <td>0.820244</td>\n",
       "      <td>0.929578</td>\n",
       "      <td>21.300255</td>\n",
       "      <td>76.837695</td>\n",
       "      <td>142.898746</td>\n",
       "    </tr>\n",
       "    <tr>\n",
       "      <th>std</th>\n",
       "      <td>0.383991</td>\n",
       "      <td>0.465675</td>\n",
       "      <td>0.879091</td>\n",
       "      <td>1.901335e+06</td>\n",
       "      <td>0.383991</td>\n",
       "      <td>0.255861</td>\n",
       "      <td>6.205306</td>\n",
       "      <td>10.557747</td>\n",
       "      <td>656.880713</td>\n",
       "    </tr>\n",
       "    <tr>\n",
       "      <th>min</th>\n",
       "      <td>0.000000</td>\n",
       "      <td>0.000000</td>\n",
       "      <td>1.000000</td>\n",
       "      <td>3.000000e+00</td>\n",
       "      <td>0.000000</td>\n",
       "      <td>0.000000</td>\n",
       "      <td>-37.713008</td>\n",
       "      <td>-121.761248</td>\n",
       "      <td>0.250000</td>\n",
       "    </tr>\n",
       "    <tr>\n",
       "      <th>25%</th>\n",
       "      <td>0.000000</td>\n",
       "      <td>0.000000</td>\n",
       "      <td>2.000000</td>\n",
       "      <td>9.000211e+02</td>\n",
       "      <td>1.000000</td>\n",
       "      <td>1.000000</td>\n",
       "      <td>18.452663</td>\n",
       "      <td>73.798100</td>\n",
       "      <td>38.000000</td>\n",
       "    </tr>\n",
       "    <tr>\n",
       "      <th>50%</th>\n",
       "      <td>0.000000</td>\n",
       "      <td>0.000000</td>\n",
       "      <td>2.000000</td>\n",
       "      <td>1.175057e+03</td>\n",
       "      <td>1.000000</td>\n",
       "      <td>1.000000</td>\n",
       "      <td>20.750000</td>\n",
       "      <td>77.324137</td>\n",
       "      <td>62.000000</td>\n",
       "    </tr>\n",
       "    <tr>\n",
       "      <th>75%</th>\n",
       "      <td>0.000000</td>\n",
       "      <td>1.000000</td>\n",
       "      <td>3.000000</td>\n",
       "      <td>1.550688e+03</td>\n",
       "      <td>1.000000</td>\n",
       "      <td>1.000000</td>\n",
       "      <td>26.900926</td>\n",
       "      <td>77.828740</td>\n",
       "      <td>100.000000</td>\n",
       "    </tr>\n",
       "    <tr>\n",
       "      <th>max</th>\n",
       "      <td>1.000000</td>\n",
       "      <td>1.000000</td>\n",
       "      <td>20.000000</td>\n",
       "      <td>2.545455e+08</td>\n",
       "      <td>1.000000</td>\n",
       "      <td>1.000000</td>\n",
       "      <td>59.912884</td>\n",
       "      <td>152.962676</td>\n",
       "      <td>30000.000000</td>\n",
       "    </tr>\n",
       "  </tbody>\n",
       "</table>\n",
       "</div>"
      ],
      "text/plain": [
       "       UNDER_CONSTRUCTION          RERA       BHK_NO.     SQUARE_FT  READY_TO_MOVE        RESALE     LONGITUDE      LATITUDE  TARGET(PRICE_IN_LACS)\n",
       "count        29451.000000  29451.000000  29451.000000  2.945100e+04   29451.000000  29451.000000  29451.000000  29451.000000           29451.000000\n",
       "mean             0.179756      0.317918      2.392279  1.980217e+04       0.820244      0.929578     21.300255     76.837695             142.898746\n",
       "std              0.383991      0.465675      0.879091  1.901335e+06       0.383991      0.255861      6.205306     10.557747             656.880713\n",
       "min              0.000000      0.000000      1.000000  3.000000e+00       0.000000      0.000000    -37.713008   -121.761248               0.250000\n",
       "25%              0.000000      0.000000      2.000000  9.000211e+02       1.000000      1.000000     18.452663     73.798100              38.000000\n",
       "50%              0.000000      0.000000      2.000000  1.175057e+03       1.000000      1.000000     20.750000     77.324137              62.000000\n",
       "75%              0.000000      1.000000      3.000000  1.550688e+03       1.000000      1.000000     26.900926     77.828740             100.000000\n",
       "max              1.000000      1.000000     20.000000  2.545455e+08       1.000000      1.000000     59.912884    152.962676           30000.000000"
      ]
     },
     "execution_count": 8,
     "metadata": {},
     "output_type": "execute_result"
    },
    {
     "data": {
      "text/html": [
       "<div>\n",
       "<style scoped>\n",
       "    .dataframe tbody tr th:only-of-type {\n",
       "        vertical-align: middle;\n",
       "    }\n",
       "\n",
       "    .dataframe tbody tr th {\n",
       "        vertical-align: top;\n",
       "    }\n",
       "\n",
       "    .dataframe thead th {\n",
       "        text-align: right;\n",
       "    }\n",
       "</style>\n",
       "<table border=\"1\" class=\"dataframe\">\n",
       "  <thead>\n",
       "    <tr style=\"text-align: right;\">\n",
       "      <th></th>\n",
       "      <th>UNDER_CONSTRUCTION</th>\n",
       "      <th>RERA</th>\n",
       "      <th>BHK_NO.</th>\n",
       "      <th>SQUARE_FT</th>\n",
       "      <th>READY_TO_MOVE</th>\n",
       "      <th>RESALE</th>\n",
       "      <th>LONGITUDE</th>\n",
       "      <th>LATITUDE</th>\n",
       "    </tr>\n",
       "  </thead>\n",
       "  <tbody>\n",
       "    <tr>\n",
       "      <th>count</th>\n",
       "      <td>68720.000000</td>\n",
       "      <td>68720.000000</td>\n",
       "      <td>68720.000000</td>\n",
       "      <td>6.872000e+04</td>\n",
       "      <td>68720.000000</td>\n",
       "      <td>68720.000000</td>\n",
       "      <td>68720.000000</td>\n",
       "      <td>68720.000000</td>\n",
       "    </tr>\n",
       "    <tr>\n",
       "      <th>mean</th>\n",
       "      <td>0.176557</td>\n",
       "      <td>0.316531</td>\n",
       "      <td>2.388198</td>\n",
       "      <td>2.762419e+03</td>\n",
       "      <td>0.823443</td>\n",
       "      <td>0.933498</td>\n",
       "      <td>21.288045</td>\n",
       "      <td>76.919388</td>\n",
       "    </tr>\n",
       "    <tr>\n",
       "      <th>std</th>\n",
       "      <td>0.381296</td>\n",
       "      <td>0.465126</td>\n",
       "      <td>0.864577</td>\n",
       "      <td>1.640991e+05</td>\n",
       "      <td>0.381296</td>\n",
       "      <td>0.249159</td>\n",
       "      <td>6.179034</td>\n",
       "      <td>10.100950</td>\n",
       "    </tr>\n",
       "    <tr>\n",
       "      <th>min</th>\n",
       "      <td>0.000000</td>\n",
       "      <td>0.000000</td>\n",
       "      <td>1.000000</td>\n",
       "      <td>1.000000e+00</td>\n",
       "      <td>0.000000</td>\n",
       "      <td>0.000000</td>\n",
       "      <td>-38.391261</td>\n",
       "      <td>-118.354100</td>\n",
       "    </tr>\n",
       "    <tr>\n",
       "      <th>25%</th>\n",
       "      <td>0.000000</td>\n",
       "      <td>0.000000</td>\n",
       "      <td>2.000000</td>\n",
       "      <td>9.000310e+02</td>\n",
       "      <td>1.000000</td>\n",
       "      <td>1.000000</td>\n",
       "      <td>18.452663</td>\n",
       "      <td>73.798100</td>\n",
       "    </tr>\n",
       "    <tr>\n",
       "      <th>50%</th>\n",
       "      <td>0.000000</td>\n",
       "      <td>0.000000</td>\n",
       "      <td>2.000000</td>\n",
       "      <td>1.174982e+03</td>\n",
       "      <td>1.000000</td>\n",
       "      <td>1.000000</td>\n",
       "      <td>20.933260</td>\n",
       "      <td>77.324966</td>\n",
       "    </tr>\n",
       "    <tr>\n",
       "      <th>75%</th>\n",
       "      <td>0.000000</td>\n",
       "      <td>1.000000</td>\n",
       "      <td>3.000000</td>\n",
       "      <td>1.550265e+03</td>\n",
       "      <td>1.000000</td>\n",
       "      <td>1.000000</td>\n",
       "      <td>26.888396</td>\n",
       "      <td>78.000723</td>\n",
       "    </tr>\n",
       "    <tr>\n",
       "      <th>max</th>\n",
       "      <td>1.000000</td>\n",
       "      <td>1.000000</td>\n",
       "      <td>31.000000</td>\n",
       "      <td>4.016393e+07</td>\n",
       "      <td>1.000000</td>\n",
       "      <td>1.000000</td>\n",
       "      <td>65.183330</td>\n",
       "      <td>175.278040</td>\n",
       "    </tr>\n",
       "  </tbody>\n",
       "</table>\n",
       "</div>"
      ],
      "text/plain": [
       "       UNDER_CONSTRUCTION          RERA       BHK_NO.     SQUARE_FT  READY_TO_MOVE        RESALE     LONGITUDE      LATITUDE\n",
       "count        68720.000000  68720.000000  68720.000000  6.872000e+04   68720.000000  68720.000000  68720.000000  68720.000000\n",
       "mean             0.176557      0.316531      2.388198  2.762419e+03       0.823443      0.933498     21.288045     76.919388\n",
       "std              0.381296      0.465126      0.864577  1.640991e+05       0.381296      0.249159      6.179034     10.100950\n",
       "min              0.000000      0.000000      1.000000  1.000000e+00       0.000000      0.000000    -38.391261   -118.354100\n",
       "25%              0.000000      0.000000      2.000000  9.000310e+02       1.000000      1.000000     18.452663     73.798100\n",
       "50%              0.000000      0.000000      2.000000  1.174982e+03       1.000000      1.000000     20.933260     77.324966\n",
       "75%              0.000000      1.000000      3.000000  1.550265e+03       1.000000      1.000000     26.888396     78.000723\n",
       "max              1.000000      1.000000     31.000000  4.016393e+07       1.000000      1.000000     65.183330    175.278040"
      ]
     },
     "execution_count": 8,
     "metadata": {},
     "output_type": "execute_result"
    }
   ],
   "source": [
    "train.describe()\n",
    "test.describe()"
   ]
  },
  {
   "cell_type": "code",
   "execution_count": 9,
   "metadata": {},
   "outputs": [
    {
     "name": "stdout",
     "output_type": "stream",
     "text": [
      "<class 'pandas.core.frame.DataFrame'>\n",
      "RangeIndex: 29451 entries, 0 to 29450\n",
      "Data columns (total 12 columns):\n",
      " #   Column                 Non-Null Count  Dtype  \n",
      "---  ------                 --------------  -----  \n",
      " 0   POSTED_BY              29451 non-null  object \n",
      " 1   UNDER_CONSTRUCTION     29451 non-null  int64  \n",
      " 2   RERA                   29451 non-null  int64  \n",
      " 3   BHK_NO.                29451 non-null  int64  \n",
      " 4   BHK_OR_RK              29451 non-null  object \n",
      " 5   SQUARE_FT              29451 non-null  float64\n",
      " 6   READY_TO_MOVE          29451 non-null  int64  \n",
      " 7   RESALE                 29451 non-null  int64  \n",
      " 8   ADDRESS                29451 non-null  object \n",
      " 9   LONGITUDE              29451 non-null  float64\n",
      " 10  LATITUDE               29451 non-null  float64\n",
      " 11  TARGET(PRICE_IN_LACS)  29451 non-null  float64\n",
      "dtypes: float64(4), int64(5), object(3)\n",
      "memory usage: 2.7+ MB\n",
      "<class 'pandas.core.frame.DataFrame'>\n",
      "RangeIndex: 68720 entries, 0 to 68719\n",
      "Data columns (total 11 columns):\n",
      " #   Column              Non-Null Count  Dtype  \n",
      "---  ------              --------------  -----  \n",
      " 0   POSTED_BY           68720 non-null  object \n",
      " 1   UNDER_CONSTRUCTION  68720 non-null  int64  \n",
      " 2   RERA                68720 non-null  int64  \n",
      " 3   BHK_NO.             68720 non-null  int64  \n",
      " 4   BHK_OR_RK           68720 non-null  object \n",
      " 5   SQUARE_FT           68720 non-null  float64\n",
      " 6   READY_TO_MOVE       68720 non-null  int64  \n",
      " 7   RESALE              68720 non-null  int64  \n",
      " 8   ADDRESS             68720 non-null  object \n",
      " 9   LONGITUDE           68720 non-null  float64\n",
      " 10  LATITUDE            68720 non-null  float64\n",
      "dtypes: float64(3), int64(5), object(3)\n",
      "memory usage: 5.8+ MB\n"
     ]
    }
   ],
   "source": [
    "train.info()\n",
    "test.info()"
   ]
  },
  {
   "cell_type": "code",
   "execution_count": 10,
   "metadata": {},
   "outputs": [],
   "source": [
    "#there are duplicates between test and train, for those rows we can directly use train target values\n",
    "#storing the target values of common rows in test and train\n",
    "temp1=''\n",
    "for i in test.columns:\n",
    "    temp1=temp1+train[i].astype(str)\n",
    "train['ALL']=temp1\n",
    "temp2=''\n",
    "for i in test.columns:\n",
    "    temp2=temp2+test[i].astype(str)\n",
    "test['ALL']=temp2\n",
    "encoding=train.groupby('ALL')['TARGET(PRICE_IN_LACS)'].median()\n",
    "y_from_train=test['ALL'].map(encoding)"
   ]
  },
  {
   "cell_type": "code",
   "execution_count": 11,
   "metadata": {},
   "outputs": [
    {
     "data": {
      "text/plain": [
       "2286"
      ]
     },
     "execution_count": 11,
     "metadata": {},
     "output_type": "execute_result"
    }
   ],
   "source": [
    "#no. of rows which were directly replaced\n",
    "len(test)-y_from_train.isnull().sum()"
   ]
  },
  {
   "cell_type": "code",
   "execution_count": 12,
   "metadata": {},
   "outputs": [],
   "source": [
    "train=train.drop('ALL',1)\n",
    "test=test.drop('ALL',1)"
   ]
  },
  {
   "cell_type": "code",
   "execution_count": 13,
   "metadata": {},
   "outputs": [
    {
     "data": {
      "text/plain": [
       "Dealer     18291\n",
       "Owner      10538\n",
       "Builder      622\n",
       "Name: POSTED_BY, dtype: int64"
      ]
     },
     "execution_count": 13,
     "metadata": {},
     "output_type": "execute_result"
    },
    {
     "data": {
      "text/plain": [
       "Dealer     42437\n",
       "Owner      24920\n",
       "Builder     1363\n",
       "Name: POSTED_BY, dtype: int64"
      ]
     },
     "execution_count": 13,
     "metadata": {},
     "output_type": "execute_result"
    }
   ],
   "source": [
    "train['POSTED_BY'].value_counts()\n",
    "test['POSTED_BY'].value_counts()"
   ]
  },
  {
   "cell_type": "code",
   "execution_count": 14,
   "metadata": {},
   "outputs": [
    {
     "data": {
      "image/png": "[encoded data removed]",
      "text/plain": [
       "<Figure size 432x288 with 1 Axes>"
      ]
     },
     "metadata": {
      "needs_background": "light"
     },
     "output_type": "display_data"
    }
   ],
   "source": [
    "sns.countplot(train['POSTED_BY']);"
   ]
  },
  {
   "cell_type": "code",
   "execution_count": 15,
   "metadata": {},
   "outputs": [
    {
     "data": {
      "text/plain": [
       "0    24157\n",
       "1     5294\n",
       "Name: UNDER_CONSTRUCTION, dtype: int64"
      ]
     },
     "execution_count": 15,
     "metadata": {},
     "output_type": "execute_result"
    },
    {
     "data": {
      "text/plain": [
       "0    56587\n",
       "1    12133\n",
       "Name: UNDER_CONSTRUCTION, dtype: int64"
      ]
     },
     "execution_count": 15,
     "metadata": {},
     "output_type": "execute_result"
    }
   ],
   "source": [
    "train['UNDER_CONSTRUCTION'].value_counts()\n",
    "test['UNDER_CONSTRUCTION'].value_counts()"
   ]
  },
  {
   "cell_type": "code",
   "execution_count": 16,
   "metadata": {},
   "outputs": [
    {
     "data": {
      "image/png": "[encoded data removed]",
      "text/plain": [
       "<Figure size 432x288 with 1 Axes>"
      ]
     },
     "metadata": {
      "needs_background": "light"
     },
     "output_type": "display_data"
    }
   ],
   "source": [
    "sns.countplot(train['UNDER_CONSTRUCTION']);"
   ]
  },
  {
   "cell_type": "code",
   "execution_count": 17,
   "metadata": {},
   "outputs": [
    {
     "data": {
      "text/plain": [
       "array([0, 1])"
      ]
     },
     "execution_count": 17,
     "metadata": {},
     "output_type": "execute_result"
    },
    {
     "data": {
      "text/plain": [
       "array([0, 1])"
      ]
     },
     "execution_count": 17,
     "metadata": {},
     "output_type": "execute_result"
    }
   ],
   "source": [
    "train['RERA'].unique()\n",
    "test['RERA'].unique()"
   ]
  },
  {
   "cell_type": "code",
   "execution_count": 18,
   "metadata": {},
   "outputs": [
    {
     "data": {
      "image/png": "[encoded data removed]",
      "text/plain": [
       "<Figure size 432x288 with 1 Axes>"
      ]
     },
     "metadata": {
      "needs_background": "light"
     },
     "output_type": "display_data"
    }
   ],
   "source": [
    "sns.countplot(train['RERA']);"
   ]
  },
  {
   "cell_type": "code",
   "execution_count": 19,
   "metadata": {},
   "outputs": [
    {
     "data": {
      "image/png": "[encoded data removed]",
      "text/plain": [
       "<Figure size 432x288 with 1 Axes>"
      ]
     },
     "metadata": {
      "needs_background": "light"
     },
     "output_type": "display_data"
    }
   ],
   "source": [
    "sns.countplot(train['BHK_NO.']);"
   ]
  },
  {
   "cell_type": "code",
   "execution_count": 20,
   "metadata": {},
   "outputs": [
    {
     "data": {
      "text/plain": [
       "2     13324\n",
       "3     10546\n",
       "1      3574\n",
       "4      1723\n",
       "5       190\n",
       "6        52\n",
       "7        11\n",
       "8        10\n",
       "15        4\n",
       "10        4\n",
       "20        4\n",
       "12        3\n",
       "9         3\n",
       "13        1\n",
       "11        1\n",
       "17        1\n",
       "Name: BHK_NO., dtype: int64"
      ]
     },
     "execution_count": 20,
     "metadata": {},
     "output_type": "execute_result"
    },
    {
     "data": {
      "text/plain": [
       "2     30998\n",
       "3     24756\n",
       "1      8383\n",
       "4      4001\n",
       "5       394\n",
       "6       106\n",
       "7        17\n",
       "8        15\n",
       "9        13\n",
       "12       13\n",
       "10        8\n",
       "20        6\n",
       "11        4\n",
       "13        3\n",
       "16        1\n",
       "18        1\n",
       "31        1\n",
       "Name: BHK_NO., dtype: int64"
      ]
     },
     "execution_count": 20,
     "metadata": {},
     "output_type": "execute_result"
    }
   ],
   "source": [
    "train['BHK_NO.'].value_counts()\n",
    "test['BHK_NO.'].value_counts()"
   ]
  },
  {
   "cell_type": "code",
   "execution_count": 36,
   "metadata": {},
   "outputs": [
    {
     "data": {
      "text/plain": [
       "BHK_NO.\n",
       "1    3.557568\n",
       "2    4.008759\n",
       "3    4.515954\n",
       "4    5.335098\n",
       "5    5.798208\n",
       "6    5.882959\n",
       "Name: TARGET(PRICE_IN_LACS), dtype: float64"
      ]
     },
     "execution_count": 36,
     "metadata": {},
     "output_type": "execute_result"
    }
   ],
   "source": [
    "train.groupby('BHK_NO.')['TARGET(PRICE_IN_LACS)'].mean()"
   ]
  },
  {
   "cell_type": "markdown",
   "metadata": {},
   "source": [
    "Merging Classes of feature BHK_NO."
   ]
  },
  {
   "cell_type": "code",
   "execution_count": 21,
   "metadata": {},
   "outputs": [],
   "source": [
    "train.loc[train['BHK_NO.']>5,'BHK_NO.']=6\n",
    "test.loc[test['BHK_NO.']>5,'BHK_NO.']=6"
   ]
  },
  {
   "cell_type": "code",
   "execution_count": null,
   "metadata": {},
   "outputs": [],
   "source": [
    "train.groupby('BHK_NO.')['TARGET(PRICE_IN_LACS)'].mean()"
   ]
  },
  {
   "cell_type": "code",
   "execution_count": 22,
   "metadata": {},
   "outputs": [
    {
     "data": {
      "image/png": "[encoded data removed]",
      "text/plain": [
       "<Figure size 432x288 with 1 Axes>"
      ]
     },
     "metadata": {
      "needs_background": "light"
     },
     "output_type": "display_data"
    }
   ],
   "source": [
    "sns.boxplot(train['SQUARE_FT']);"
   ]
  },
  {
   "cell_type": "code",
   "execution_count": 23,
   "metadata": {},
   "outputs": [
    {
     "data": {
      "image/png": "[encoded data removed]",
      "text/plain": [
       "<Figure size 432x288 with 1 Axes>"
      ]
     },
     "metadata": {
      "needs_background": "light"
     },
     "output_type": "display_data"
    }
   ],
   "source": [
    "sns.scatterplot(train[train['SQUARE_FT']<100]['SQUARE_FT'],train[train['SQUARE_FT']<100]['TARGET(PRICE_IN_LACS)']);"
   ]
  },
  {
   "cell_type": "code",
   "execution_count": 24,
   "metadata": {},
   "outputs": [
    {
     "data": {
      "image/png": "[encoded data removed]",
      "text/plain": [
       "<Figure size 1440x360 with 1 Axes>"
      ]
     },
     "metadata": {
      "needs_background": "light"
     },
     "output_type": "display_data"
    }
   ],
   "source": [
    "plt.figure(figsize=(20,5))\n",
    "plt.hist(train[train['SQUARE_FT']<100]['SQUARE_FT'],bins=20);"
   ]
  },
  {
   "cell_type": "code",
   "execution_count": 25,
   "metadata": {},
   "outputs": [],
   "source": [
    "train.loc[train['SQUARE_FT']<100,'SQUARE_FT']=train.loc[train['SQUARE_FT']<100,'SQUARE_FT']*10\n",
    "test.loc[test['SQUARE_FT']<100,'SQUARE_FT']=test.loc[test['SQUARE_FT']<100,'SQUARE_FT']*10"
   ]
  },
  {
   "cell_type": "code",
   "execution_count": 26,
   "metadata": {},
   "outputs": [],
   "source": [
    "train.loc[train['SQUARE_FT']<100,'SQUARE_FT']=train.loc[train['SQUARE_FT']<100,'SQUARE_FT']*10\n",
    "test.loc[test['SQUARE_FT']<100,'SQUARE_FT']=test.loc[test['SQUARE_FT']<100,'SQUARE_FT']*10"
   ]
  },
  {
   "cell_type": "code",
   "execution_count": 27,
   "metadata": {},
   "outputs": [],
   "source": [
    "train['SQUARE_FT']=np.log1p(train['SQUARE_FT'])\n",
    "test['SQUARE_FT']=np.log1p(test['SQUARE_FT'])"
   ]
  },
  {
   "cell_type": "code",
   "execution_count": 28,
   "metadata": {},
   "outputs": [
    {
     "data": {
      "text/plain": [
       "1    24157\n",
       "0     5294\n",
       "Name: READY_TO_MOVE, dtype: int64"
      ]
     },
     "execution_count": 28,
     "metadata": {},
     "output_type": "execute_result"
    },
    {
     "data": {
      "text/plain": [
       "1    56587\n",
       "0    12133\n",
       "Name: READY_TO_MOVE, dtype: int64"
      ]
     },
     "execution_count": 28,
     "metadata": {},
     "output_type": "execute_result"
    }
   ],
   "source": [
    "train['READY_TO_MOVE'].value_counts()\n",
    "test['READY_TO_MOVE'].value_counts()"
   ]
  },
  {
   "cell_type": "code",
   "execution_count": 29,
   "metadata": {},
   "outputs": [
    {
     "data": {
      "text/plain": [
       "1    27377\n",
       "0     2074\n",
       "Name: RESALE, dtype: int64"
      ]
     },
     "execution_count": 29,
     "metadata": {},
     "output_type": "execute_result"
    },
    {
     "data": {
      "text/plain": [
       "1    64150\n",
       "0     4570\n",
       "Name: RESALE, dtype: int64"
      ]
     },
     "execution_count": 29,
     "metadata": {},
     "output_type": "execute_result"
    }
   ],
   "source": [
    "train['RESALE'].value_counts()\n",
    "test['RESALE'].value_counts()"
   ]
  },
  {
   "cell_type": "code",
   "execution_count": 30,
   "metadata": {},
   "outputs": [],
   "source": [
    "#encoding object features\n",
    "train['POSTED_BY']=train['POSTED_BY'].replace({'Dealer':2,'Owner':1,'Builder':0})\n",
    "test['POSTED_BY']=test['POSTED_BY'].replace({'Dealer':2,'Owner':1,'Builder':0})\n",
    "train['BHK_OR_RK']=train['BHK_OR_RK'].replace({'BHK':1,'RK':0})\n",
    "test['BHK_OR_RK']=test['BHK_OR_RK'].replace({'BHK':1,'RK':0})"
   ]
  },
  {
   "cell_type": "code",
   "execution_count": 31,
   "metadata": {},
   "outputs": [
    {
     "data": {
      "image/png": "[encoded data removed]",
      "text/plain": [
       "<Figure size 432x288 with 1 Axes>"
      ]
     },
     "metadata": {
      "needs_background": "light"
     },
     "output_type": "display_data"
    }
   ],
   "source": [
    "sns.distplot(train['TARGET(PRICE_IN_LACS)']);"
   ]
  },
  {
   "cell_type": "code",
   "execution_count": 32,
   "metadata": {},
   "outputs": [
    {
     "data": {
      "image/png": "[encoded data removed]",
      "text/plain": [
       "<Figure size 432x288 with 1 Axes>"
      ]
     },
     "metadata": {
      "needs_background": "light"
     },
     "output_type": "display_data"
    }
   ],
   "source": [
    "train['TARGET(PRICE_IN_LACS)']=np.log1p(train['TARGET(PRICE_IN_LACS)'])\n",
    "sns.distplot(train['TARGET(PRICE_IN_LACS)']);"
   ]
  },
  {
   "cell_type": "code",
   "execution_count": 33,
   "metadata": {},
   "outputs": [
    {
     "data": {
      "image/png": "[encoded data removed]",
      "text/plain": [
       "<Figure size 432x288 with 1 Axes>"
      ]
     },
     "metadata": {
      "needs_background": "light"
     },
     "output_type": "display_data"
    }
   ],
   "source": [
    "sns.violinplot(train['TARGET(PRICE_IN_LACS)']);"
   ]
  },
  {
   "cell_type": "code",
   "execution_count": 34,
   "metadata": {},
   "outputs": [
    {
     "data": {
      "image/png": "[encoded data removed]",
      "text/plain": [
       "<Figure size 432x288 with 1 Axes>"
      ]
     },
     "metadata": {
      "needs_background": "light"
     },
     "output_type": "display_data"
    }
   ],
   "source": [
    "sns.scatterplot(x=train['SQUARE_FT'],y=train['TARGET(PRICE_IN_LACS)']);"
   ]
  },
  {
   "cell_type": "code",
   "execution_count": 35,
   "metadata": {},
   "outputs": [
    {
     "data": {
      "image/png": "[encoded data removed]",
      "text/plain": [
       "<Figure size 432x288 with 1 Axes>"
      ]
     },
     "metadata": {
      "needs_background": "light"
     },
     "output_type": "display_data"
    }
   ],
   "source": [
    "sns.scatterplot(train['BHK_NO.'],train['SQUARE_FT'],hue=train['TARGET(PRICE_IN_LACS)']);"
   ]
  },
  {
   "cell_type": "code",
   "execution_count": 37,
   "metadata": {},
   "outputs": [],
   "source": [
    "train['SQUARE_FT_PER_ROOM']=train['SQUARE_FT']/train['BHK_NO.']\n",
    "test['SQUARE_FT_PER_ROOM']=test['SQUARE_FT']/test['BHK_NO.']"
   ]
  },
  {
   "cell_type": "code",
   "execution_count": 38,
   "metadata": {},
   "outputs": [],
   "source": [
    "train['SQUARE_FT_ROOM']=train['SQUARE_FT']*train['BHK_NO.']\n",
    "test['SQUARE_FT_ROOM']=test['SQUARE_FT']*test['BHK_NO.']"
   ]
  },
  {
   "cell_type": "code",
   "execution_count": 39,
   "metadata": {},
   "outputs": [],
   "source": [
    "train['LATITUDE']=train['LONGITUDE']+train['LATITUDE']\n",
    "train['LONGITUDE']=train['LATITUDE']-train['LONGITUDE']\n",
    "train['LATITUDE']=train['LATITUDE']-train['LONGITUDE']\n",
    "\n",
    "test['LATITUDE']=test['LONGITUDE']+test['LATITUDE']\n",
    "test['LONGITUDE']=test['LATITUDE']-test['LONGITUDE']\n",
    "test['LATITUDE']=test['LATITUDE']-test['LONGITUDE']"
   ]
  },
  {
   "cell_type": "code",
   "execution_count": 40,
   "metadata": {},
   "outputs": [
    {
     "data": {
      "image/png": "[encoded data removed]",
      "text/plain": [
       "<Figure size 432x288 with 1 Axes>"
      ]
     },
     "metadata": {
      "needs_background": "light"
     },
     "output_type": "display_data"
    }
   ],
   "source": [
    "sns.scatterplot(train['LONGITUDE'],train['LATITUDE'],hue=train['TARGET(PRICE_IN_LACS)']);"
   ]
  },
  {
   "cell_type": "markdown",
   "metadata": {},
   "source": [
    "Extracting locality and city from address"
   ]
  },
  {
   "cell_type": "code",
   "execution_count": 45,
   "metadata": {},
   "outputs": [],
   "source": [
    "import re\n",
    "def get_city(text):\n",
    "    return text.split(',')[-1]\n",
    "train['CITY']=train['ADDRESS'].apply(get_city)\n",
    "test['CITY']=test['ADDRESS'].apply(get_city)"
   ]
  },
  {
   "cell_type": "code",
   "execution_count": 46,
   "metadata": {},
   "outputs": [],
   "source": [
    "def get_locality(text):\n",
    "    return text.split(',')[-2]\n",
    "train['LOCALITY']=train['ADDRESS'].apply(get_locality)\n",
    "test['LOCALITY']=test['ADDRESS'].apply(get_locality)"
   ]
  },
  {
   "cell_type": "code",
   "execution_count": 47,
   "metadata": {},
   "outputs": [
    {
     "name": "stdout",
     "output_type": "stream",
     "text": [
      "<class 'pandas.core.frame.DataFrame'>\n",
      "RangeIndex: 29451 entries, 0 to 29450\n",
      "Data columns (total 16 columns):\n",
      " #   Column                 Non-Null Count  Dtype  \n",
      "---  ------                 --------------  -----  \n",
      " 0   POSTED_BY              29451 non-null  int64  \n",
      " 1   UNDER_CONSTRUCTION     29451 non-null  int64  \n",
      " 2   RERA                   29451 non-null  int64  \n",
      " 3   BHK_NO.                29451 non-null  int64  \n",
      " 4   BHK_OR_RK              29451 non-null  int64  \n",
      " 5   SQUARE_FT              29451 non-null  float64\n",
      " 6   READY_TO_MOVE          29451 non-null  int64  \n",
      " 7   RESALE                 29451 non-null  int64  \n",
      " 8   ADDRESS                29451 non-null  object \n",
      " 9   LONGITUDE              29451 non-null  float64\n",
      " 10  LATITUDE               29451 non-null  float64\n",
      " 11  TARGET(PRICE_IN_LACS)  29451 non-null  float64\n",
      " 12  SQUARE_FT_PER_ROOM     29451 non-null  float64\n",
      " 13  SQUARE_FT_ROOM         29451 non-null  float64\n",
      " 14  CITY                   29451 non-null  object \n",
      " 15  LOCALITY               29451 non-null  object \n",
      "dtypes: float64(6), int64(7), object(3)\n",
      "memory usage: 3.6+ MB\n",
      "<class 'pandas.core.frame.DataFrame'>\n",
      "RangeIndex: 68720 entries, 0 to 68719\n",
      "Data columns (total 15 columns):\n",
      " #   Column              Non-Null Count  Dtype  \n",
      "---  ------              --------------  -----  \n",
      " 0   POSTED_BY           68720 non-null  int64  \n",
      " 1   UNDER_CONSTRUCTION  68720 non-null  int64  \n",
      " 2   RERA                68720 non-null  int64  \n",
      " 3   BHK_NO.             68720 non-null  int64  \n",
      " 4   BHK_OR_RK           68720 non-null  int64  \n",
      " 5   SQUARE_FT           68720 non-null  float64\n",
      " 6   READY_TO_MOVE       68720 non-null  int64  \n",
      " 7   RESALE              68720 non-null  int64  \n",
      " 8   ADDRESS             68720 non-null  object \n",
      " 9   LONGITUDE           68720 non-null  float64\n",
      " 10  LATITUDE            68720 non-null  float64\n",
      " 11  SQUARE_FT_PER_ROOM  68720 non-null  float64\n",
      " 12  SQUARE_FT_ROOM      68720 non-null  float64\n",
      " 13  CITY                68720 non-null  object \n",
      " 14  LOCALITY            68720 non-null  object \n",
      "dtypes: float64(5), int64(7), object(3)\n",
      "memory usage: 7.9+ MB\n"
     ]
    }
   ],
   "source": [
    "train.info()\n",
    "test.info()"
   ]
  },
  {
   "cell_type": "code",
   "execution_count": 48,
   "metadata": {},
   "outputs": [],
   "source": [
    "train['LOCALITY_SF_MEAN']=train['LOCALITY'].map(pd.concat([train,test],axis=0)\n",
    "                                        .groupby('LOCALITY')['SQUARE_FT'].mean())\n",
    "test['LOCALITY_SF_MEAN']=test['LOCALITY'].map(pd.concat([train,test],axis=0)\n",
    "                                         .groupby('LOCALITY')['SQUARE_FT'].mean())"
   ]
  },
  {
   "cell_type": "code",
   "execution_count": 49,
   "metadata": {},
   "outputs": [],
   "source": [
    "train['LOCALITY_SF_MIN']=train['LOCALITY'].map(pd.concat([train,test],axis=0)\n",
    "                                        .groupby('LOCALITY')['SQUARE_FT'].min())\n",
    "test['LOCALITY_SF_MIN']=test['LOCALITY'].map(pd.concat([train,test],axis=0)\n",
    "                                        .groupby('LOCALITY')['SQUARE_FT'].min())"
   ]
  },
  {
   "cell_type": "code",
   "execution_count": 50,
   "metadata": {},
   "outputs": [],
   "source": [
    "train['LOCALITY_SF_MAX']=train['LOCALITY'].map(pd.concat([train,test],axis=0)\n",
    "                                        .groupby('LOCALITY')['SQUARE_FT'].max())\n",
    "test['LOCALITY_SF_MAX']=test['LOCALITY'].map(pd.concat([train,test],axis=0)\n",
    "                                        .groupby('LOCALITY')['SQUARE_FT'].max())"
   ]
  },
  {
   "cell_type": "code",
   "execution_count": 51,
   "metadata": {},
   "outputs": [],
   "source": [
    "train['LOCALITY_SF_STD']=train['LOCALITY'].map(pd.concat([train,test],axis=0)\n",
    "                                        .groupby('LOCALITY')['SQUARE_FT'].std())\n",
    "test['LOCALITY_SF_STD']=test['LOCALITY'].map(pd.concat([train,test],axis=0)\n",
    "                                        .groupby('LOCALITY')['SQUARE_FT'].std())"
   ]
  },
  {
   "cell_type": "code",
   "execution_count": 52,
   "metadata": {},
   "outputs": [],
   "source": [
    "train['LOCALITY_FT_SF_MEAN']=pd.concat([train,test],axis=0).groupby(['LOCALITY','BHK_OR_RK'])['SQUARE_FT'].transform('mean')[:29451]\n",
    "test['LOCALITY_FT_SF_MEAN']=pd.concat([train,test],axis=0).groupby(['LOCALITY','BHK_OR_RK'])['SQUARE_FT'].transform('mean')[29451:]"
   ]
  },
  {
   "cell_type": "code",
   "execution_count": 53,
   "metadata": {},
   "outputs": [],
   "source": [
    "train['LOCALITY_PB_SF_MEAN']=pd.concat([train,test],axis=0).groupby(['LOCALITY','POSTED_BY'])['SQUARE_FT'].transform('mean')[:29451]\n",
    "test['LOCALITY_PB_SF_MEAN']=pd.concat([train,test],axis=0).groupby(['LOCALITY','POSTED_BY'])['SQUARE_FT'].transform('mean')[29451:]"
   ]
  },
  {
   "cell_type": "code",
   "execution_count": 54,
   "metadata": {},
   "outputs": [],
   "source": [
    "train['LOCALITY_BHKNO_SF_MEAN']=pd.concat([train,test],axis=0).groupby(['LOCALITY','BHK_NO.'])['SQUARE_FT'].transform('mean')[:29451]\n",
    "test['LOCALITY_BHKNO_SF_MEAN']=pd.concat([train,test],axis=0).groupby(['LOCALITY','BHK_NO.'])['SQUARE_FT'].transform('mean')[29451:]"
   ]
  },
  {
   "cell_type": "code",
   "execution_count": 55,
   "metadata": {},
   "outputs": [],
   "source": [
    "from sklearn.model_selection import KFold\n",
    "fold = KFold(n_splits=4, shuffle=True, random_state=2020)\n",
    "for train_index, test_index in fold.split(train, train['TARGET(PRICE_IN_LACS)']):\n",
    "    encoding=train.iloc[train_index].groupby('LOCALITY')['TARGET(PRICE_IN_LACS)'].mean()\n",
    "    train.loc[test_index,'NLOCALITY']=train.loc[test_index,'LOCALITY'].map(encoding)\n",
    "encoding=train.groupby('LOCALITY')['TARGET(PRICE_IN_LACS)'].mean()\n",
    "test['NLOCALITY']=test['LOCALITY'].map(encoding)"
   ]
  },
  {
   "cell_type": "code",
   "execution_count": 56,
   "metadata": {},
   "outputs": [
    {
     "name": "stdout",
     "output_type": "stream",
     "text": [
      "<class 'pandas.core.frame.DataFrame'>\n",
      "RangeIndex: 29451 entries, 0 to 29450\n",
      "Data columns (total 24 columns):\n",
      " #   Column                  Non-Null Count  Dtype  \n",
      "---  ------                  --------------  -----  \n",
      " 0   POSTED_BY               29451 non-null  int64  \n",
      " 1   UNDER_CONSTRUCTION      29451 non-null  int64  \n",
      " 2   RERA                    29451 non-null  int64  \n",
      " 3   BHK_NO.                 29451 non-null  int64  \n",
      " 4   BHK_OR_RK               29451 non-null  int64  \n",
      " 5   SQUARE_FT               29451 non-null  float64\n",
      " 6   READY_TO_MOVE           29451 non-null  int64  \n",
      " 7   RESALE                  29451 non-null  int64  \n",
      " 8   ADDRESS                 29451 non-null  object \n",
      " 9   LONGITUDE               29451 non-null  float64\n",
      " 10  LATITUDE                29451 non-null  float64\n",
      " 11  TARGET(PRICE_IN_LACS)   29451 non-null  float64\n",
      " 12  SQUARE_FT_PER_ROOM      29451 non-null  float64\n",
      " 13  SQUARE_FT_ROOM          29451 non-null  float64\n",
      " 14  CITY                    29451 non-null  object \n",
      " 15  LOCALITY                29451 non-null  object \n",
      " 16  LOCALITY_SF_MEAN        29451 non-null  float64\n",
      " 17  LOCALITY_SF_MIN         29451 non-null  float64\n",
      " 18  LOCALITY_SF_MAX         29451 non-null  float64\n",
      " 19  LOCALITY_SF_STD         27776 non-null  float64\n",
      " 20  LOCALITY_FT_SF_MEAN     29451 non-null  float64\n",
      " 21  LOCALITY_PB_SF_MEAN     29451 non-null  float64\n",
      " 22  LOCALITY_BHKNO_SF_MEAN  29451 non-null  float64\n",
      " 23  NLOCALITY               25776 non-null  float64\n",
      "dtypes: float64(14), int64(7), object(3)\n",
      "memory usage: 5.4+ MB\n",
      "<class 'pandas.core.frame.DataFrame'>\n",
      "RangeIndex: 68720 entries, 0 to 68719\n",
      "Data columns (total 23 columns):\n",
      " #   Column                  Non-Null Count  Dtype  \n",
      "---  ------                  --------------  -----  \n",
      " 0   POSTED_BY               68720 non-null  int64  \n",
      " 1   UNDER_CONSTRUCTION      68720 non-null  int64  \n",
      " 2   RERA                    68720 non-null  int64  \n",
      " 3   BHK_NO.                 68720 non-null  int64  \n",
      " 4   BHK_OR_RK               68720 non-null  int64  \n",
      " 5   SQUARE_FT               68720 non-null  float64\n",
      " 6   READY_TO_MOVE           68720 non-null  int64  \n",
      " 7   RESALE                  68720 non-null  int64  \n",
      " 8   ADDRESS                 68720 non-null  object \n",
      " 9   LONGITUDE               68720 non-null  float64\n",
      " 10  LATITUDE                68720 non-null  float64\n",
      " 11  SQUARE_FT_PER_ROOM      68720 non-null  float64\n",
      " 12  SQUARE_FT_ROOM          68720 non-null  float64\n",
      " 13  CITY                    68720 non-null  object \n",
      " 14  LOCALITY                68720 non-null  object \n",
      " 15  LOCALITY_SF_MEAN        68720 non-null  float64\n",
      " 16  LOCALITY_SF_MIN         68720 non-null  float64\n",
      " 17  LOCALITY_SF_MAX         68720 non-null  float64\n",
      " 18  LOCALITY_SF_STD         64720 non-null  float64\n",
      " 19  LOCALITY_FT_SF_MEAN     68720 non-null  float64\n",
      " 20  LOCALITY_PB_SF_MEAN     68720 non-null  float64\n",
      " 21  LOCALITY_BHKNO_SF_MEAN  68720 non-null  float64\n",
      " 22  NLOCALITY               61156 non-null  float64\n",
      "dtypes: float64(13), int64(7), object(3)\n",
      "memory usage: 12.1+ MB\n"
     ]
    }
   ],
   "source": [
    "train.info()\n",
    "test.info()"
   ]
  },
  {
   "cell_type": "code",
   "execution_count": 57,
   "metadata": {},
   "outputs": [],
   "source": [
    "train=train.drop('LOCALITY',axis=1)\n",
    "test=test.drop('LOCALITY',axis=1)"
   ]
  },
  {
   "cell_type": "code",
   "execution_count": 58,
   "metadata": {},
   "outputs": [],
   "source": [
    "train['CITY_SF_MEAN']=train['CITY'].map(pd.concat([train,test],axis=0)\n",
    "                                        .groupby('CITY')['SQUARE_FT'].mean())\n",
    "test['CITY_SF_MEAN']=test['CITY'].map(pd.concat([train,test],axis=0)\n",
    "                                         .groupby('CITY')['SQUARE_FT'].mean())"
   ]
  },
  {
   "cell_type": "code",
   "execution_count": 59,
   "metadata": {},
   "outputs": [],
   "source": [
    "train['CITY_SF_MIN']=train['CITY'].map(pd.concat([train,test],axis=0)\n",
    "                                        .groupby('CITY')['SQUARE_FT'].min())\n",
    "test['CITY_SF_MIN']=test['CITY'].map(pd.concat([train,test],axis=0)\n",
    "                                        .groupby('CITY')['SQUARE_FT'].min())"
   ]
  },
  {
   "cell_type": "code",
   "execution_count": 60,
   "metadata": {},
   "outputs": [],
   "source": [
    "train['CITY_SF_MAX']=train['CITY'].map(pd.concat([train,test],axis=0)\n",
    "                                        .groupby('CITY')['SQUARE_FT'].max())\n",
    "test['CITY_SF_MAX']=test['CITY'].map(pd.concat([train,test],axis=0)\n",
    "                                        .groupby('CITY')['SQUARE_FT'].max())"
   ]
  },
  {
   "cell_type": "code",
   "execution_count": 61,
   "metadata": {},
   "outputs": [],
   "source": [
    "train['CITY_SF_STD']=train['CITY'].map(pd.concat([train,test],axis=0)\n",
    "                                        .groupby('CITY')['SQUARE_FT'].std())\n",
    "test['CITY_SF_STD']=test['CITY'].map(pd.concat([train,test],axis=0)\n",
    "                                        .groupby('CITY')['SQUARE_FT'].std())"
   ]
  },
  {
   "cell_type": "code",
   "execution_count": 62,
   "metadata": {},
   "outputs": [],
   "source": [
    "train['CITY_PB_SF_MEAN']=pd.concat([train,test],axis=0).groupby(['CITY','POSTED_BY'])['SQUARE_FT'].transform('mean')[:29451]\n",
    "test['CITY_PB_SF_MEAN']=pd.concat([train,test],axis=0).groupby(['CITY','POSTED_BY'])['SQUARE_FT'].transform('mean')[29451:]"
   ]
  },
  {
   "cell_type": "code",
   "execution_count": 63,
   "metadata": {},
   "outputs": [],
   "source": [
    "train['CITY_FT_SF_MEAN']=pd.concat([train,test],axis=0).groupby(['CITY','BHK_OR_RK'])['SQUARE_FT'].transform('mean')[:29451]\n",
    "test['CITY_FT_SF_MEAN']=pd.concat([train,test],axis=0).groupby(['CITY','BHK_OR_RK'])['SQUARE_FT'].transform('mean')[29451:]"
   ]
  },
  {
   "cell_type": "code",
   "execution_count": 64,
   "metadata": {},
   "outputs": [],
   "source": [
    "train['CITY_BHKNO_SF_MEAN']=pd.concat([train,test],axis=0).groupby(['CITY','BHK_NO.'])['SQUARE_FT'].transform('mean')[:29451]\n",
    "test['CITY_BHKNO_SF_MEAN']=pd.concat([train,test],axis=0).groupby(['CITY','BHK_NO.'])['SQUARE_FT'].transform('mean')[29451:]"
   ]
  },
  {
   "cell_type": "code",
   "execution_count": 65,
   "metadata": {},
   "outputs": [],
   "source": [
    "fold = KFold(n_splits=5, shuffle=True, random_state=2020)\n",
    "for train_index, test_index in fold.split(train, train['TARGET(PRICE_IN_LACS)']):\n",
    "    encoding=train.iloc[train_index].groupby('CITY')['TARGET(PRICE_IN_LACS)'].mean()\n",
    "    train.loc[test_index,'NCITY']=train.loc[test_index,'CITY'].map(encoding)\n",
    "encoding=train.groupby('CITY')['TARGET(PRICE_IN_LACS)'].mean()\n",
    "test['NCITY']=test['CITY'].map(encoding)"
   ]
  },
  {
   "cell_type": "code",
   "execution_count": 66,
   "metadata": {},
   "outputs": [],
   "source": [
    "train=train.drop('CITY',axis=1)\n",
    "test=test.drop('CITY',axis=1)"
   ]
  },
  {
   "cell_type": "code",
   "execution_count": 67,
   "metadata": {},
   "outputs": [],
   "source": [
    "train['X']=np.cos(train['LATITUDE'])*np.cos(train['LONGITUDE'])\n",
    "train['Y']=np.cos(train['LATITUDE'])*np.sin(train['LONGITUDE'])\n",
    "train['Z']=np.sin(train['LATITUDE'])\n",
    "test['X']=np.cos(test['LATITUDE'])*np.cos(test['LONGITUDE'])\n",
    "test['Y']=np.cos(test['LATITUDE'])*np.sin(test['LONGITUDE'])\n",
    "test['Z']=np.sin(test['LATITUDE'])"
   ]
  },
  {
   "cell_type": "code",
   "execution_count": 68,
   "metadata": {},
   "outputs": [],
   "source": [
    "drop_cols=['POSTED_BY', 'UNDER_CONSTRUCTION', 'RERA', 'BHK_NO.', 'BHK_OR_RK', 'SQUARE_FT', 'READY_TO_MOVE', 'RESALE', 'LONGITUDE', 'LATITUDE','TARGET(PRICE_IN_LACS)', 'SQUARE_FT_PER_ROOM','SQUARE_FT_ROOM','CITY','X','Y','Z']"
   ]
  },
  {
   "cell_type": "code",
   "execution_count": 69,
   "metadata": {},
   "outputs": [],
   "source": [
    "train=train.drop(['ADDRESS'],axis=1)\n",
    "test=test.drop(['ADDRESS'],axis=1)"
   ]
  },
  {
   "cell_type": "code",
   "execution_count": 70,
   "metadata": {},
   "outputs": [
    {
     "data": {
      "text/plain": [
       "(29384, 32)"
      ]
     },
     "execution_count": 70,
     "metadata": {},
     "output_type": "execute_result"
    }
   ],
   "source": [
    "train=train.drop_duplicates()\n",
    "train.shape"
   ]
  },
  {
   "cell_type": "code",
   "execution_count": 71,
   "metadata": {},
   "outputs": [
    {
     "name": "stdout",
     "output_type": "stream",
     "text": [
      "<class 'pandas.core.frame.DataFrame'>\n",
      "Int64Index: 29384 entries, 0 to 29450\n",
      "Data columns (total 32 columns):\n",
      " #   Column                  Non-Null Count  Dtype  \n",
      "---  ------                  --------------  -----  \n",
      " 0   POSTED_BY               29384 non-null  int64  \n",
      " 1   UNDER_CONSTRUCTION      29384 non-null  int64  \n",
      " 2   RERA                    29384 non-null  int64  \n",
      " 3   BHK_NO.                 29384 non-null  int64  \n",
      " 4   BHK_OR_RK               29384 non-null  int64  \n",
      " 5   SQUARE_FT               29384 non-null  float64\n",
      " 6   READY_TO_MOVE           29384 non-null  int64  \n",
      " 7   RESALE                  29384 non-null  int64  \n",
      " 8   LONGITUDE               29384 non-null  float64\n",
      " 9   LATITUDE                29384 non-null  float64\n",
      " 10  TARGET(PRICE_IN_LACS)   29384 non-null  float64\n",
      " 11  SQUARE_FT_PER_ROOM      29384 non-null  float64\n",
      " 12  SQUARE_FT_ROOM          29384 non-null  float64\n",
      " 13  LOCALITY_SF_MEAN        29384 non-null  float64\n",
      " 14  LOCALITY_SF_MIN         29384 non-null  float64\n",
      " 15  LOCALITY_SF_MAX         29384 non-null  float64\n",
      " 16  LOCALITY_SF_STD         27709 non-null  float64\n",
      " 17  LOCALITY_FT_SF_MEAN     29384 non-null  float64\n",
      " 18  LOCALITY_PB_SF_MEAN     29384 non-null  float64\n",
      " 19  LOCALITY_BHKNO_SF_MEAN  29384 non-null  float64\n",
      " 20  NLOCALITY               25711 non-null  float64\n",
      " 21  CITY_SF_MEAN            29384 non-null  float64\n",
      " 22  CITY_SF_MIN             29384 non-null  float64\n",
      " 23  CITY_SF_MAX             29384 non-null  float64\n",
      " 24  CITY_SF_STD             29364 non-null  float64\n",
      " 25  CITY_PB_SF_MEAN         29384 non-null  float64\n",
      " 26  CITY_FT_SF_MEAN         29384 non-null  float64\n",
      " 27  CITY_BHKNO_SF_MEAN      29384 non-null  float64\n",
      " 28  NCITY                   29306 non-null  float64\n",
      " 29  X                       29384 non-null  float64\n",
      " 30  Y                       29384 non-null  float64\n",
      " 31  Z                       29384 non-null  float64\n",
      "dtypes: float64(25), int64(7)\n",
      "memory usage: 7.4 MB\n",
      "<class 'pandas.core.frame.DataFrame'>\n",
      "RangeIndex: 68720 entries, 0 to 68719\n",
      "Data columns (total 31 columns):\n",
      " #   Column                  Non-Null Count  Dtype  \n",
      "---  ------                  --------------  -----  \n",
      " 0   POSTED_BY               68720 non-null  int64  \n",
      " 1   UNDER_CONSTRUCTION      68720 non-null  int64  \n",
      " 2   RERA                    68720 non-null  int64  \n",
      " 3   BHK_NO.                 68720 non-null  int64  \n",
      " 4   BHK_OR_RK               68720 non-null  int64  \n",
      " 5   SQUARE_FT               68720 non-null  float64\n",
      " 6   READY_TO_MOVE           68720 non-null  int64  \n",
      " 7   RESALE                  68720 non-null  int64  \n",
      " 8   LONGITUDE               68720 non-null  float64\n",
      " 9   LATITUDE                68720 non-null  float64\n",
      " 10  SQUARE_FT_PER_ROOM      68720 non-null  float64\n",
      " 11  SQUARE_FT_ROOM          68720 non-null  float64\n",
      " 12  LOCALITY_SF_MEAN        68720 non-null  float64\n",
      " 13  LOCALITY_SF_MIN         68720 non-null  float64\n",
      " 14  LOCALITY_SF_MAX         68720 non-null  float64\n",
      " 15  LOCALITY_SF_STD         64720 non-null  float64\n",
      " 16  LOCALITY_FT_SF_MEAN     68720 non-null  float64\n",
      " 17  LOCALITY_PB_SF_MEAN     68720 non-null  float64\n",
      " 18  LOCALITY_BHKNO_SF_MEAN  68720 non-null  float64\n",
      " 19  NLOCALITY               61156 non-null  float64\n",
      " 20  CITY_SF_MEAN            68720 non-null  float64\n",
      " 21  CITY_SF_MIN             68720 non-null  float64\n",
      " 22  CITY_SF_MAX             68720 non-null  float64\n",
      " 23  CITY_SF_STD             68693 non-null  float64\n",
      " 24  CITY_PB_SF_MEAN         68720 non-null  float64\n",
      " 25  CITY_FT_SF_MEAN         68720 non-null  float64\n",
      " 26  CITY_BHKNO_SF_MEAN      68720 non-null  float64\n",
      " 27  NCITY                   68595 non-null  float64\n",
      " 28  X                       68720 non-null  float64\n",
      " 29  Y                       68720 non-null  float64\n",
      " 30  Z                       68720 non-null  float64\n",
      "dtypes: float64(24), int64(7)\n",
      "memory usage: 16.3 MB\n"
     ]
    }
   ],
   "source": [
    "train.info()\n",
    "test.info()"
   ]
  },
  {
   "cell_type": "code",
   "execution_count": 72,
   "metadata": {},
   "outputs": [
    {
     "data": {
      "text/html": [
       "<div>\n",
       "<style scoped>\n",
       "    .dataframe tbody tr th:only-of-type {\n",
       "        vertical-align: middle;\n",
       "    }\n",
       "\n",
       "    .dataframe tbody tr th {\n",
       "        vertical-align: top;\n",
       "    }\n",
       "\n",
       "    .dataframe thead th {\n",
       "        text-align: right;\n",
       "    }\n",
       "</style>\n",
       "<table border=\"1\" class=\"dataframe\">\n",
       "  <thead>\n",
       "    <tr style=\"text-align: right;\">\n",
       "      <th></th>\n",
       "      <th>POSTED_BY</th>\n",
       "      <th>UNDER_CONSTRUCTION</th>\n",
       "      <th>RERA</th>\n",
       "      <th>BHK_NO.</th>\n",
       "      <th>BHK_OR_RK</th>\n",
       "      <th>SQUARE_FT</th>\n",
       "      <th>READY_TO_MOVE</th>\n",
       "      <th>RESALE</th>\n",
       "      <th>LONGITUDE</th>\n",
       "      <th>LATITUDE</th>\n",
       "      <th>TARGET(PRICE_IN_LACS)</th>\n",
       "      <th>SQUARE_FT_PER_ROOM</th>\n",
       "      <th>SQUARE_FT_ROOM</th>\n",
       "      <th>LOCALITY_SF_MEAN</th>\n",
       "      <th>LOCALITY_SF_MIN</th>\n",
       "      <th>LOCALITY_SF_MAX</th>\n",
       "      <th>LOCALITY_SF_STD</th>\n",
       "      <th>LOCALITY_FT_SF_MEAN</th>\n",
       "      <th>LOCALITY_PB_SF_MEAN</th>\n",
       "      <th>LOCALITY_BHKNO_SF_MEAN</th>\n",
       "      <th>NLOCALITY</th>\n",
       "      <th>CITY_SF_MEAN</th>\n",
       "      <th>CITY_SF_MIN</th>\n",
       "      <th>CITY_SF_MAX</th>\n",
       "      <th>CITY_SF_STD</th>\n",
       "      <th>CITY_PB_SF_MEAN</th>\n",
       "      <th>CITY_FT_SF_MEAN</th>\n",
       "      <th>CITY_BHKNO_SF_MEAN</th>\n",
       "      <th>NCITY</th>\n",
       "      <th>X</th>\n",
       "      <th>Y</th>\n",
       "      <th>Z</th>\n",
       "    </tr>\n",
       "  </thead>\n",
       "  <tbody>\n",
       "    <tr>\n",
       "      <th>POSTED_BY</th>\n",
       "      <td>1.000000</td>\n",
       "      <td>NaN</td>\n",
       "      <td>NaN</td>\n",
       "      <td>NaN</td>\n",
       "      <td>NaN</td>\n",
       "      <td>NaN</td>\n",
       "      <td>NaN</td>\n",
       "      <td>NaN</td>\n",
       "      <td>NaN</td>\n",
       "      <td>NaN</td>\n",
       "      <td>NaN</td>\n",
       "      <td>NaN</td>\n",
       "      <td>NaN</td>\n",
       "      <td>NaN</td>\n",
       "      <td>NaN</td>\n",
       "      <td>NaN</td>\n",
       "      <td>NaN</td>\n",
       "      <td>NaN</td>\n",
       "      <td>NaN</td>\n",
       "      <td>NaN</td>\n",
       "      <td>NaN</td>\n",
       "      <td>NaN</td>\n",
       "      <td>NaN</td>\n",
       "      <td>NaN</td>\n",
       "      <td>NaN</td>\n",
       "      <td>NaN</td>\n",
       "      <td>NaN</td>\n",
       "      <td>NaN</td>\n",
       "      <td>0.401657</td>\n",
       "      <td>NaN</td>\n",
       "      <td>NaN</td>\n",
       "      <td>NaN</td>\n",
       "    </tr>\n",
       "    <tr>\n",
       "      <th>UNDER_CONSTRUCTION</th>\n",
       "      <td>NaN</td>\n",
       "      <td>1.0</td>\n",
       "      <td>NaN</td>\n",
       "      <td>NaN</td>\n",
       "      <td>NaN</td>\n",
       "      <td>NaN</td>\n",
       "      <td>-1.0</td>\n",
       "      <td>NaN</td>\n",
       "      <td>NaN</td>\n",
       "      <td>NaN</td>\n",
       "      <td>NaN</td>\n",
       "      <td>NaN</td>\n",
       "      <td>NaN</td>\n",
       "      <td>NaN</td>\n",
       "      <td>NaN</td>\n",
       "      <td>NaN</td>\n",
       "      <td>NaN</td>\n",
       "      <td>NaN</td>\n",
       "      <td>NaN</td>\n",
       "      <td>NaN</td>\n",
       "      <td>NaN</td>\n",
       "      <td>NaN</td>\n",
       "      <td>NaN</td>\n",
       "      <td>NaN</td>\n",
       "      <td>NaN</td>\n",
       "      <td>NaN</td>\n",
       "      <td>NaN</td>\n",
       "      <td>NaN</td>\n",
       "      <td>NaN</td>\n",
       "      <td>NaN</td>\n",
       "      <td>NaN</td>\n",
       "      <td>NaN</td>\n",
       "    </tr>\n",
       "    <tr>\n",
       "      <th>RERA</th>\n",
       "      <td>NaN</td>\n",
       "      <td>NaN</td>\n",
       "      <td>1.0</td>\n",
       "      <td>NaN</td>\n",
       "      <td>NaN</td>\n",
       "      <td>NaN</td>\n",
       "      <td>NaN</td>\n",
       "      <td>NaN</td>\n",
       "      <td>NaN</td>\n",
       "      <td>NaN</td>\n",
       "      <td>NaN</td>\n",
       "      <td>NaN</td>\n",
       "      <td>NaN</td>\n",
       "      <td>NaN</td>\n",
       "      <td>NaN</td>\n",
       "      <td>NaN</td>\n",
       "      <td>NaN</td>\n",
       "      <td>NaN</td>\n",
       "      <td>NaN</td>\n",
       "      <td>NaN</td>\n",
       "      <td>NaN</td>\n",
       "      <td>NaN</td>\n",
       "      <td>NaN</td>\n",
       "      <td>NaN</td>\n",
       "      <td>NaN</td>\n",
       "      <td>NaN</td>\n",
       "      <td>NaN</td>\n",
       "      <td>NaN</td>\n",
       "      <td>NaN</td>\n",
       "      <td>NaN</td>\n",
       "      <td>NaN</td>\n",
       "      <td>NaN</td>\n",
       "    </tr>\n",
       "    <tr>\n",
       "      <th>BHK_NO.</th>\n",
       "      <td>NaN</td>\n",
       "      <td>NaN</td>\n",
       "      <td>NaN</td>\n",
       "      <td>1.000000</td>\n",
       "      <td>NaN</td>\n",
       "      <td>0.668176</td>\n",
       "      <td>NaN</td>\n",
       "      <td>NaN</td>\n",
       "      <td>NaN</td>\n",
       "      <td>NaN</td>\n",
       "      <td>0.502076</td>\n",
       "      <td>-0.875626</td>\n",
       "      <td>0.983932</td>\n",
       "      <td>0.477522</td>\n",
       "      <td>NaN</td>\n",
       "      <td>NaN</td>\n",
       "      <td>NaN</td>\n",
       "      <td>0.478134</td>\n",
       "      <td>0.484628</td>\n",
       "      <td>0.833066</td>\n",
       "      <td>NaN</td>\n",
       "      <td>NaN</td>\n",
       "      <td>NaN</td>\n",
       "      <td>NaN</td>\n",
       "      <td>NaN</td>\n",
       "      <td>NaN</td>\n",
       "      <td>NaN</td>\n",
       "      <td>0.958313</td>\n",
       "      <td>NaN</td>\n",
       "      <td>NaN</td>\n",
       "      <td>NaN</td>\n",
       "      <td>NaN</td>\n",
       "    </tr>\n",
       "    <tr>\n",
       "      <th>BHK_OR_RK</th>\n",
       "      <td>NaN</td>\n",
       "      <td>NaN</td>\n",
       "      <td>NaN</td>\n",
       "      <td>NaN</td>\n",
       "      <td>1.0</td>\n",
       "      <td>NaN</td>\n",
       "      <td>NaN</td>\n",
       "      <td>NaN</td>\n",
       "      <td>NaN</td>\n",
       "      <td>NaN</td>\n",
       "      <td>NaN</td>\n",
       "      <td>NaN</td>\n",
       "      <td>NaN</td>\n",
       "      <td>NaN</td>\n",
       "      <td>NaN</td>\n",
       "      <td>NaN</td>\n",
       "      <td>NaN</td>\n",
       "      <td>NaN</td>\n",
       "      <td>NaN</td>\n",
       "      <td>NaN</td>\n",
       "      <td>NaN</td>\n",
       "      <td>NaN</td>\n",
       "      <td>NaN</td>\n",
       "      <td>NaN</td>\n",
       "      <td>NaN</td>\n",
       "      <td>NaN</td>\n",
       "      <td>NaN</td>\n",
       "      <td>NaN</td>\n",
       "      <td>NaN</td>\n",
       "      <td>NaN</td>\n",
       "      <td>NaN</td>\n",
       "      <td>NaN</td>\n",
       "    </tr>\n",
       "    <tr>\n",
       "      <th>SQUARE_FT</th>\n",
       "      <td>NaN</td>\n",
       "      <td>NaN</td>\n",
       "      <td>NaN</td>\n",
       "      <td>0.668176</td>\n",
       "      <td>NaN</td>\n",
       "      <td>1.000000</td>\n",
       "      <td>NaN</td>\n",
       "      <td>NaN</td>\n",
       "      <td>NaN</td>\n",
       "      <td>NaN</td>\n",
       "      <td>0.638905</td>\n",
       "      <td>-0.491322</td>\n",
       "      <td>0.772245</td>\n",
       "      <td>0.592725</td>\n",
       "      <td>NaN</td>\n",
       "      <td>NaN</td>\n",
       "      <td>NaN</td>\n",
       "      <td>0.594303</td>\n",
       "      <td>0.632369</td>\n",
       "      <td>0.802524</td>\n",
       "      <td>NaN</td>\n",
       "      <td>NaN</td>\n",
       "      <td>NaN</td>\n",
       "      <td>NaN</td>\n",
       "      <td>NaN</td>\n",
       "      <td>NaN</td>\n",
       "      <td>NaN</td>\n",
       "      <td>0.696048</td>\n",
       "      <td>NaN</td>\n",
       "      <td>NaN</td>\n",
       "      <td>NaN</td>\n",
       "      <td>NaN</td>\n",
       "    </tr>\n",
       "    <tr>\n",
       "      <th>READY_TO_MOVE</th>\n",
       "      <td>NaN</td>\n",
       "      <td>-1.0</td>\n",
       "      <td>NaN</td>\n",
       "      <td>NaN</td>\n",
       "      <td>NaN</td>\n",
       "      <td>NaN</td>\n",
       "      <td>1.0</td>\n",
       "      <td>NaN</td>\n",
       "      <td>NaN</td>\n",
       "      <td>NaN</td>\n",
       "      <td>NaN</td>\n",
       "      <td>NaN</td>\n",
       "      <td>NaN</td>\n",
       "      <td>NaN</td>\n",
       "      <td>NaN</td>\n",
       "      <td>NaN</td>\n",
       "      <td>NaN</td>\n",
       "      <td>NaN</td>\n",
       "      <td>NaN</td>\n",
       "      <td>NaN</td>\n",
       "      <td>NaN</td>\n",
       "      <td>NaN</td>\n",
       "      <td>NaN</td>\n",
       "      <td>NaN</td>\n",
       "      <td>NaN</td>\n",
       "      <td>NaN</td>\n",
       "      <td>NaN</td>\n",
       "      <td>NaN</td>\n",
       "      <td>NaN</td>\n",
       "      <td>NaN</td>\n",
       "      <td>NaN</td>\n",
       "      <td>NaN</td>\n",
       "    </tr>\n",
       "    <tr>\n",
       "      <th>RESALE</th>\n",
       "      <td>NaN</td>\n",
       "      <td>NaN</td>\n",
       "      <td>NaN</td>\n",
       "      <td>NaN</td>\n",
       "      <td>NaN</td>\n",
       "      <td>NaN</td>\n",
       "      <td>NaN</td>\n",
       "      <td>1.0</td>\n",
       "      <td>NaN</td>\n",
       "      <td>NaN</td>\n",
       "      <td>NaN</td>\n",
       "      <td>NaN</td>\n",
       "      <td>NaN</td>\n",
       "      <td>NaN</td>\n",
       "      <td>NaN</td>\n",
       "      <td>NaN</td>\n",
       "      <td>NaN</td>\n",
       "      <td>NaN</td>\n",
       "      <td>NaN</td>\n",
       "      <td>NaN</td>\n",
       "      <td>NaN</td>\n",
       "      <td>NaN</td>\n",
       "      <td>NaN</td>\n",
       "      <td>NaN</td>\n",
       "      <td>NaN</td>\n",
       "      <td>NaN</td>\n",
       "      <td>NaN</td>\n",
       "      <td>NaN</td>\n",
       "      <td>NaN</td>\n",
       "      <td>NaN</td>\n",
       "      <td>NaN</td>\n",
       "      <td>NaN</td>\n",
       "    </tr>\n",
       "    <tr>\n",
       "      <th>LONGITUDE</th>\n",
       "      <td>NaN</td>\n",
       "      <td>NaN</td>\n",
       "      <td>NaN</td>\n",
       "      <td>NaN</td>\n",
       "      <td>NaN</td>\n",
       "      <td>NaN</td>\n",
       "      <td>NaN</td>\n",
       "      <td>NaN</td>\n",
       "      <td>1.0</td>\n",
       "      <td>NaN</td>\n",
       "      <td>NaN</td>\n",
       "      <td>NaN</td>\n",
       "      <td>NaN</td>\n",
       "      <td>NaN</td>\n",
       "      <td>NaN</td>\n",
       "      <td>NaN</td>\n",
       "      <td>NaN</td>\n",
       "      <td>NaN</td>\n",
       "      <td>NaN</td>\n",
       "      <td>NaN</td>\n",
       "      <td>NaN</td>\n",
       "      <td>NaN</td>\n",
       "      <td>NaN</td>\n",
       "      <td>NaN</td>\n",
       "      <td>NaN</td>\n",
       "      <td>NaN</td>\n",
       "      <td>NaN</td>\n",
       "      <td>NaN</td>\n",
       "      <td>NaN</td>\n",
       "      <td>NaN</td>\n",
       "      <td>NaN</td>\n",
       "      <td>NaN</td>\n",
       "    </tr>\n",
       "    <tr>\n",
       "      <th>LATITUDE</th>\n",
       "      <td>NaN</td>\n",
       "      <td>NaN</td>\n",
       "      <td>NaN</td>\n",
       "      <td>NaN</td>\n",
       "      <td>NaN</td>\n",
       "      <td>NaN</td>\n",
       "      <td>NaN</td>\n",
       "      <td>NaN</td>\n",
       "      <td>NaN</td>\n",
       "      <td>1.000000</td>\n",
       "      <td>NaN</td>\n",
       "      <td>NaN</td>\n",
       "      <td>NaN</td>\n",
       "      <td>NaN</td>\n",
       "      <td>NaN</td>\n",
       "      <td>NaN</td>\n",
       "      <td>NaN</td>\n",
       "      <td>NaN</td>\n",
       "      <td>NaN</td>\n",
       "      <td>NaN</td>\n",
       "      <td>NaN</td>\n",
       "      <td>NaN</td>\n",
       "      <td>NaN</td>\n",
       "      <td>-0.523943</td>\n",
       "      <td>NaN</td>\n",
       "      <td>NaN</td>\n",
       "      <td>NaN</td>\n",
       "      <td>NaN</td>\n",
       "      <td>NaN</td>\n",
       "      <td>NaN</td>\n",
       "      <td>NaN</td>\n",
       "      <td>NaN</td>\n",
       "    </tr>\n",
       "    <tr>\n",
       "      <th>TARGET(PRICE_IN_LACS)</th>\n",
       "      <td>NaN</td>\n",
       "      <td>NaN</td>\n",
       "      <td>NaN</td>\n",
       "      <td>0.502076</td>\n",
       "      <td>NaN</td>\n",
       "      <td>0.638905</td>\n",
       "      <td>NaN</td>\n",
       "      <td>NaN</td>\n",
       "      <td>NaN</td>\n",
       "      <td>NaN</td>\n",
       "      <td>1.000000</td>\n",
       "      <td>NaN</td>\n",
       "      <td>0.563774</td>\n",
       "      <td>0.412235</td>\n",
       "      <td>NaN</td>\n",
       "      <td>NaN</td>\n",
       "      <td>NaN</td>\n",
       "      <td>0.412720</td>\n",
       "      <td>0.432324</td>\n",
       "      <td>0.551403</td>\n",
       "      <td>0.755887</td>\n",
       "      <td>NaN</td>\n",
       "      <td>NaN</td>\n",
       "      <td>NaN</td>\n",
       "      <td>NaN</td>\n",
       "      <td>NaN</td>\n",
       "      <td>NaN</td>\n",
       "      <td>0.503288</td>\n",
       "      <td>0.547456</td>\n",
       "      <td>NaN</td>\n",
       "      <td>NaN</td>\n",
       "      <td>NaN</td>\n",
       "    </tr>\n",
       "    <tr>\n",
       "      <th>SQUARE_FT_PER_ROOM</th>\n",
       "      <td>NaN</td>\n",
       "      <td>NaN</td>\n",
       "      <td>NaN</td>\n",
       "      <td>-0.875626</td>\n",
       "      <td>NaN</td>\n",
       "      <td>-0.491322</td>\n",
       "      <td>NaN</td>\n",
       "      <td>NaN</td>\n",
       "      <td>NaN</td>\n",
       "      <td>NaN</td>\n",
       "      <td>NaN</td>\n",
       "      <td>1.000000</td>\n",
       "      <td>-0.815193</td>\n",
       "      <td>NaN</td>\n",
       "      <td>NaN</td>\n",
       "      <td>NaN</td>\n",
       "      <td>NaN</td>\n",
       "      <td>NaN</td>\n",
       "      <td>NaN</td>\n",
       "      <td>-0.709167</td>\n",
       "      <td>NaN</td>\n",
       "      <td>NaN</td>\n",
       "      <td>NaN</td>\n",
       "      <td>NaN</td>\n",
       "      <td>NaN</td>\n",
       "      <td>NaN</td>\n",
       "      <td>NaN</td>\n",
       "      <td>-0.863051</td>\n",
       "      <td>NaN</td>\n",
       "      <td>NaN</td>\n",
       "      <td>NaN</td>\n",
       "      <td>NaN</td>\n",
       "    </tr>\n",
       "    <tr>\n",
       "      <th>SQUARE_FT_ROOM</th>\n",
       "      <td>NaN</td>\n",
       "      <td>NaN</td>\n",
       "      <td>NaN</td>\n",
       "      <td>0.983932</td>\n",
       "      <td>NaN</td>\n",
       "      <td>0.772245</td>\n",
       "      <td>NaN</td>\n",
       "      <td>NaN</td>\n",
       "      <td>NaN</td>\n",
       "      <td>NaN</td>\n",
       "      <td>0.563774</td>\n",
       "      <td>-0.815193</td>\n",
       "      <td>1.000000</td>\n",
       "      <td>0.525144</td>\n",
       "      <td>NaN</td>\n",
       "      <td>NaN</td>\n",
       "      <td>NaN</td>\n",
       "      <td>0.525575</td>\n",
       "      <td>0.540386</td>\n",
       "      <td>0.870072</td>\n",
       "      <td>NaN</td>\n",
       "      <td>NaN</td>\n",
       "      <td>NaN</td>\n",
       "      <td>NaN</td>\n",
       "      <td>NaN</td>\n",
       "      <td>NaN</td>\n",
       "      <td>NaN</td>\n",
       "      <td>0.951776</td>\n",
       "      <td>NaN</td>\n",
       "      <td>NaN</td>\n",
       "      <td>NaN</td>\n",
       "      <td>NaN</td>\n",
       "    </tr>\n",
       "    <tr>\n",
       "      <th>LOCALITY_SF_MEAN</th>\n",
       "      <td>NaN</td>\n",
       "      <td>NaN</td>\n",
       "      <td>NaN</td>\n",
       "      <td>0.477522</td>\n",
       "      <td>NaN</td>\n",
       "      <td>0.592725</td>\n",
       "      <td>NaN</td>\n",
       "      <td>NaN</td>\n",
       "      <td>NaN</td>\n",
       "      <td>NaN</td>\n",
       "      <td>0.412235</td>\n",
       "      <td>NaN</td>\n",
       "      <td>0.525144</td>\n",
       "      <td>1.000000</td>\n",
       "      <td>0.494709</td>\n",
       "      <td>0.434807</td>\n",
       "      <td>NaN</td>\n",
       "      <td>0.997359</td>\n",
       "      <td>0.932485</td>\n",
       "      <td>0.737731</td>\n",
       "      <td>0.480956</td>\n",
       "      <td>0.508732</td>\n",
       "      <td>NaN</td>\n",
       "      <td>NaN</td>\n",
       "      <td>NaN</td>\n",
       "      <td>0.529238</td>\n",
       "      <td>0.506580</td>\n",
       "      <td>0.547096</td>\n",
       "      <td>NaN</td>\n",
       "      <td>NaN</td>\n",
       "      <td>NaN</td>\n",
       "      <td>NaN</td>\n",
       "    </tr>\n",
       "    <tr>\n",
       "      <th>LOCALITY_SF_MIN</th>\n",
       "      <td>NaN</td>\n",
       "      <td>NaN</td>\n",
       "      <td>NaN</td>\n",
       "      <td>NaN</td>\n",
       "      <td>NaN</td>\n",
       "      <td>NaN</td>\n",
       "      <td>NaN</td>\n",
       "      <td>NaN</td>\n",
       "      <td>NaN</td>\n",
       "      <td>NaN</td>\n",
       "      <td>NaN</td>\n",
       "      <td>NaN</td>\n",
       "      <td>NaN</td>\n",
       "      <td>0.494709</td>\n",
       "      <td>1.000000</td>\n",
       "      <td>NaN</td>\n",
       "      <td>NaN</td>\n",
       "      <td>0.493537</td>\n",
       "      <td>0.463014</td>\n",
       "      <td>NaN</td>\n",
       "      <td>NaN</td>\n",
       "      <td>NaN</td>\n",
       "      <td>NaN</td>\n",
       "      <td>NaN</td>\n",
       "      <td>NaN</td>\n",
       "      <td>NaN</td>\n",
       "      <td>NaN</td>\n",
       "      <td>NaN</td>\n",
       "      <td>NaN</td>\n",
       "      <td>NaN</td>\n",
       "      <td>NaN</td>\n",
       "      <td>NaN</td>\n",
       "    </tr>\n",
       "    <tr>\n",
       "      <th>LOCALITY_SF_MAX</th>\n",
       "      <td>NaN</td>\n",
       "      <td>NaN</td>\n",
       "      <td>NaN</td>\n",
       "      <td>NaN</td>\n",
       "      <td>NaN</td>\n",
       "      <td>NaN</td>\n",
       "      <td>NaN</td>\n",
       "      <td>NaN</td>\n",
       "      <td>NaN</td>\n",
       "      <td>NaN</td>\n",
       "      <td>NaN</td>\n",
       "      <td>NaN</td>\n",
       "      <td>NaN</td>\n",
       "      <td>0.434807</td>\n",
       "      <td>NaN</td>\n",
       "      <td>1.000000</td>\n",
       "      <td>0.712581</td>\n",
       "      <td>0.433840</td>\n",
       "      <td>0.405274</td>\n",
       "      <td>NaN</td>\n",
       "      <td>NaN</td>\n",
       "      <td>NaN</td>\n",
       "      <td>NaN</td>\n",
       "      <td>NaN</td>\n",
       "      <td>NaN</td>\n",
       "      <td>NaN</td>\n",
       "      <td>NaN</td>\n",
       "      <td>NaN</td>\n",
       "      <td>NaN</td>\n",
       "      <td>NaN</td>\n",
       "      <td>NaN</td>\n",
       "      <td>NaN</td>\n",
       "    </tr>\n",
       "    <tr>\n",
       "      <th>LOCALITY_SF_STD</th>\n",
       "      <td>NaN</td>\n",
       "      <td>NaN</td>\n",
       "      <td>NaN</td>\n",
       "      <td>NaN</td>\n",
       "      <td>NaN</td>\n",
       "      <td>NaN</td>\n",
       "      <td>NaN</td>\n",
       "      <td>NaN</td>\n",
       "      <td>NaN</td>\n",
       "      <td>NaN</td>\n",
       "      <td>NaN</td>\n",
       "      <td>NaN</td>\n",
       "      <td>NaN</td>\n",
       "      <td>NaN</td>\n",
       "      <td>NaN</td>\n",
       "      <td>0.712581</td>\n",
       "      <td>1.000000</td>\n",
       "      <td>NaN</td>\n",
       "      <td>NaN</td>\n",
       "      <td>NaN</td>\n",
       "      <td>NaN</td>\n",
       "      <td>NaN</td>\n",
       "      <td>NaN</td>\n",
       "      <td>NaN</td>\n",
       "      <td>NaN</td>\n",
       "      <td>NaN</td>\n",
       "      <td>NaN</td>\n",
       "      <td>NaN</td>\n",
       "      <td>NaN</td>\n",
       "      <td>NaN</td>\n",
       "      <td>NaN</td>\n",
       "      <td>NaN</td>\n",
       "    </tr>\n",
       "    <tr>\n",
       "      <th>LOCALITY_FT_SF_MEAN</th>\n",
       "      <td>NaN</td>\n",
       "      <td>NaN</td>\n",
       "      <td>NaN</td>\n",
       "      <td>0.478134</td>\n",
       "      <td>NaN</td>\n",
       "      <td>0.594303</td>\n",
       "      <td>NaN</td>\n",
       "      <td>NaN</td>\n",
       "      <td>NaN</td>\n",
       "      <td>NaN</td>\n",
       "      <td>0.412720</td>\n",
       "      <td>NaN</td>\n",
       "      <td>0.525575</td>\n",
       "      <td>0.997359</td>\n",
       "      <td>0.493537</td>\n",
       "      <td>0.433840</td>\n",
       "      <td>NaN</td>\n",
       "      <td>1.000000</td>\n",
       "      <td>0.930608</td>\n",
       "      <td>0.737993</td>\n",
       "      <td>0.478457</td>\n",
       "      <td>0.507284</td>\n",
       "      <td>NaN</td>\n",
       "      <td>NaN</td>\n",
       "      <td>NaN</td>\n",
       "      <td>0.528082</td>\n",
       "      <td>0.515396</td>\n",
       "      <td>0.547441</td>\n",
       "      <td>NaN</td>\n",
       "      <td>NaN</td>\n",
       "      <td>NaN</td>\n",
       "      <td>NaN</td>\n",
       "    </tr>\n",
       "    <tr>\n",
       "      <th>LOCALITY_PB_SF_MEAN</th>\n",
       "      <td>NaN</td>\n",
       "      <td>NaN</td>\n",
       "      <td>NaN</td>\n",
       "      <td>0.484628</td>\n",
       "      <td>NaN</td>\n",
       "      <td>0.632369</td>\n",
       "      <td>NaN</td>\n",
       "      <td>NaN</td>\n",
       "      <td>NaN</td>\n",
       "      <td>NaN</td>\n",
       "      <td>0.432324</td>\n",
       "      <td>NaN</td>\n",
       "      <td>0.540386</td>\n",
       "      <td>0.932485</td>\n",
       "      <td>0.463014</td>\n",
       "      <td>0.405274</td>\n",
       "      <td>NaN</td>\n",
       "      <td>0.930608</td>\n",
       "      <td>1.000000</td>\n",
       "      <td>0.741497</td>\n",
       "      <td>0.435888</td>\n",
       "      <td>0.478344</td>\n",
       "      <td>NaN</td>\n",
       "      <td>NaN</td>\n",
       "      <td>NaN</td>\n",
       "      <td>0.545854</td>\n",
       "      <td>0.477367</td>\n",
       "      <td>0.549952</td>\n",
       "      <td>NaN</td>\n",
       "      <td>NaN</td>\n",
       "      <td>NaN</td>\n",
       "      <td>NaN</td>\n",
       "    </tr>\n",
       "    <tr>\n",
       "      <th>LOCALITY_BHKNO_SF_MEAN</th>\n",
       "      <td>NaN</td>\n",
       "      <td>NaN</td>\n",
       "      <td>NaN</td>\n",
       "      <td>0.833066</td>\n",
       "      <td>NaN</td>\n",
       "      <td>0.802524</td>\n",
       "      <td>NaN</td>\n",
       "      <td>NaN</td>\n",
       "      <td>NaN</td>\n",
       "      <td>NaN</td>\n",
       "      <td>0.551403</td>\n",
       "      <td>-0.709167</td>\n",
       "      <td>0.870072</td>\n",
       "      <td>0.737731</td>\n",
       "      <td>NaN</td>\n",
       "      <td>NaN</td>\n",
       "      <td>NaN</td>\n",
       "      <td>0.737993</td>\n",
       "      <td>0.741497</td>\n",
       "      <td>1.000000</td>\n",
       "      <td>NaN</td>\n",
       "      <td>NaN</td>\n",
       "      <td>NaN</td>\n",
       "      <td>NaN</td>\n",
       "      <td>NaN</td>\n",
       "      <td>0.426004</td>\n",
       "      <td>NaN</td>\n",
       "      <td>0.867586</td>\n",
       "      <td>NaN</td>\n",
       "      <td>NaN</td>\n",
       "      <td>NaN</td>\n",
       "      <td>NaN</td>\n",
       "    </tr>\n",
       "    <tr>\n",
       "      <th>NLOCALITY</th>\n",
       "      <td>NaN</td>\n",
       "      <td>NaN</td>\n",
       "      <td>NaN</td>\n",
       "      <td>NaN</td>\n",
       "      <td>NaN</td>\n",
       "      <td>NaN</td>\n",
       "      <td>NaN</td>\n",
       "      <td>NaN</td>\n",
       "      <td>NaN</td>\n",
       "      <td>NaN</td>\n",
       "      <td>0.755887</td>\n",
       "      <td>NaN</td>\n",
       "      <td>NaN</td>\n",
       "      <td>0.480956</td>\n",
       "      <td>NaN</td>\n",
       "      <td>NaN</td>\n",
       "      <td>NaN</td>\n",
       "      <td>0.478457</td>\n",
       "      <td>0.435888</td>\n",
       "      <td>NaN</td>\n",
       "      <td>1.000000</td>\n",
       "      <td>NaN</td>\n",
       "      <td>NaN</td>\n",
       "      <td>NaN</td>\n",
       "      <td>0.449432</td>\n",
       "      <td>NaN</td>\n",
       "      <td>NaN</td>\n",
       "      <td>NaN</td>\n",
       "      <td>0.633628</td>\n",
       "      <td>NaN</td>\n",
       "      <td>NaN</td>\n",
       "      <td>NaN</td>\n",
       "    </tr>\n",
       "    <tr>\n",
       "      <th>CITY_SF_MEAN</th>\n",
       "      <td>NaN</td>\n",
       "      <td>NaN</td>\n",
       "      <td>NaN</td>\n",
       "      <td>NaN</td>\n",
       "      <td>NaN</td>\n",
       "      <td>NaN</td>\n",
       "      <td>NaN</td>\n",
       "      <td>NaN</td>\n",
       "      <td>NaN</td>\n",
       "      <td>NaN</td>\n",
       "      <td>NaN</td>\n",
       "      <td>NaN</td>\n",
       "      <td>NaN</td>\n",
       "      <td>0.508732</td>\n",
       "      <td>NaN</td>\n",
       "      <td>NaN</td>\n",
       "      <td>NaN</td>\n",
       "      <td>0.507284</td>\n",
       "      <td>0.478344</td>\n",
       "      <td>NaN</td>\n",
       "      <td>NaN</td>\n",
       "      <td>1.000000</td>\n",
       "      <td>NaN</td>\n",
       "      <td>NaN</td>\n",
       "      <td>NaN</td>\n",
       "      <td>0.868847</td>\n",
       "      <td>0.987185</td>\n",
       "      <td>0.451499</td>\n",
       "      <td>NaN</td>\n",
       "      <td>NaN</td>\n",
       "      <td>NaN</td>\n",
       "      <td>NaN</td>\n",
       "    </tr>\n",
       "    <tr>\n",
       "      <th>CITY_SF_MIN</th>\n",
       "      <td>NaN</td>\n",
       "      <td>NaN</td>\n",
       "      <td>NaN</td>\n",
       "      <td>NaN</td>\n",
       "      <td>NaN</td>\n",
       "      <td>NaN</td>\n",
       "      <td>NaN</td>\n",
       "      <td>NaN</td>\n",
       "      <td>NaN</td>\n",
       "      <td>NaN</td>\n",
       "      <td>NaN</td>\n",
       "      <td>NaN</td>\n",
       "      <td>NaN</td>\n",
       "      <td>NaN</td>\n",
       "      <td>NaN</td>\n",
       "      <td>NaN</td>\n",
       "      <td>NaN</td>\n",
       "      <td>NaN</td>\n",
       "      <td>NaN</td>\n",
       "      <td>NaN</td>\n",
       "      <td>NaN</td>\n",
       "      <td>NaN</td>\n",
       "      <td>1.0</td>\n",
       "      <td>NaN</td>\n",
       "      <td>NaN</td>\n",
       "      <td>NaN</td>\n",
       "      <td>NaN</td>\n",
       "      <td>NaN</td>\n",
       "      <td>NaN</td>\n",
       "      <td>NaN</td>\n",
       "      <td>NaN</td>\n",
       "      <td>NaN</td>\n",
       "    </tr>\n",
       "    <tr>\n",
       "      <th>CITY_SF_MAX</th>\n",
       "      <td>NaN</td>\n",
       "      <td>NaN</td>\n",
       "      <td>NaN</td>\n",
       "      <td>NaN</td>\n",
       "      <td>NaN</td>\n",
       "      <td>NaN</td>\n",
       "      <td>NaN</td>\n",
       "      <td>NaN</td>\n",
       "      <td>NaN</td>\n",
       "      <td>-0.523943</td>\n",
       "      <td>NaN</td>\n",
       "      <td>NaN</td>\n",
       "      <td>NaN</td>\n",
       "      <td>NaN</td>\n",
       "      <td>NaN</td>\n",
       "      <td>NaN</td>\n",
       "      <td>NaN</td>\n",
       "      <td>NaN</td>\n",
       "      <td>NaN</td>\n",
       "      <td>NaN</td>\n",
       "      <td>NaN</td>\n",
       "      <td>NaN</td>\n",
       "      <td>NaN</td>\n",
       "      <td>1.000000</td>\n",
       "      <td>NaN</td>\n",
       "      <td>NaN</td>\n",
       "      <td>NaN</td>\n",
       "      <td>NaN</td>\n",
       "      <td>NaN</td>\n",
       "      <td>NaN</td>\n",
       "      <td>0.452412</td>\n",
       "      <td>NaN</td>\n",
       "    </tr>\n",
       "    <tr>\n",
       "      <th>CITY_SF_STD</th>\n",
       "      <td>NaN</td>\n",
       "      <td>NaN</td>\n",
       "      <td>NaN</td>\n",
       "      <td>NaN</td>\n",
       "      <td>NaN</td>\n",
       "      <td>NaN</td>\n",
       "      <td>NaN</td>\n",
       "      <td>NaN</td>\n",
       "      <td>NaN</td>\n",
       "      <td>NaN</td>\n",
       "      <td>NaN</td>\n",
       "      <td>NaN</td>\n",
       "      <td>NaN</td>\n",
       "      <td>NaN</td>\n",
       "      <td>NaN</td>\n",
       "      <td>NaN</td>\n",
       "      <td>NaN</td>\n",
       "      <td>NaN</td>\n",
       "      <td>NaN</td>\n",
       "      <td>NaN</td>\n",
       "      <td>0.449432</td>\n",
       "      <td>NaN</td>\n",
       "      <td>NaN</td>\n",
       "      <td>NaN</td>\n",
       "      <td>1.000000</td>\n",
       "      <td>NaN</td>\n",
       "      <td>NaN</td>\n",
       "      <td>NaN</td>\n",
       "      <td>0.653532</td>\n",
       "      <td>NaN</td>\n",
       "      <td>NaN</td>\n",
       "      <td>NaN</td>\n",
       "    </tr>\n",
       "    <tr>\n",
       "      <th>CITY_PB_SF_MEAN</th>\n",
       "      <td>NaN</td>\n",
       "      <td>NaN</td>\n",
       "      <td>NaN</td>\n",
       "      <td>NaN</td>\n",
       "      <td>NaN</td>\n",
       "      <td>NaN</td>\n",
       "      <td>NaN</td>\n",
       "      <td>NaN</td>\n",
       "      <td>NaN</td>\n",
       "      <td>NaN</td>\n",
       "      <td>NaN</td>\n",
       "      <td>NaN</td>\n",
       "      <td>NaN</td>\n",
       "      <td>0.529238</td>\n",
       "      <td>NaN</td>\n",
       "      <td>NaN</td>\n",
       "      <td>NaN</td>\n",
       "      <td>0.528082</td>\n",
       "      <td>0.545854</td>\n",
       "      <td>0.426004</td>\n",
       "      <td>NaN</td>\n",
       "      <td>0.868847</td>\n",
       "      <td>NaN</td>\n",
       "      <td>NaN</td>\n",
       "      <td>NaN</td>\n",
       "      <td>1.000000</td>\n",
       "      <td>0.859006</td>\n",
       "      <td>0.467057</td>\n",
       "      <td>NaN</td>\n",
       "      <td>NaN</td>\n",
       "      <td>NaN</td>\n",
       "      <td>NaN</td>\n",
       "    </tr>\n",
       "    <tr>\n",
       "      <th>CITY_FT_SF_MEAN</th>\n",
       "      <td>NaN</td>\n",
       "      <td>NaN</td>\n",
       "      <td>NaN</td>\n",
       "      <td>NaN</td>\n",
       "      <td>NaN</td>\n",
       "      <td>NaN</td>\n",
       "      <td>NaN</td>\n",
       "      <td>NaN</td>\n",
       "      <td>NaN</td>\n",
       "      <td>NaN</td>\n",
       "      <td>NaN</td>\n",
       "      <td>NaN</td>\n",
       "      <td>NaN</td>\n",
       "      <td>0.506580</td>\n",
       "      <td>NaN</td>\n",
       "      <td>NaN</td>\n",
       "      <td>NaN</td>\n",
       "      <td>0.515396</td>\n",
       "      <td>0.477367</td>\n",
       "      <td>NaN</td>\n",
       "      <td>NaN</td>\n",
       "      <td>0.987185</td>\n",
       "      <td>NaN</td>\n",
       "      <td>NaN</td>\n",
       "      <td>NaN</td>\n",
       "      <td>0.859006</td>\n",
       "      <td>1.000000</td>\n",
       "      <td>0.451716</td>\n",
       "      <td>NaN</td>\n",
       "      <td>NaN</td>\n",
       "      <td>NaN</td>\n",
       "      <td>NaN</td>\n",
       "    </tr>\n",
       "    <tr>\n",
       "      <th>CITY_BHKNO_SF_MEAN</th>\n",
       "      <td>NaN</td>\n",
       "      <td>NaN</td>\n",
       "      <td>NaN</td>\n",
       "      <td>0.958313</td>\n",
       "      <td>NaN</td>\n",
       "      <td>0.696048</td>\n",
       "      <td>NaN</td>\n",
       "      <td>NaN</td>\n",
       "      <td>NaN</td>\n",
       "      <td>NaN</td>\n",
       "      <td>0.503288</td>\n",
       "      <td>-0.863051</td>\n",
       "      <td>0.951776</td>\n",
       "      <td>0.547096</td>\n",
       "      <td>NaN</td>\n",
       "      <td>NaN</td>\n",
       "      <td>NaN</td>\n",
       "      <td>0.547441</td>\n",
       "      <td>0.549952</td>\n",
       "      <td>0.867586</td>\n",
       "      <td>NaN</td>\n",
       "      <td>0.451499</td>\n",
       "      <td>NaN</td>\n",
       "      <td>NaN</td>\n",
       "      <td>NaN</td>\n",
       "      <td>0.467057</td>\n",
       "      <td>0.451716</td>\n",
       "      <td>1.000000</td>\n",
       "      <td>NaN</td>\n",
       "      <td>NaN</td>\n",
       "      <td>NaN</td>\n",
       "      <td>NaN</td>\n",
       "    </tr>\n",
       "    <tr>\n",
       "      <th>NCITY</th>\n",
       "      <td>0.401657</td>\n",
       "      <td>NaN</td>\n",
       "      <td>NaN</td>\n",
       "      <td>NaN</td>\n",
       "      <td>NaN</td>\n",
       "      <td>NaN</td>\n",
       "      <td>NaN</td>\n",
       "      <td>NaN</td>\n",
       "      <td>NaN</td>\n",
       "      <td>NaN</td>\n",
       "      <td>0.547456</td>\n",
       "      <td>NaN</td>\n",
       "      <td>NaN</td>\n",
       "      <td>NaN</td>\n",
       "      <td>NaN</td>\n",
       "      <td>NaN</td>\n",
       "      <td>NaN</td>\n",
       "      <td>NaN</td>\n",
       "      <td>NaN</td>\n",
       "      <td>NaN</td>\n",
       "      <td>0.633628</td>\n",
       "      <td>NaN</td>\n",
       "      <td>NaN</td>\n",
       "      <td>NaN</td>\n",
       "      <td>0.653532</td>\n",
       "      <td>NaN</td>\n",
       "      <td>NaN</td>\n",
       "      <td>NaN</td>\n",
       "      <td>1.000000</td>\n",
       "      <td>-0.483153</td>\n",
       "      <td>NaN</td>\n",
       "      <td>NaN</td>\n",
       "    </tr>\n",
       "    <tr>\n",
       "      <th>X</th>\n",
       "      <td>NaN</td>\n",
       "      <td>NaN</td>\n",
       "      <td>NaN</td>\n",
       "      <td>NaN</td>\n",
       "      <td>NaN</td>\n",
       "      <td>NaN</td>\n",
       "      <td>NaN</td>\n",
       "      <td>NaN</td>\n",
       "      <td>NaN</td>\n",
       "      <td>NaN</td>\n",
       "      <td>NaN</td>\n",
       "      <td>NaN</td>\n",
       "      <td>NaN</td>\n",
       "      <td>NaN</td>\n",
       "      <td>NaN</td>\n",
       "      <td>NaN</td>\n",
       "      <td>NaN</td>\n",
       "      <td>NaN</td>\n",
       "      <td>NaN</td>\n",
       "      <td>NaN</td>\n",
       "      <td>NaN</td>\n",
       "      <td>NaN</td>\n",
       "      <td>NaN</td>\n",
       "      <td>NaN</td>\n",
       "      <td>NaN</td>\n",
       "      <td>NaN</td>\n",
       "      <td>NaN</td>\n",
       "      <td>NaN</td>\n",
       "      <td>-0.483153</td>\n",
       "      <td>1.000000</td>\n",
       "      <td>NaN</td>\n",
       "      <td>NaN</td>\n",
       "    </tr>\n",
       "    <tr>\n",
       "      <th>Y</th>\n",
       "      <td>NaN</td>\n",
       "      <td>NaN</td>\n",
       "      <td>NaN</td>\n",
       "      <td>NaN</td>\n",
       "      <td>NaN</td>\n",
       "      <td>NaN</td>\n",
       "      <td>NaN</td>\n",
       "      <td>NaN</td>\n",
       "      <td>NaN</td>\n",
       "      <td>NaN</td>\n",
       "      <td>NaN</td>\n",
       "      <td>NaN</td>\n",
       "      <td>NaN</td>\n",
       "      <td>NaN</td>\n",
       "      <td>NaN</td>\n",
       "      <td>NaN</td>\n",
       "      <td>NaN</td>\n",
       "      <td>NaN</td>\n",
       "      <td>NaN</td>\n",
       "      <td>NaN</td>\n",
       "      <td>NaN</td>\n",
       "      <td>NaN</td>\n",
       "      <td>NaN</td>\n",
       "      <td>0.452412</td>\n",
       "      <td>NaN</td>\n",
       "      <td>NaN</td>\n",
       "      <td>NaN</td>\n",
       "      <td>NaN</td>\n",
       "      <td>NaN</td>\n",
       "      <td>NaN</td>\n",
       "      <td>1.000000</td>\n",
       "      <td>NaN</td>\n",
       "    </tr>\n",
       "    <tr>\n",
       "      <th>Z</th>\n",
       "      <td>NaN</td>\n",
       "      <td>NaN</td>\n",
       "      <td>NaN</td>\n",
       "      <td>NaN</td>\n",
       "      <td>NaN</td>\n",
       "      <td>NaN</td>\n",
       "      <td>NaN</td>\n",
       "      <td>NaN</td>\n",
       "      <td>NaN</td>\n",
       "      <td>NaN</td>\n",
       "      <td>NaN</td>\n",
       "      <td>NaN</td>\n",
       "      <td>NaN</td>\n",
       "      <td>NaN</td>\n",
       "      <td>NaN</td>\n",
       "      <td>NaN</td>\n",
       "      <td>NaN</td>\n",
       "      <td>NaN</td>\n",
       "      <td>NaN</td>\n",
       "      <td>NaN</td>\n",
       "      <td>NaN</td>\n",
       "      <td>NaN</td>\n",
       "      <td>NaN</td>\n",
       "      <td>NaN</td>\n",
       "      <td>NaN</td>\n",
       "      <td>NaN</td>\n",
       "      <td>NaN</td>\n",
       "      <td>NaN</td>\n",
       "      <td>NaN</td>\n",
       "      <td>NaN</td>\n",
       "      <td>NaN</td>\n",
       "      <td>1.0</td>\n",
       "    </tr>\n",
       "  </tbody>\n",
       "</table>\n",
       "</div>"
      ],
      "text/plain": [
       "                        POSTED_BY  UNDER_CONSTRUCTION  RERA   BHK_NO.  BHK_OR_RK  SQUARE_FT  READY_TO_MOVE  RESALE  LONGITUDE  LATITUDE  TARGET(PRICE_IN_LACS)  SQUARE_FT_PER_ROOM  SQUARE_FT_ROOM  LOCALITY_SF_MEAN  LOCALITY_SF_MIN  LOCALITY_SF_MAX  LOCALITY_SF_STD  LOCALITY_FT_SF_MEAN  LOCALITY_PB_SF_MEAN  LOCALITY_BHKNO_SF_MEAN  NLOCALITY  CITY_SF_MEAN  CITY_SF_MIN  CITY_SF_MAX  CITY_SF_STD  CITY_PB_SF_MEAN  CITY_FT_SF_MEAN  CITY_BHKNO_SF_MEAN     NCITY         X         Y    Z\n",
       "POSTED_BY                1.000000                 NaN   NaN       NaN        NaN        NaN            NaN     NaN        NaN       NaN                    NaN                 NaN             NaN               NaN              NaN              NaN              NaN                  NaN                  NaN                     NaN        NaN           NaN          NaN          NaN          NaN              NaN              NaN                 NaN  0.401657       NaN       NaN  NaN\n",
       "UNDER_CONSTRUCTION            NaN                 1.0   NaN       NaN        NaN        NaN           -1.0     NaN        NaN       NaN                    NaN                 NaN             NaN               NaN              NaN              NaN              NaN                  NaN                  NaN                     NaN        NaN           NaN          NaN          NaN          NaN              NaN              NaN                 NaN       NaN       NaN       NaN  NaN\n",
       "RERA                          NaN                 NaN   1.0       NaN        NaN        NaN            NaN     NaN        NaN       NaN                    NaN                 NaN             NaN               NaN              NaN              NaN              NaN                  NaN                  NaN                     NaN        NaN           NaN          NaN          NaN          NaN              NaN              NaN                 NaN       NaN       NaN       NaN  NaN\n",
       "BHK_NO.                       NaN                 NaN   NaN  1.000000        NaN   0.668176            NaN     NaN        NaN       NaN               0.502076           -0.875626        0.983932          0.477522              NaN              NaN              NaN             0.478134             0.484628                0.833066        NaN           NaN          NaN          NaN          NaN              NaN              NaN            0.958313       NaN       NaN       NaN  NaN\n",
       "BHK_OR_RK                     NaN                 NaN   NaN       NaN        1.0        NaN            NaN     NaN        NaN       NaN                    NaN                 NaN             NaN               NaN              NaN              NaN              NaN                  NaN                  NaN                     NaN        NaN           NaN          NaN          NaN          NaN              NaN              NaN                 NaN       NaN       NaN       NaN  NaN\n",
       "SQUARE_FT                     NaN                 NaN   NaN  0.668176        NaN   1.000000            NaN     NaN        NaN       NaN               0.638905           -0.491322        0.772245          0.592725              NaN              NaN              NaN             0.594303             0.632369                0.802524        NaN           NaN          NaN          NaN          NaN              NaN              NaN            0.696048       NaN       NaN       NaN  NaN\n",
       "READY_TO_MOVE                 NaN                -1.0   NaN       NaN        NaN        NaN            1.0     NaN        NaN       NaN                    NaN                 NaN             NaN               NaN              NaN              NaN              NaN                  NaN                  NaN                     NaN        NaN           NaN          NaN          NaN          NaN              NaN              NaN                 NaN       NaN       NaN       NaN  NaN\n",
       "RESALE                        NaN                 NaN   NaN       NaN        NaN        NaN            NaN     1.0        NaN       NaN                    NaN                 NaN             NaN               NaN              NaN              NaN              NaN                  NaN                  NaN                     NaN        NaN           NaN          NaN          NaN          NaN              NaN              NaN                 NaN       NaN       NaN       NaN  NaN\n",
       "LONGITUDE                     NaN                 NaN   NaN       NaN        NaN        NaN            NaN     NaN        1.0       NaN                    NaN                 NaN             NaN               NaN              NaN              NaN              NaN                  NaN                  NaN                     NaN        NaN           NaN          NaN          NaN          NaN              NaN              NaN                 NaN       NaN       NaN       NaN  NaN\n",
       "LATITUDE                      NaN                 NaN   NaN       NaN        NaN        NaN            NaN     NaN        NaN  1.000000                    NaN                 NaN             NaN               NaN              NaN              NaN              NaN                  NaN                  NaN                     NaN        NaN           NaN          NaN    -0.523943          NaN              NaN              NaN                 NaN       NaN       NaN       NaN  NaN\n",
       "TARGET(PRICE_IN_LACS)         NaN                 NaN   NaN  0.502076        NaN   0.638905            NaN     NaN        NaN       NaN               1.000000                 NaN        0.563774          0.412235              NaN              NaN              NaN             0.412720             0.432324                0.551403   0.755887           NaN          NaN          NaN          NaN              NaN              NaN            0.503288  0.547456       NaN       NaN  NaN\n",
       "SQUARE_FT_PER_ROOM            NaN                 NaN   NaN -0.875626        NaN  -0.491322            NaN     NaN        NaN       NaN                    NaN            1.000000       -0.815193               NaN              NaN              NaN              NaN                  NaN                  NaN               -0.709167        NaN           NaN          NaN          NaN          NaN              NaN              NaN           -0.863051       NaN       NaN       NaN  NaN\n",
       "SQUARE_FT_ROOM                NaN                 NaN   NaN  0.983932        NaN   0.772245            NaN     NaN        NaN       NaN               0.563774           -0.815193        1.000000          0.525144              NaN              NaN              NaN             0.525575             0.540386                0.870072        NaN           NaN          NaN          NaN          NaN              NaN              NaN            0.951776       NaN       NaN       NaN  NaN\n",
       "LOCALITY_SF_MEAN              NaN                 NaN   NaN  0.477522        NaN   0.592725            NaN     NaN        NaN       NaN               0.412235                 NaN        0.525144          1.000000         0.494709         0.434807              NaN             0.997359             0.932485                0.737731   0.480956      0.508732          NaN          NaN          NaN         0.529238         0.506580            0.547096       NaN       NaN       NaN  NaN\n",
       "LOCALITY_SF_MIN               NaN                 NaN   NaN       NaN        NaN        NaN            NaN     NaN        NaN       NaN                    NaN                 NaN             NaN          0.494709         1.000000              NaN              NaN             0.493537             0.463014                     NaN        NaN           NaN          NaN          NaN          NaN              NaN              NaN                 NaN       NaN       NaN       NaN  NaN\n",
       "LOCALITY_SF_MAX               NaN                 NaN   NaN       NaN        NaN        NaN            NaN     NaN        NaN       NaN                    NaN                 NaN             NaN          0.434807              NaN         1.000000         0.712581             0.433840             0.405274                     NaN        NaN           NaN          NaN          NaN          NaN              NaN              NaN                 NaN       NaN       NaN       NaN  NaN\n",
       "LOCALITY_SF_STD               NaN                 NaN   NaN       NaN        NaN        NaN            NaN     NaN        NaN       NaN                    NaN                 NaN             NaN               NaN              NaN         0.712581         1.000000                  NaN                  NaN                     NaN        NaN           NaN          NaN          NaN          NaN              NaN              NaN                 NaN       NaN       NaN       NaN  NaN\n",
       "LOCALITY_FT_SF_MEAN           NaN                 NaN   NaN  0.478134        NaN   0.594303            NaN     NaN        NaN       NaN               0.412720                 NaN        0.525575          0.997359         0.493537         0.433840              NaN             1.000000             0.930608                0.737993   0.478457      0.507284          NaN          NaN          NaN         0.528082         0.515396            0.547441       NaN       NaN       NaN  NaN\n",
       "LOCALITY_PB_SF_MEAN           NaN                 NaN   NaN  0.484628        NaN   0.632369            NaN     NaN        NaN       NaN               0.432324                 NaN        0.540386          0.932485         0.463014         0.405274              NaN             0.930608             1.000000                0.741497   0.435888      0.478344          NaN          NaN          NaN         0.545854         0.477367            0.549952       NaN       NaN       NaN  NaN\n",
       "LOCALITY_BHKNO_SF_MEAN        NaN                 NaN   NaN  0.833066        NaN   0.802524            NaN     NaN        NaN       NaN               0.551403           -0.709167        0.870072          0.737731              NaN              NaN              NaN             0.737993             0.741497                1.000000        NaN           NaN          NaN          NaN          NaN         0.426004              NaN            0.867586       NaN       NaN       NaN  NaN\n",
       "NLOCALITY                     NaN                 NaN   NaN       NaN        NaN        NaN            NaN     NaN        NaN       NaN               0.755887                 NaN             NaN          0.480956              NaN              NaN              NaN             0.478457             0.435888                     NaN   1.000000           NaN          NaN          NaN     0.449432              NaN              NaN                 NaN  0.633628       NaN       NaN  NaN\n",
       "CITY_SF_MEAN                  NaN                 NaN   NaN       NaN        NaN        NaN            NaN     NaN        NaN       NaN                    NaN                 NaN             NaN          0.508732              NaN              NaN              NaN             0.507284             0.478344                     NaN        NaN      1.000000          NaN          NaN          NaN         0.868847         0.987185            0.451499       NaN       NaN       NaN  NaN\n",
       "CITY_SF_MIN                   NaN                 NaN   NaN       NaN        NaN        NaN            NaN     NaN        NaN       NaN                    NaN                 NaN             NaN               NaN              NaN              NaN              NaN                  NaN                  NaN                     NaN        NaN           NaN          1.0          NaN          NaN              NaN              NaN                 NaN       NaN       NaN       NaN  NaN\n",
       "CITY_SF_MAX                   NaN                 NaN   NaN       NaN        NaN        NaN            NaN     NaN        NaN -0.523943                    NaN                 NaN             NaN               NaN              NaN              NaN              NaN                  NaN                  NaN                     NaN        NaN           NaN          NaN     1.000000          NaN              NaN              NaN                 NaN       NaN       NaN  0.452412  NaN\n",
       "CITY_SF_STD                   NaN                 NaN   NaN       NaN        NaN        NaN            NaN     NaN        NaN       NaN                    NaN                 NaN             NaN               NaN              NaN              NaN              NaN                  NaN                  NaN                     NaN   0.449432           NaN          NaN          NaN     1.000000              NaN              NaN                 NaN  0.653532       NaN       NaN  NaN\n",
       "CITY_PB_SF_MEAN               NaN                 NaN   NaN       NaN        NaN        NaN            NaN     NaN        NaN       NaN                    NaN                 NaN             NaN          0.529238              NaN              NaN              NaN             0.528082             0.545854                0.426004        NaN      0.868847          NaN          NaN          NaN         1.000000         0.859006            0.467057       NaN       NaN       NaN  NaN\n",
       "CITY_FT_SF_MEAN               NaN                 NaN   NaN       NaN        NaN        NaN            NaN     NaN        NaN       NaN                    NaN                 NaN             NaN          0.506580              NaN              NaN              NaN             0.515396             0.477367                     NaN        NaN      0.987185          NaN          NaN          NaN         0.859006         1.000000            0.451716       NaN       NaN       NaN  NaN\n",
       "CITY_BHKNO_SF_MEAN            NaN                 NaN   NaN  0.958313        NaN   0.696048            NaN     NaN        NaN       NaN               0.503288           -0.863051        0.951776          0.547096              NaN              NaN              NaN             0.547441             0.549952                0.867586        NaN      0.451499          NaN          NaN          NaN         0.467057         0.451716            1.000000       NaN       NaN       NaN  NaN\n",
       "NCITY                    0.401657                 NaN   NaN       NaN        NaN        NaN            NaN     NaN        NaN       NaN               0.547456                 NaN             NaN               NaN              NaN              NaN              NaN                  NaN                  NaN                     NaN   0.633628           NaN          NaN          NaN     0.653532              NaN              NaN                 NaN  1.000000 -0.483153       NaN  NaN\n",
       "X                             NaN                 NaN   NaN       NaN        NaN        NaN            NaN     NaN        NaN       NaN                    NaN                 NaN             NaN               NaN              NaN              NaN              NaN                  NaN                  NaN                     NaN        NaN           NaN          NaN          NaN          NaN              NaN              NaN                 NaN -0.483153  1.000000       NaN  NaN\n",
       "Y                             NaN                 NaN   NaN       NaN        NaN        NaN            NaN     NaN        NaN       NaN                    NaN                 NaN             NaN               NaN              NaN              NaN              NaN                  NaN                  NaN                     NaN        NaN           NaN          NaN     0.452412          NaN              NaN              NaN                 NaN       NaN       NaN  1.000000  NaN\n",
       "Z                             NaN                 NaN   NaN       NaN        NaN        NaN            NaN     NaN        NaN       NaN                    NaN                 NaN             NaN               NaN              NaN              NaN              NaN                  NaN                  NaN                     NaN        NaN           NaN          NaN          NaN          NaN              NaN              NaN                 NaN       NaN       NaN       NaN  1.0"
      ]
     },
     "execution_count": 72,
     "metadata": {},
     "output_type": "execute_result"
    }
   ],
   "source": [
    "train.corr()[abs(train.corr())>0.4]"
   ]
  },
  {
   "cell_type": "code",
   "execution_count": 73,
   "metadata": {},
   "outputs": [
    {
     "data": {
      "image/png": "[encoded data removed]",
      "text/plain": [
       "<Figure size 1080x576 with 2 Axes>"
      ]
     },
     "metadata": {
      "needs_background": "light"
     },
     "output_type": "display_data"
    }
   ],
   "source": [
    "plt.figure(figsize=(15,8))\n",
    "sns.heatmap(train.corr(),cmap=sns.diverging_palette(20, 220, n=200));"
   ]
  },
  {
   "cell_type": "code",
   "execution_count": 74,
   "metadata": {},
   "outputs": [],
   "source": [
    "cat_cols=['UNDER_CONSTRUCTION','POSTED_BY','RERA','BHK_NO.','BHK_OR_RK','READY_TO_MOVE','RESALE']"
   ]
  },
  {
   "cell_type": "code",
   "execution_count": 75,
   "metadata": {},
   "outputs": [],
   "source": [
    "y=train['TARGET(PRICE_IN_LACS)']\n",
    "X=train.drop(['TARGET(PRICE_IN_LACS)'],axis=1)"
   ]
  },
  {
   "cell_type": "markdown",
   "metadata": {},
   "source": [
    "Kfold LGBM"
   ]
  },
  {
   "cell_type": "code",
   "execution_count": 77,
   "metadata": {},
   "outputs": [
    {
     "name": "stderr",
     "output_type": "stream",
     "text": [
      "/opt/conda/lib/python3.7/site-packages/lightgbm/basic.py:1295: UserWarning: categorical_feature in Dataset is overridden.\n",
      "New categorical_feature is ['BHK_NO.', 'BHK_OR_RK', 'POSTED_BY', 'READY_TO_MOVE', 'RERA', 'RESALE', 'UNDER_CONSTRUCTION']\n",
      "  'New categorical_feature is {}'.format(sorted(list(categorical_feature))))\n"
     ]
    },
    {
     "name": "stdout",
     "output_type": "stream",
     "text": [
      "1  err_lgm:  0.2700085867945723\n"
     ]
    },
    {
     "name": "stderr",
     "output_type": "stream",
     "text": [
      "/opt/conda/lib/python3.7/site-packages/lightgbm/basic.py:1295: UserWarning: categorical_feature in Dataset is overridden.\n",
      "New categorical_feature is ['BHK_NO.', 'BHK_OR_RK', 'POSTED_BY', 'READY_TO_MOVE', 'RERA', 'RESALE', 'UNDER_CONSTRUCTION']\n",
      "  'New categorical_feature is {}'.format(sorted(list(categorical_feature))))\n"
     ]
    },
    {
     "name": "stdout",
     "output_type": "stream",
     "text": [
      "2  err_lgm:  0.29499302782312364\n"
     ]
    },
    {
     "name": "stderr",
     "output_type": "stream",
     "text": [
      "/opt/conda/lib/python3.7/site-packages/lightgbm/basic.py:1295: UserWarning: categorical_feature in Dataset is overridden.\n",
      "New categorical_feature is ['BHK_NO.', 'BHK_OR_RK', 'POSTED_BY', 'READY_TO_MOVE', 'RERA', 'RESALE', 'UNDER_CONSTRUCTION']\n",
      "  'New categorical_feature is {}'.format(sorted(list(categorical_feature))))\n"
     ]
    },
    {
     "name": "stdout",
     "output_type": "stream",
     "text": [
      "3  err_lgm:  0.2748198662360566\n"
     ]
    },
    {
     "name": "stderr",
     "output_type": "stream",
     "text": [
      "/opt/conda/lib/python3.7/site-packages/lightgbm/basic.py:1295: UserWarning: categorical_feature in Dataset is overridden.\n",
      "New categorical_feature is ['BHK_NO.', 'BHK_OR_RK', 'POSTED_BY', 'READY_TO_MOVE', 'RERA', 'RESALE', 'UNDER_CONSTRUCTION']\n",
      "  'New categorical_feature is {}'.format(sorted(list(categorical_feature))))\n"
     ]
    },
    {
     "name": "stdout",
     "output_type": "stream",
     "text": [
      "4  err_lgm:  0.286286485689435\n"
     ]
    },
    {
     "name": "stderr",
     "output_type": "stream",
     "text": [
      "/opt/conda/lib/python3.7/site-packages/lightgbm/basic.py:1295: UserWarning: categorical_feature in Dataset is overridden.\n",
      "New categorical_feature is ['BHK_NO.', 'BHK_OR_RK', 'POSTED_BY', 'READY_TO_MOVE', 'RERA', 'RESALE', 'UNDER_CONSTRUCTION']\n",
      "  'New categorical_feature is {}'.format(sorted(list(categorical_feature))))\n"
     ]
    },
    {
     "name": "stdout",
     "output_type": "stream",
     "text": [
      "5  err_lgm:  0.2674966857761276\n"
     ]
    },
    {
     "name": "stderr",
     "output_type": "stream",
     "text": [
      "/opt/conda/lib/python3.7/site-packages/lightgbm/basic.py:1295: UserWarning: categorical_feature in Dataset is overridden.\n",
      "New categorical_feature is ['BHK_NO.', 'BHK_OR_RK', 'POSTED_BY', 'READY_TO_MOVE', 'RERA', 'RESALE', 'UNDER_CONSTRUCTION']\n",
      "  'New categorical_feature is {}'.format(sorted(list(categorical_feature))))\n"
     ]
    },
    {
     "name": "stdout",
     "output_type": "stream",
     "text": [
      "6  err_lgm:  0.2996768019915952\n"
     ]
    },
    {
     "name": "stderr",
     "output_type": "stream",
     "text": [
      "/opt/conda/lib/python3.7/site-packages/lightgbm/basic.py:1295: UserWarning: categorical_feature in Dataset is overridden.\n",
      "New categorical_feature is ['BHK_NO.', 'BHK_OR_RK', 'POSTED_BY', 'READY_TO_MOVE', 'RERA', 'RESALE', 'UNDER_CONSTRUCTION']\n",
      "  'New categorical_feature is {}'.format(sorted(list(categorical_feature))))\n"
     ]
    },
    {
     "name": "stdout",
     "output_type": "stream",
     "text": [
      "7  err_lgm:  0.27907175357869207\n"
     ]
    },
    {
     "name": "stderr",
     "output_type": "stream",
     "text": [
      "/opt/conda/lib/python3.7/site-packages/lightgbm/basic.py:1295: UserWarning: categorical_feature in Dataset is overridden.\n",
      "New categorical_feature is ['BHK_NO.', 'BHK_OR_RK', 'POSTED_BY', 'READY_TO_MOVE', 'RERA', 'RESALE', 'UNDER_CONSTRUCTION']\n",
      "  'New categorical_feature is {}'.format(sorted(list(categorical_feature))))\n"
     ]
    },
    {
     "name": "stdout",
     "output_type": "stream",
     "text": [
      "8  err_lgm:  0.25030142962007706\n"
     ]
    },
    {
     "name": "stderr",
     "output_type": "stream",
     "text": [
      "/opt/conda/lib/python3.7/site-packages/lightgbm/basic.py:1295: UserWarning: categorical_feature in Dataset is overridden.\n",
      "New categorical_feature is ['BHK_NO.', 'BHK_OR_RK', 'POSTED_BY', 'READY_TO_MOVE', 'RERA', 'RESALE', 'UNDER_CONSTRUCTION']\n",
      "  'New categorical_feature is {}'.format(sorted(list(categorical_feature))))\n"
     ]
    },
    {
     "name": "stdout",
     "output_type": "stream",
     "text": [
      "9  err_lgm:  0.2699603322870716\n"
     ]
    },
    {
     "name": "stderr",
     "output_type": "stream",
     "text": [
      "/opt/conda/lib/python3.7/site-packages/lightgbm/basic.py:1295: UserWarning: categorical_feature in Dataset is overridden.\n",
      "New categorical_feature is ['BHK_NO.', 'BHK_OR_RK', 'POSTED_BY', 'READY_TO_MOVE', 'RERA', 'RESALE', 'UNDER_CONSTRUCTION']\n",
      "  'New categorical_feature is {}'.format(sorted(list(categorical_feature))))\n"
     ]
    },
    {
     "name": "stdout",
     "output_type": "stream",
     "text": [
      "10  err_lgm:  0.2714572438733645\n",
      "CPU times: user 2min 30s, sys: 1.05 s, total: 2min 31s\n",
      "Wall time: 39.4 s\n"
     ]
    },
    {
     "data": {
      "text/plain": [
       "0.27640722136701157"
      ]
     },
     "execution_count": 77,
     "metadata": {},
     "output_type": "execute_result"
    }
   ],
   "source": [
    "%%time \n",
    "from sklearn.model_selection import KFold\n",
    "err = [] \n",
    "y_pred_tot_lgbm = np.zeros((len(test), ))\n",
    "\n",
    "\n",
    "fold = KFold(n_splits=10, shuffle=True, random_state=2020)\n",
    "i = 1\n",
    "\n",
    "for train_index, test_index in fold.split(X, y):\n",
    "    x_train, x_val = X.iloc[train_index], X.iloc[test_index]\n",
    "    y_train, y_val = y.iloc[train_index], y.iloc[test_index]\n",
    "    m = LGBMRegressor(n_estimators=5000,importance_type='gain')\n",
    "    m.fit(x_train, y_train,eval_set=[(x_val, y_val)],early_stopping_rounds=50, categorical_feature=cat_cols,verbose=0)\n",
    "    pred_val = m.predict(x_val)\n",
    "    print(i, \" err_lgm: \", np.sqrt(mean_squared_log_error(np.exp(y_val)-1,np.exp(pred_val)-1)))\n",
    "    err.append(np.sqrt(mean_squared_log_error(np.exp(y_val)-1,np.exp(pred_val)-1)))\n",
    "    y_pred_tot_lgbm+= m.predict(test)\n",
    "    i = i + 1\n",
    "y_pred_tot_lgbm=y_pred_tot_lgbm/10\n",
    "sum(err)/10\n"
   ]
  },
  {
   "cell_type": "code",
   "execution_count": 78,
   "metadata": {},
   "outputs": [],
   "source": [
    "# writing prediction of lgbm to a csv file\n",
    "# sub['TARGET(PRICE_IN_LACS)']=np.exp(y_pred_tot_lgbm)-1\n",
    "# sub.to_csv('lgbm_kfold.csv',index=False)"
   ]
  },
  {
   "cell_type": "markdown",
   "metadata": {},
   "source": [
    "Kfold XgBoost"
   ]
  },
  {
   "cell_type": "code",
   "execution_count": 79,
   "metadata": {},
   "outputs": [
    {
     "data": {
      "text/plain": [
       "XGBRegressor(base_score=0.5, booster='gbtree', colsample_bylevel=1,\n",
       "             colsample_bynode=1, colsample_bytree=1, gamma=0, gpu_id=-1,\n",
       "             importance_type='gain', interaction_constraints='',\n",
       "             learning_rate=0.300000012, max_delta_step=0, max_depth=6,\n",
       "             min_child_weight=1, missing=nan, monotone_constraints='()',\n",
       "             n_estimators=1001, n_jobs=0, num_parallel_tree=1, random_state=0,\n",
       "             reg_alpha=0, reg_lambda=1, scale_pos_weight=1, subsample=1,\n",
       "             tree_method='exact', validate_parameters=1, verbosity=None)"
      ]
     },
     "execution_count": 79,
     "metadata": {},
     "output_type": "execute_result"
    },
    {
     "name": "stdout",
     "output_type": "stream",
     "text": [
      "1  err_xgb:  0.2652555963380819\n"
     ]
    },
    {
     "data": {
      "text/plain": [
       "XGBRegressor(base_score=0.5, booster='gbtree', colsample_bylevel=1,\n",
       "             colsample_bynode=1, colsample_bytree=1, gamma=0, gpu_id=-1,\n",
       "             importance_type='gain', interaction_constraints='',\n",
       "             learning_rate=0.300000012, max_delta_step=0, max_depth=6,\n",
       "             min_child_weight=1, missing=nan, monotone_constraints='()',\n",
       "             n_estimators=1001, n_jobs=0, num_parallel_tree=1, random_state=0,\n",
       "             reg_alpha=0, reg_lambda=1, scale_pos_weight=1, subsample=1,\n",
       "             tree_method='exact', validate_parameters=1, verbosity=None)"
      ]
     },
     "execution_count": 79,
     "metadata": {},
     "output_type": "execute_result"
    },
    {
     "name": "stdout",
     "output_type": "stream",
     "text": [
      "2  err_xgb:  0.2957315211729568\n"
     ]
    },
    {
     "data": {
      "text/plain": [
       "XGBRegressor(base_score=0.5, booster='gbtree', colsample_bylevel=1,\n",
       "             colsample_bynode=1, colsample_bytree=1, gamma=0, gpu_id=-1,\n",
       "             importance_type='gain', interaction_constraints='',\n",
       "             learning_rate=0.300000012, max_delta_step=0, max_depth=6,\n",
       "             min_child_weight=1, missing=nan, monotone_constraints='()',\n",
       "             n_estimators=1001, n_jobs=0, num_parallel_tree=1, random_state=0,\n",
       "             reg_alpha=0, reg_lambda=1, scale_pos_weight=1, subsample=1,\n",
       "             tree_method='exact', validate_parameters=1, verbosity=None)"
      ]
     },
     "execution_count": 79,
     "metadata": {},
     "output_type": "execute_result"
    },
    {
     "name": "stdout",
     "output_type": "stream",
     "text": [
      "3  err_xgb:  0.2694949105820445\n"
     ]
    },
    {
     "data": {
      "text/plain": [
       "XGBRegressor(base_score=0.5, booster='gbtree', colsample_bylevel=1,\n",
       "             colsample_bynode=1, colsample_bytree=1, gamma=0, gpu_id=-1,\n",
       "             importance_type='gain', interaction_constraints='',\n",
       "             learning_rate=0.300000012, max_delta_step=0, max_depth=6,\n",
       "             min_child_weight=1, missing=nan, monotone_constraints='()',\n",
       "             n_estimators=1001, n_jobs=0, num_parallel_tree=1, random_state=0,\n",
       "             reg_alpha=0, reg_lambda=1, scale_pos_weight=1, subsample=1,\n",
       "             tree_method='exact', validate_parameters=1, verbosity=None)"
      ]
     },
     "execution_count": 79,
     "metadata": {},
     "output_type": "execute_result"
    },
    {
     "name": "stdout",
     "output_type": "stream",
     "text": [
      "4  err_xgb:  0.2912778694759418\n"
     ]
    },
    {
     "data": {
      "text/plain": [
       "XGBRegressor(base_score=0.5, booster='gbtree', colsample_bylevel=1,\n",
       "             colsample_bynode=1, colsample_bytree=1, gamma=0, gpu_id=-1,\n",
       "             importance_type='gain', interaction_constraints='',\n",
       "             learning_rate=0.300000012, max_delta_step=0, max_depth=6,\n",
       "             min_child_weight=1, missing=nan, monotone_constraints='()',\n",
       "             n_estimators=1001, n_jobs=0, num_parallel_tree=1, random_state=0,\n",
       "             reg_alpha=0, reg_lambda=1, scale_pos_weight=1, subsample=1,\n",
       "             tree_method='exact', validate_parameters=1, verbosity=None)"
      ]
     },
     "execution_count": 79,
     "metadata": {},
     "output_type": "execute_result"
    },
    {
     "name": "stdout",
     "output_type": "stream",
     "text": [
      "5  err_xgb:  0.274663725575146\n"
     ]
    },
    {
     "data": {
      "text/plain": [
       "XGBRegressor(base_score=0.5, booster='gbtree', colsample_bylevel=1,\n",
       "             colsample_bynode=1, colsample_bytree=1, gamma=0, gpu_id=-1,\n",
       "             importance_type='gain', interaction_constraints='',\n",
       "             learning_rate=0.300000012, max_delta_step=0, max_depth=6,\n",
       "             min_child_weight=1, missing=nan, monotone_constraints='()',\n",
       "             n_estimators=1001, n_jobs=0, num_parallel_tree=1, random_state=0,\n",
       "             reg_alpha=0, reg_lambda=1, scale_pos_weight=1, subsample=1,\n",
       "             tree_method='exact', validate_parameters=1, verbosity=None)"
      ]
     },
     "execution_count": 79,
     "metadata": {},
     "output_type": "execute_result"
    },
    {
     "name": "stdout",
     "output_type": "stream",
     "text": [
      "6  err_xgb:  0.3072236245374282\n"
     ]
    },
    {
     "data": {
      "text/plain": [
       "XGBRegressor(base_score=0.5, booster='gbtree', colsample_bylevel=1,\n",
       "             colsample_bynode=1, colsample_bytree=1, gamma=0, gpu_id=-1,\n",
       "             importance_type='gain', interaction_constraints='',\n",
       "             learning_rate=0.300000012, max_delta_step=0, max_depth=6,\n",
       "             min_child_weight=1, missing=nan, monotone_constraints='()',\n",
       "             n_estimators=1001, n_jobs=0, num_parallel_tree=1, random_state=0,\n",
       "             reg_alpha=0, reg_lambda=1, scale_pos_weight=1, subsample=1,\n",
       "             tree_method='exact', validate_parameters=1, verbosity=None)"
      ]
     },
     "execution_count": 79,
     "metadata": {},
     "output_type": "execute_result"
    },
    {
     "name": "stdout",
     "output_type": "stream",
     "text": [
      "7  err_xgb:  0.29145716034095387\n"
     ]
    },
    {
     "data": {
      "text/plain": [
       "XGBRegressor(base_score=0.5, booster='gbtree', colsample_bylevel=1,\n",
       "             colsample_bynode=1, colsample_bytree=1, gamma=0, gpu_id=-1,\n",
       "             importance_type='gain', interaction_constraints='',\n",
       "             learning_rate=0.300000012, max_delta_step=0, max_depth=6,\n",
       "             min_child_weight=1, missing=nan, monotone_constraints='()',\n",
       "             n_estimators=1001, n_jobs=0, num_parallel_tree=1, random_state=0,\n",
       "             reg_alpha=0, reg_lambda=1, scale_pos_weight=1, subsample=1,\n",
       "             tree_method='exact', validate_parameters=1, verbosity=None)"
      ]
     },
     "execution_count": 79,
     "metadata": {},
     "output_type": "execute_result"
    },
    {
     "name": "stdout",
     "output_type": "stream",
     "text": [
      "8  err_xgb:  0.2569950050799101\n"
     ]
    },
    {
     "data": {
      "text/plain": [
       "XGBRegressor(base_score=0.5, booster='gbtree', colsample_bylevel=1,\n",
       "             colsample_bynode=1, colsample_bytree=1, gamma=0, gpu_id=-1,\n",
       "             importance_type='gain', interaction_constraints='',\n",
       "             learning_rate=0.300000012, max_delta_step=0, max_depth=6,\n",
       "             min_child_weight=1, missing=nan, monotone_constraints='()',\n",
       "             n_estimators=1001, n_jobs=0, num_parallel_tree=1, random_state=0,\n",
       "             reg_alpha=0, reg_lambda=1, scale_pos_weight=1, subsample=1,\n",
       "             tree_method='exact', validate_parameters=1, verbosity=None)"
      ]
     },
     "execution_count": 79,
     "metadata": {},
     "output_type": "execute_result"
    },
    {
     "name": "stdout",
     "output_type": "stream",
     "text": [
      "9  err_xgb:  0.276474953936679\n"
     ]
    },
    {
     "data": {
      "text/plain": [
       "XGBRegressor(base_score=0.5, booster='gbtree', colsample_bylevel=1,\n",
       "             colsample_bynode=1, colsample_bytree=1, gamma=0, gpu_id=-1,\n",
       "             importance_type='gain', interaction_constraints='',\n",
       "             learning_rate=0.300000012, max_delta_step=0, max_depth=6,\n",
       "             min_child_weight=1, missing=nan, monotone_constraints='()',\n",
       "             n_estimators=1001, n_jobs=0, num_parallel_tree=1, random_state=0,\n",
       "             reg_alpha=0, reg_lambda=1, scale_pos_weight=1, subsample=1,\n",
       "             tree_method='exact', validate_parameters=1, verbosity=None)"
      ]
     },
     "execution_count": 79,
     "metadata": {},
     "output_type": "execute_result"
    },
    {
     "name": "stdout",
     "output_type": "stream",
     "text": [
      "10  err_xgb:  0.272172898809599\n"
     ]
    },
    {
     "data": {
      "text/plain": [
       "0.2800747265848741"
      ]
     },
     "execution_count": 79,
     "metadata": {},
     "output_type": "execute_result"
    }
   ],
   "source": [
    "err = [] \n",
    "y_pred_tot_xgb = np.zeros((len(test), ))\n",
    "\n",
    "\n",
    "fold = KFold(n_splits=10, shuffle=True, random_state=2020)\n",
    "i = 1\n",
    "\n",
    "for train_index, test_index in fold.split(X, y):\n",
    "    x_train, x_val = X.iloc[train_index], X.iloc[test_index]\n",
    "    y_train, y_val = y.iloc[train_index], y.iloc[test_index]\n",
    "    m = XGBRegressor(n_estimators=1001)\n",
    "    m.fit(x_train, y_train,eval_set=[(x_val, y_val)],early_stopping_rounds=50,verbose=0)\n",
    "    pred_val = m.predict(x_val)\n",
    "    print(i, \" err_xgb: \", np.sqrt(mean_squared_log_error(np.exp(y_val)-1,np.exp(pred_val)-1)))\n",
    "    err.append(np.sqrt(mean_squared_log_error(np.exp(y_val)-1,np.exp(pred_val)-1)))\n",
    "    y_pred_tot_xgb+= m.predict(test)\n",
    "    i = i + 1\n",
    "y_pred_tot_xgb=y_pred_tot_xgb/10\n",
    "sum(err)/10"
   ]
  },
  {
   "cell_type": "code",
   "execution_count": 80,
   "metadata": {},
   "outputs": [],
   "source": [
    "# writing prediction of xgboost to a csv file\n",
    "# sub['TARGET(PRICE_IN_LACS)']=np.exp(y_pred_tot_xgb)-1\n",
    "# sub.to_csv('xgb_kfold.csv',index=False)"
   ]
  },
  {
   "cell_type": "markdown",
   "metadata": {},
   "source": [
    "kfold catboost"
   ]
  },
  {
   "cell_type": "code",
   "execution_count": 81,
   "metadata": {},
   "outputs": [
    {
     "data": {
      "text/plain": [
       "<catboost.core.CatBoostRegressor at 0x7f014920de10>"
      ]
     },
     "execution_count": 81,
     "metadata": {},
     "output_type": "execute_result"
    },
    {
     "name": "stdout",
     "output_type": "stream",
     "text": [
      "1  err_catb:  0.26110565652048007\n"
     ]
    },
    {
     "data": {
      "text/plain": [
       "<catboost.core.CatBoostRegressor at 0x7f0148987c90>"
      ]
     },
     "execution_count": 81,
     "metadata": {},
     "output_type": "execute_result"
    },
    {
     "name": "stdout",
     "output_type": "stream",
     "text": [
      "2  err_catb:  0.29477836665769525\n"
     ]
    },
    {
     "data": {
      "text/plain": [
       "<catboost.core.CatBoostRegressor at 0x7f014920dcd0>"
      ]
     },
     "execution_count": 81,
     "metadata": {},
     "output_type": "execute_result"
    },
    {
     "name": "stdout",
     "output_type": "stream",
     "text": [
      "3  err_catb:  0.2740556567109096\n"
     ]
    },
    {
     "data": {
      "text/plain": [
       "<catboost.core.CatBoostRegressor at 0x7f0149234a90>"
      ]
     },
     "execution_count": 81,
     "metadata": {},
     "output_type": "execute_result"
    },
    {
     "name": "stdout",
     "output_type": "stream",
     "text": [
      "4  err_catb:  0.2861999314849433\n"
     ]
    },
    {
     "data": {
      "text/plain": [
       "<catboost.core.CatBoostRegressor at 0x7f0149234a50>"
      ]
     },
     "execution_count": 81,
     "metadata": {},
     "output_type": "execute_result"
    },
    {
     "name": "stdout",
     "output_type": "stream",
     "text": [
      "5  err_catb:  0.26677331562209683\n"
     ]
    },
    {
     "data": {
      "text/plain": [
       "<catboost.core.CatBoostRegressor at 0x7f014898f750>"
      ]
     },
     "execution_count": 81,
     "metadata": {},
     "output_type": "execute_result"
    },
    {
     "name": "stdout",
     "output_type": "stream",
     "text": [
      "6  err_catb:  0.2859328419069842\n"
     ]
    },
    {
     "data": {
      "text/plain": [
       "<catboost.core.CatBoostRegressor at 0x7f01492347d0>"
      ]
     },
     "execution_count": 81,
     "metadata": {},
     "output_type": "execute_result"
    },
    {
     "name": "stdout",
     "output_type": "stream",
     "text": [
      "7  err_catb:  0.28143982458641165\n"
     ]
    },
    {
     "data": {
      "text/plain": [
       "<catboost.core.CatBoostRegressor at 0x7f0149234a10>"
      ]
     },
     "execution_count": 81,
     "metadata": {},
     "output_type": "execute_result"
    },
    {
     "name": "stdout",
     "output_type": "stream",
     "text": [
      "8  err_catb:  0.24977836602593637\n"
     ]
    },
    {
     "data": {
      "text/plain": [
       "<catboost.core.CatBoostRegressor at 0x7f014a1ad9d0>"
      ]
     },
     "execution_count": 81,
     "metadata": {},
     "output_type": "execute_result"
    },
    {
     "name": "stdout",
     "output_type": "stream",
     "text": [
      "9  err_catb:  0.27165680112243323\n"
     ]
    },
    {
     "data": {
      "text/plain": [
       "<catboost.core.CatBoostRegressor at 0x7f014898f090>"
      ]
     },
     "execution_count": 81,
     "metadata": {},
     "output_type": "execute_result"
    },
    {
     "name": "stdout",
     "output_type": "stream",
     "text": [
      "10  err_catb:  0.2692244392115528\n"
     ]
    },
    {
     "data": {
      "text/plain": [
       "0.2740945199849444"
      ]
     },
     "execution_count": 81,
     "metadata": {},
     "output_type": "execute_result"
    }
   ],
   "source": [
    "err = [] \n",
    "y_pred_tot_catb = np.zeros((len(test), ))\n",
    "\n",
    "\n",
    "fold = KFold(n_splits=10, shuffle=True, random_state=2020)\n",
    "i = 1\n",
    "\n",
    "for train_index, test_index in fold.split(X, y):\n",
    "    x_train, x_val = X.iloc[train_index], X.iloc[test_index]\n",
    "    y_train, y_val = y.iloc[train_index], y.iloc[test_index]\n",
    "    m = CatBoostRegressor(n_estimators=5000)\n",
    "    m.fit(x_train, y_train,eval_set=[(x_val, y_val)],cat_features=cat_cols,early_stopping_rounds=50,verbose=0)\n",
    "    pred_val = m.predict(x_val)\n",
    "    print(i, \" err_catb: \", np.sqrt(mean_squared_log_error(np.exp(y_val)-1,np.exp(pred_val)-1)))\n",
    "    err.append(np.sqrt(mean_squared_log_error(np.exp(y_val)-1,np.exp(pred_val)-1)))\n",
    "    y_pred_tot_catb+= m.predict(test)\n",
    "    i = i + 1\n",
    "y_pred_tot_catb=y_pred_tot_catb/10\n",
    "sum(err)/10"
   ]
  },
  {
   "cell_type": "code",
   "execution_count": 82,
   "metadata": {},
   "outputs": [],
   "source": [
    "# writing prediction of catboost to a csv file\n",
    "# sub['TARGET(PRICE_IN_LACS)']=np.exp(y_pred_tot_catb)-1\n",
    "# sub.to_csv('catb_kfold.csv',index=False)"
   ]
  },
  {
   "cell_type": "code",
   "execution_count": 83,
   "metadata": {},
   "outputs": [],
   "source": [
    "# writing ensemble of above three predictions to a csv file\n",
    "sub['TARGET(PRICE_IN_LACS)']=np.exp((y_pred_tot_xgb*0.62+y_pred_tot_lgbm*0.19+y_pred_tot_catb*0.19))-1\n",
    "sub['TARGET(PRICE_IN_LACS)']=y_from_train.fillna(sub['TARGET(PRICE_IN_LACS)'])\n",
    "sub.to_csv('avg3.csv',index=False)"
   ]
  }
 ],
 "metadata": {
  "kernelspec": {
   "display_name": "Python 3 (ipykernel)",
   "language": "python",
   "name": "python3"
  },
  "language_info": {
   "codemirror_mode": {
    "name": "ipython",
    "version": 3
   },
   "file_extension": ".py",
   "mimetype": "text/x-python",
   "name": "python",
   "nbconvert_exporter": "python",
   "pygments_lexer": "ipython3",
   "version": "3.7.16"
  }
 },
 "nbformat": 4,
 "nbformat_minor": 4
}
