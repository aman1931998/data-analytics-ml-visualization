{
 "cells": [
  {
   "cell_type": "code",
   "execution_count": 1,
   "metadata": {},
   "outputs": [],
   "source": [
    "import pandas as pd\n",
    "import numpy as np\n",
    "import re"
   ]
  },
  {
   "cell_type": "code",
   "execution_count": 2,
   "metadata": {},
   "outputs": [],
   "source": [
    "df=pd.read_csv('train.csv')"
   ]
  },
  {
   "cell_type": "code",
   "execution_count": 3,
   "metadata": {},
   "outputs": [
    {
     "data": {
      "text/plain": [
       "area_type          0\n",
       "availability       0\n",
       "location           1\n",
       "size              16\n",
       "society         5502\n",
       "total_sqft         0\n",
       "bath              73\n",
       "balcony          609\n",
       "price              0\n",
       "dtype: int64"
      ]
     },
     "execution_count": 3,
     "metadata": {},
     "output_type": "execute_result"
    }
   ],
   "source": [
    "df.isnull().sum()"
   ]
  },
  {
   "cell_type": "code",
   "execution_count": 4,
   "metadata": {},
   "outputs": [
    {
     "data": {
      "text/plain": [
       "(13320, 9)"
      ]
     },
     "execution_count": 4,
     "metadata": {},
     "output_type": "execute_result"
    }
   ],
   "source": [
    "df.shape"
   ]
  },
  {
   "cell_type": "code",
   "execution_count": 5,
   "metadata": {},
   "outputs": [
    {
     "data": {
      "text/plain": [
       "Whitefield                   540\n",
       "Sarjapur  Road               399\n",
       "Electronic City              302\n",
       "Kanakpura Road               273\n",
       "Thanisandra                  234\n",
       "                            ... \n",
       "Electronic City Phase 1,       1\n",
       "K R C kothanur                 1\n",
       "Jay an agar 4 T Block          1\n",
       "3rd Block HBR Layout           1\n",
       "Banashankari Stage I           1\n",
       "Name: location, Length: 1305, dtype: int64"
      ]
     },
     "execution_count": 5,
     "metadata": {},
     "output_type": "execute_result"
    }
   ],
   "source": [
    "df['location'].value_counts()"
   ]
  },
  {
   "cell_type": "code",
   "execution_count": 6,
   "metadata": {},
   "outputs": [
    {
     "data": {
      "text/plain": [
       "GrrvaGr    80\n",
       "PrarePa    76\n",
       "Sryalan    59\n",
       "Prtates    59\n",
       "GMown E    56\n",
       "           ..\n",
       "Srarkav     1\n",
       "DSalehn     1\n",
       "Srowsrj     1\n",
       "Saandtt     1\n",
       "Saavear     1\n",
       "Name: society, Length: 2688, dtype: int64"
      ]
     },
     "execution_count": 6,
     "metadata": {},
     "output_type": "execute_result"
    }
   ],
   "source": [
    "df['society'].value_counts()"
   ]
  },
  {
   "cell_type": "code",
   "execution_count": 7,
   "metadata": {},
   "outputs": [
    {
     "data": {
      "text/plain": [
       "2689"
      ]
     },
     "execution_count": 7,
     "metadata": {},
     "output_type": "execute_result"
    }
   ],
   "source": [
    "len(df['society'].unique())"
   ]
  },
  {
   "cell_type": "code",
   "execution_count": 8,
   "metadata": {},
   "outputs": [
    {
     "data": {
      "text/plain": [
       "1306"
      ]
     },
     "execution_count": 8,
     "metadata": {},
     "output_type": "execute_result"
    }
   ],
   "source": [
    "len(df['location'].unique())"
   ]
  },
  {
   "cell_type": "code",
   "execution_count": 9,
   "metadata": {},
   "outputs": [],
   "source": [
    "df1=df.drop(['price'],axis=1)"
   ]
  },
  {
   "cell_type": "code",
   "execution_count": 10,
   "metadata": {},
   "outputs": [],
   "source": [
    "df1['total_sqft'] = df1['total_sqft'].apply(lambda x: x.split(' - ')[1] if (len(x.split(' - ')))>1 else x.split(' - ')[0]) \n",
    "df1['total_sqft'] = df1['total_sqft'].apply(lambda x: re.findall(r'\\d+',x)[0])\n",
    "df1['total_sqft'] = df1['total_sqft'].astype(np.float64)"
   ]
  },
  {
   "cell_type": "code",
   "execution_count": 11,
   "metadata": {},
   "outputs": [
    {
     "name": "stdout",
     "output_type": "stream",
     "text": [
      "numerical features: ['total_sqft', 'bath', 'balcony']\n",
      "discrete features: ['bath', 'balcony']\n",
      "continous features: ['total_sqft']\n",
      "categorical features: ['area_type', 'availability', 'location', 'size', 'society']\n"
     ]
    }
   ],
   "source": [
    "numerical_features= [feature for feature in df1.columns if df1[feature].dtypes!='O']\n",
    "discrete_features = [feature for feature in numerical_features if len(df1[feature].unique())<25]\n",
    "continous_features = [feature for feature in numerical_features if feature not in discrete_features]\n",
    "categorical_features = [feature for feature in df1.columns if feature not in numerical_features]\n",
    "print(\"numerical features:\",numerical_features)\n",
    "print(\"discrete features:\",discrete_features)\n",
    "print(\"continous features:\",continous_features)\n",
    "print(\"categorical features:\",categorical_features)"
   ]
  },
  {
   "cell_type": "code",
   "execution_count": 12,
   "metadata": {},
   "outputs": [],
   "source": [
    "df1['location']=df1['location'].fillna(value=df1['location'].value_counts().idxmax())\n",
    "df1['size']=df1['size'].fillna(value=df1['size'].value_counts().idxmax())\n",
    "df1['society']=df1['society'].fillna(value=df1['society'].value_counts().idxmax())"
   ]
  },
  {
   "cell_type": "code",
   "execution_count": 13,
   "metadata": {},
   "outputs": [],
   "source": [
    "for feature in discrete_features:\n",
    "    df1[feature]=df1[feature].fillna(value=df1[feature].value_counts().idxmax())"
   ]
  },
  {
   "cell_type": "code",
   "execution_count": 14,
   "metadata": {},
   "outputs": [
    {
     "data": {
      "text/plain": [
       "area_type       0\n",
       "availability    0\n",
       "location        0\n",
       "size            0\n",
       "society         0\n",
       "total_sqft      0\n",
       "bath            0\n",
       "balcony         0\n",
       "dtype: int64"
      ]
     },
     "execution_count": 14,
     "metadata": {},
     "output_type": "execute_result"
    }
   ],
   "source": [
    "df1.isnull().sum()"
   ]
  },
  {
   "cell_type": "code",
   "execution_count": 15,
   "metadata": {},
   "outputs": [],
   "source": [
    "from sklearn.preprocessing import LabelEncoder\n",
    "le=LabelEncoder()\n",
    "for feature in categorical_features:\n",
    "    df1[feature]=le.fit_transform(df1[feature])"
   ]
  },
  {
   "cell_type": "code",
   "execution_count": 16,
   "metadata": {},
   "outputs": [],
   "source": [
    "from sklearn.feature_selection import mutual_info_regression"
   ]
  },
  {
   "cell_type": "code",
   "execution_count": 17,
   "metadata": {},
   "outputs": [
    {
     "data": {
      "text/plain": [
       "array([0.12952567, 0.10809246, 0.3696511 , 0.42187842, 0.37088014,\n",
       "       0.89820808, 0.40329357, 0.09096636])"
      ]
     },
     "execution_count": 17,
     "metadata": {},
     "output_type": "execute_result"
    }
   ],
   "source": [
    "mutual_info=mutual_info_regression(df1,df['price'])\n",
    "mutual_info"
   ]
  },
  {
   "cell_type": "code",
   "execution_count": 18,
   "metadata": {},
   "outputs": [
    {
     "data": {
      "text/plain": [
       "total_sqft      0.898208\n",
       "size            0.421878\n",
       "bath            0.403294\n",
       "society         0.370880\n",
       "location        0.369651\n",
       "area_type       0.129526\n",
       "availability    0.108092\n",
       "balcony         0.090966\n",
       "dtype: float64"
      ]
     },
     "execution_count": 18,
     "metadata": {},
     "output_type": "execute_result"
    }
   ],
   "source": [
    "mutual_info=pd.Series(mutual_info)\n",
    "mutual_info.index=df1.columns\n",
    "mutual_info.sort_values(ascending=False)"
   ]
  },
  {
   "cell_type": "code",
   "execution_count": 19,
   "metadata": {},
   "outputs": [
    {
     "data": {
      "text/plain": [
       "Index(['total_sqft', 'size', 'bath', 'society', 'location'], dtype='object')"
      ]
     },
     "execution_count": 19,
     "metadata": {},
     "output_type": "execute_result"
    }
   ],
   "source": [
    "features=mutual_info.nlargest(5).index\n",
    "features"
   ]
  },
  {
   "cell_type": "code",
   "execution_count": 20,
   "metadata": {},
   "outputs": [
    {
     "data": {
      "text/html": [
       "<div>\n",
       "<style scoped>\n",
       "    .dataframe tbody tr th:only-of-type {\n",
       "        vertical-align: middle;\n",
       "    }\n",
       "\n",
       "    .dataframe tbody tr th {\n",
       "        vertical-align: top;\n",
       "    }\n",
       "\n",
       "    .dataframe thead th {\n",
       "        text-align: right;\n",
       "    }\n",
       "</style>\n",
       "<table border=\"1\" class=\"dataframe\">\n",
       "  <thead>\n",
       "    <tr style=\"text-align: right;\">\n",
       "      <th></th>\n",
       "      <th>total_sqft</th>\n",
       "      <th>size</th>\n",
       "      <th>bath</th>\n",
       "      <th>society</th>\n",
       "      <th>location</th>\n",
       "    </tr>\n",
       "  </thead>\n",
       "  <tbody>\n",
       "    <tr>\n",
       "      <th>0</th>\n",
       "      <td>1056.0</td>\n",
       "      <td>13</td>\n",
       "      <td>2.0</td>\n",
       "      <td>464</td>\n",
       "      <td>419</td>\n",
       "    </tr>\n",
       "    <tr>\n",
       "      <th>1</th>\n",
       "      <td>2600.0</td>\n",
       "      <td>19</td>\n",
       "      <td>5.0</td>\n",
       "      <td>2439</td>\n",
       "      <td>317</td>\n",
       "    </tr>\n",
       "    <tr>\n",
       "      <th>2</th>\n",
       "      <td>1440.0</td>\n",
       "      <td>16</td>\n",
       "      <td>2.0</td>\n",
       "      <td>806</td>\n",
       "      <td>1179</td>\n",
       "    </tr>\n",
       "    <tr>\n",
       "      <th>3</th>\n",
       "      <td>1521.0</td>\n",
       "      <td>16</td>\n",
       "      <td>3.0</td>\n",
       "      <td>2186</td>\n",
       "      <td>757</td>\n",
       "    </tr>\n",
       "    <tr>\n",
       "      <th>4</th>\n",
       "      <td>1200.0</td>\n",
       "      <td>13</td>\n",
       "      <td>2.0</td>\n",
       "      <td>806</td>\n",
       "      <td>716</td>\n",
       "    </tr>\n",
       "  </tbody>\n",
       "</table>\n",
       "</div>"
      ],
      "text/plain": [
       "   total_sqft  size  bath  society  location\n",
       "0      1056.0    13   2.0      464       419\n",
       "1      2600.0    19   5.0     2439       317\n",
       "2      1440.0    16   2.0      806      1179\n",
       "3      1521.0    16   3.0     2186       757\n",
       "4      1200.0    13   2.0      806       716"
      ]
     },
     "execution_count": 20,
     "metadata": {},
     "output_type": "execute_result"
    }
   ],
   "source": [
    "df1[features].head()"
   ]
  },
  {
   "cell_type": "code",
   "execution_count": 21,
   "metadata": {},
   "outputs": [],
   "source": [
    "from sklearn.model_selection import train_test_split\n",
    "X_train,X_test,Y_train,Y_test=train_test_split(df1[features],df['price'],test_size=0.1,shuffle=True)"
   ]
  },
  {
   "cell_type": "code",
   "execution_count": 22,
   "metadata": {},
   "outputs": [],
   "source": [
    "from sklearn.ensemble import RandomForestRegressor\n",
    "rf=RandomForestRegressor()"
   ]
  },
  {
   "cell_type": "code",
   "execution_count": 23,
   "metadata": {},
   "outputs": [
    {
     "data": {
      "text/plain": [
       "RandomForestRegressor()"
      ]
     },
     "execution_count": 23,
     "metadata": {},
     "output_type": "execute_result"
    }
   ],
   "source": [
    "rf.fit(X_train,Y_train)"
   ]
  },
  {
   "cell_type": "code",
   "execution_count": 25,
   "metadata": {},
   "outputs": [
    {
     "name": "stdout",
     "output_type": "stream",
     "text": [
      "34.6673426692698\n",
      "97.60630256165474\n",
      "-0.15721713105718566\n"
     ]
    }
   ],
   "source": [
    "from sklearn.metrics import mean_absolute_error,mean_squared_error\n",
    "preds=rf.predict(X_test)\n",
    "print(mean_absolute_error(preds,Y_test))\n",
    "print(np.sqrt(mean_squared_error(preds,Y_test)))\n",
    "print(- np.sqrt(np.square(np.log10(preds +1) - np.log10(Y_test +1)).mean()))"
   ]
  },
  {
   "cell_type": "code",
   "execution_count": 27,
   "metadata": {},
   "outputs": [
    {
     "name": "stdout",
     "output_type": "stream",
     "text": [
      "12.813727743667286\n",
      "37.0587800272615\n",
      "-0.06436535224127594\n"
     ]
    }
   ],
   "source": [
    "preds=rf.predict(X_train)\n",
    "print(mean_absolute_error(preds,Y_train))\n",
    "print(np.sqrt(mean_squared_error(preds,Y_train)))\n",
    "print(- np.sqrt(np.square(np.log10(preds +1) - np.log10(Y_train +1)).mean()))"
   ]
  },
  {
   "cell_type": "code",
   "execution_count": 28,
   "metadata": {},
   "outputs": [],
   "source": [
    "n_estimators=[int(x) for x in np.linspace(start=100,stop=1200,num=12)]\n",
    "max_features=['auto','sqrt']\n",
    "max_depth=[int(x) for x in np.linspace(start=5,stop=30,num=6)]\n",
    "min_samples_split=[2,5,10,15,100]\n",
    "min_samples_leaf=[1,2,5,10]"
   ]
  },
  {
   "cell_type": "code",
   "execution_count": 29,
   "metadata": {},
   "outputs": [
    {
     "name": "stdout",
     "output_type": "stream",
     "text": [
      "{'n_estimators': [100, 200, 300, 400, 500, 600, 700, 800, 900, 1000, 1100, 1200], 'max_features': ['auto', 'sqrt'], 'max_depth': [5, 10, 15, 20, 25, 30], 'min_samples_split': [2, 5, 10, 15, 100], 'min_samples_leaf': [1, 2, 5, 10]}\n"
     ]
    }
   ],
   "source": [
    "grid={'n_estimators':n_estimators,'max_features':max_features,'max_depth':max_depth,'min_samples_split':min_samples_split,'min_samples_leaf':min_samples_leaf}\n",
    "print(grid)"
   ]
  },
  {
   "cell_type": "code",
   "execution_count": 30,
   "metadata": {},
   "outputs": [],
   "source": [
    "from sklearn.model_selection import RandomizedSearchCV\n",
    "rf_random = RandomizedSearchCV(estimator = rf, param_distributions=grid,scoring='neg_mean_squared_error',n_iter=10,cv = 5,random_state=42,verbose=2,n_jobs = 1)"
   ]
  },
  {
   "cell_type": "code",
   "execution_count": 31,
   "metadata": {},
   "outputs": [
    {
     "name": "stdout",
     "output_type": "stream",
     "text": [
      "Fitting 5 folds for each of 10 candidates, totalling 50 fits\n",
      "[CV] n_estimators=900, min_samples_split=5, min_samples_leaf=5, max_features=sqrt, max_depth=10 \n"
     ]
    },
    {
     "name": "stderr",
     "output_type": "stream",
     "text": [
      "[Parallel(n_jobs=1)]: Using backend SequentialBackend with 1 concurrent workers.\n"
     ]
    },
    {
     "name": "stdout",
     "output_type": "stream",
     "text": [
      "[CV]  n_estimators=900, min_samples_split=5, min_samples_leaf=5, max_features=sqrt, max_depth=10, total=   5.5s\n",
      "[CV] n_estimators=900, min_samples_split=5, min_samples_leaf=5, max_features=sqrt, max_depth=10 \n"
     ]
    },
    {
     "name": "stderr",
     "output_type": "stream",
     "text": [
      "[Parallel(n_jobs=1)]: Done   1 out of   1 | elapsed:    5.4s remaining:    0.0s\n"
     ]
    },
    {
     "name": "stdout",
     "output_type": "stream",
     "text": [
      "[CV]  n_estimators=900, min_samples_split=5, min_samples_leaf=5, max_features=sqrt, max_depth=10, total=   5.5s\n",
      "[CV] n_estimators=900, min_samples_split=5, min_samples_leaf=5, max_features=sqrt, max_depth=10 \n",
      "[CV]  n_estimators=900, min_samples_split=5, min_samples_leaf=5, max_features=sqrt, max_depth=10, total=   5.8s\n",
      "[CV] n_estimators=900, min_samples_split=5, min_samples_leaf=5, max_features=sqrt, max_depth=10 \n",
      "[CV]  n_estimators=900, min_samples_split=5, min_samples_leaf=5, max_features=sqrt, max_depth=10, total=   6.0s\n",
      "[CV] n_estimators=900, min_samples_split=5, min_samples_leaf=5, max_features=sqrt, max_depth=10 \n",
      "[CV]  n_estimators=900, min_samples_split=5, min_samples_leaf=5, max_features=sqrt, max_depth=10, total=   6.0s\n",
      "[CV] n_estimators=1100, min_samples_split=10, min_samples_leaf=2, max_features=sqrt, max_depth=15 \n",
      "[CV]  n_estimators=1100, min_samples_split=10, min_samples_leaf=2, max_features=sqrt, max_depth=15, total=  10.0s\n",
      "[CV] n_estimators=1100, min_samples_split=10, min_samples_leaf=2, max_features=sqrt, max_depth=15 \n",
      "[CV]  n_estimators=1100, min_samples_split=10, min_samples_leaf=2, max_features=sqrt, max_depth=15, total=  10.0s\n",
      "[CV] n_estimators=1100, min_samples_split=10, min_samples_leaf=2, max_features=sqrt, max_depth=15 \n",
      "[CV]  n_estimators=1100, min_samples_split=10, min_samples_leaf=2, max_features=sqrt, max_depth=15, total=   9.4s\n",
      "[CV] n_estimators=1100, min_samples_split=10, min_samples_leaf=2, max_features=sqrt, max_depth=15 \n",
      "[CV]  n_estimators=1100, min_samples_split=10, min_samples_leaf=2, max_features=sqrt, max_depth=15, total=  10.5s\n",
      "[CV] n_estimators=1100, min_samples_split=10, min_samples_leaf=2, max_features=sqrt, max_depth=15 \n",
      "[CV]  n_estimators=1100, min_samples_split=10, min_samples_leaf=2, max_features=sqrt, max_depth=15, total=   9.8s\n",
      "[CV] n_estimators=300, min_samples_split=100, min_samples_leaf=5, max_features=auto, max_depth=15 \n",
      "[CV]  n_estimators=300, min_samples_split=100, min_samples_leaf=5, max_features=auto, max_depth=15, total=   3.9s\n",
      "[CV] n_estimators=300, min_samples_split=100, min_samples_leaf=5, max_features=auto, max_depth=15 \n",
      "[CV]  n_estimators=300, min_samples_split=100, min_samples_leaf=5, max_features=auto, max_depth=15, total=   3.9s\n",
      "[CV] n_estimators=300, min_samples_split=100, min_samples_leaf=5, max_features=auto, max_depth=15 \n",
      "[CV]  n_estimators=300, min_samples_split=100, min_samples_leaf=5, max_features=auto, max_depth=15, total=   4.2s\n",
      "[CV] n_estimators=300, min_samples_split=100, min_samples_leaf=5, max_features=auto, max_depth=15 \n",
      "[CV]  n_estimators=300, min_samples_split=100, min_samples_leaf=5, max_features=auto, max_depth=15, total=   4.5s\n",
      "[CV] n_estimators=300, min_samples_split=100, min_samples_leaf=5, max_features=auto, max_depth=15 \n",
      "[CV]  n_estimators=300, min_samples_split=100, min_samples_leaf=5, max_features=auto, max_depth=15, total=   3.8s\n",
      "[CV] n_estimators=400, min_samples_split=5, min_samples_leaf=5, max_features=auto, max_depth=15 \n",
      "[CV]  n_estimators=400, min_samples_split=5, min_samples_leaf=5, max_features=auto, max_depth=15, total=   6.9s\n",
      "[CV] n_estimators=400, min_samples_split=5, min_samples_leaf=5, max_features=auto, max_depth=15 \n",
      "[CV]  n_estimators=400, min_samples_split=5, min_samples_leaf=5, max_features=auto, max_depth=15, total=   6.8s\n",
      "[CV] n_estimators=400, min_samples_split=5, min_samples_leaf=5, max_features=auto, max_depth=15 \n",
      "[CV]  n_estimators=400, min_samples_split=5, min_samples_leaf=5, max_features=auto, max_depth=15, total=   7.0s\n",
      "[CV] n_estimators=400, min_samples_split=5, min_samples_leaf=5, max_features=auto, max_depth=15 \n",
      "[CV]  n_estimators=400, min_samples_split=5, min_samples_leaf=5, max_features=auto, max_depth=15, total=   7.4s\n",
      "[CV] n_estimators=400, min_samples_split=5, min_samples_leaf=5, max_features=auto, max_depth=15 \n",
      "[CV]  n_estimators=400, min_samples_split=5, min_samples_leaf=5, max_features=auto, max_depth=15, total=   7.0s\n",
      "[CV] n_estimators=700, min_samples_split=5, min_samples_leaf=10, max_features=auto, max_depth=20 \n",
      "[CV]  n_estimators=700, min_samples_split=5, min_samples_leaf=10, max_features=auto, max_depth=20, total=  11.3s\n",
      "[CV] n_estimators=700, min_samples_split=5, min_samples_leaf=10, max_features=auto, max_depth=20 \n",
      "[CV]  n_estimators=700, min_samples_split=5, min_samples_leaf=10, max_features=auto, max_depth=20, total=  11.6s\n",
      "[CV] n_estimators=700, min_samples_split=5, min_samples_leaf=10, max_features=auto, max_depth=20 \n",
      "[CV]  n_estimators=700, min_samples_split=5, min_samples_leaf=10, max_features=auto, max_depth=20, total=  11.7s\n",
      "[CV] n_estimators=700, min_samples_split=5, min_samples_leaf=10, max_features=auto, max_depth=20 \n",
      "[CV]  n_estimators=700, min_samples_split=5, min_samples_leaf=10, max_features=auto, max_depth=20, total=  12.7s\n",
      "[CV] n_estimators=700, min_samples_split=5, min_samples_leaf=10, max_features=auto, max_depth=20 \n",
      "[CV]  n_estimators=700, min_samples_split=5, min_samples_leaf=10, max_features=auto, max_depth=20, total=  11.6s\n",
      "[CV] n_estimators=1000, min_samples_split=2, min_samples_leaf=1, max_features=sqrt, max_depth=25 \n",
      "[CV]  n_estimators=1000, min_samples_split=2, min_samples_leaf=1, max_features=sqrt, max_depth=25, total=  15.5s\n",
      "[CV] n_estimators=1000, min_samples_split=2, min_samples_leaf=1, max_features=sqrt, max_depth=25 \n",
      "[CV]  n_estimators=1000, min_samples_split=2, min_samples_leaf=1, max_features=sqrt, max_depth=25, total=  15.5s\n",
      "[CV] n_estimators=1000, min_samples_split=2, min_samples_leaf=1, max_features=sqrt, max_depth=25 \n",
      "[CV]  n_estimators=1000, min_samples_split=2, min_samples_leaf=1, max_features=sqrt, max_depth=25, total=  15.3s\n",
      "[CV] n_estimators=1000, min_samples_split=2, min_samples_leaf=1, max_features=sqrt, max_depth=25 \n",
      "[CV]  n_estimators=1000, min_samples_split=2, min_samples_leaf=1, max_features=sqrt, max_depth=25, total=  16.5s\n",
      "[CV] n_estimators=1000, min_samples_split=2, min_samples_leaf=1, max_features=sqrt, max_depth=25 \n",
      "[CV]  n_estimators=1000, min_samples_split=2, min_samples_leaf=1, max_features=sqrt, max_depth=25, total=  15.3s\n",
      "[CV] n_estimators=1100, min_samples_split=15, min_samples_leaf=10, max_features=sqrt, max_depth=5 \n",
      "[CV]  n_estimators=1100, min_samples_split=15, min_samples_leaf=10, max_features=sqrt, max_depth=5, total=   5.0s\n",
      "[CV] n_estimators=1100, min_samples_split=15, min_samples_leaf=10, max_features=sqrt, max_depth=5 \n",
      "[CV]  n_estimators=1100, min_samples_split=15, min_samples_leaf=10, max_features=sqrt, max_depth=5, total=   5.0s\n",
      "[CV] n_estimators=1100, min_samples_split=15, min_samples_leaf=10, max_features=sqrt, max_depth=5 \n",
      "[CV]  n_estimators=1100, min_samples_split=15, min_samples_leaf=10, max_features=sqrt, max_depth=5, total=   4.9s\n",
      "[CV] n_estimators=1100, min_samples_split=15, min_samples_leaf=10, max_features=sqrt, max_depth=5 \n",
      "[CV]  n_estimators=1100, min_samples_split=15, min_samples_leaf=10, max_features=sqrt, max_depth=5, total=   4.7s\n",
      "[CV] n_estimators=1100, min_samples_split=15, min_samples_leaf=10, max_features=sqrt, max_depth=5 \n",
      "[CV]  n_estimators=1100, min_samples_split=15, min_samples_leaf=10, max_features=sqrt, max_depth=5, total=   4.8s\n",
      "[CV] n_estimators=300, min_samples_split=15, min_samples_leaf=1, max_features=sqrt, max_depth=15 \n",
      "[CV]  n_estimators=300, min_samples_split=15, min_samples_leaf=1, max_features=sqrt, max_depth=15, total=   2.9s\n",
      "[CV] n_estimators=300, min_samples_split=15, min_samples_leaf=1, max_features=sqrt, max_depth=15 \n",
      "[CV]  n_estimators=300, min_samples_split=15, min_samples_leaf=1, max_features=sqrt, max_depth=15, total=   2.6s\n",
      "[CV] n_estimators=300, min_samples_split=15, min_samples_leaf=1, max_features=sqrt, max_depth=15 \n",
      "[CV]  n_estimators=300, min_samples_split=15, min_samples_leaf=1, max_features=sqrt, max_depth=15, total=   3.0s\n",
      "[CV] n_estimators=300, min_samples_split=15, min_samples_leaf=1, max_features=sqrt, max_depth=15 \n",
      "[CV]  n_estimators=300, min_samples_split=15, min_samples_leaf=1, max_features=sqrt, max_depth=15, total=   2.5s\n",
      "[CV] n_estimators=300, min_samples_split=15, min_samples_leaf=1, max_features=sqrt, max_depth=15 \n",
      "[CV]  n_estimators=300, min_samples_split=15, min_samples_leaf=1, max_features=sqrt, max_depth=15, total=   3.0s\n",
      "[CV] n_estimators=700, min_samples_split=10, min_samples_leaf=2, max_features=sqrt, max_depth=5 \n"
     ]
    },
    {
     "name": "stdout",
     "output_type": "stream",
     "text": [
      "[CV]  n_estimators=700, min_samples_split=10, min_samples_leaf=2, max_features=sqrt, max_depth=5, total=   2.8s\n",
      "[CV] n_estimators=700, min_samples_split=10, min_samples_leaf=2, max_features=sqrt, max_depth=5 \n",
      "[CV]  n_estimators=700, min_samples_split=10, min_samples_leaf=2, max_features=sqrt, max_depth=5, total=   3.3s\n",
      "[CV] n_estimators=700, min_samples_split=10, min_samples_leaf=2, max_features=sqrt, max_depth=5 \n",
      "[CV]  n_estimators=700, min_samples_split=10, min_samples_leaf=2, max_features=sqrt, max_depth=5, total=   2.9s\n",
      "[CV] n_estimators=700, min_samples_split=10, min_samples_leaf=2, max_features=sqrt, max_depth=5 \n",
      "[CV]  n_estimators=700, min_samples_split=10, min_samples_leaf=2, max_features=sqrt, max_depth=5, total=   3.2s\n",
      "[CV] n_estimators=700, min_samples_split=10, min_samples_leaf=2, max_features=sqrt, max_depth=5 \n",
      "[CV]  n_estimators=700, min_samples_split=10, min_samples_leaf=2, max_features=sqrt, max_depth=5, total=   3.1s\n",
      "[CV] n_estimators=700, min_samples_split=15, min_samples_leaf=1, max_features=auto, max_depth=20 \n",
      "[CV]  n_estimators=700, min_samples_split=15, min_samples_leaf=1, max_features=auto, max_depth=20, total=  13.7s\n",
      "[CV] n_estimators=700, min_samples_split=15, min_samples_leaf=1, max_features=auto, max_depth=20 \n",
      "[CV]  n_estimators=700, min_samples_split=15, min_samples_leaf=1, max_features=auto, max_depth=20, total=  14.5s\n",
      "[CV] n_estimators=700, min_samples_split=15, min_samples_leaf=1, max_features=auto, max_depth=20 \n",
      "[CV]  n_estimators=700, min_samples_split=15, min_samples_leaf=1, max_features=auto, max_depth=20, total=  13.6s\n",
      "[CV] n_estimators=700, min_samples_split=15, min_samples_leaf=1, max_features=auto, max_depth=20 \n",
      "[CV]  n_estimators=700, min_samples_split=15, min_samples_leaf=1, max_features=auto, max_depth=20, total=  14.7s\n",
      "[CV] n_estimators=700, min_samples_split=15, min_samples_leaf=1, max_features=auto, max_depth=20 \n",
      "[CV]  n_estimators=700, min_samples_split=15, min_samples_leaf=1, max_features=auto, max_depth=20, total=  14.7s\n"
     ]
    },
    {
     "name": "stderr",
     "output_type": "stream",
     "text": [
      "[Parallel(n_jobs=1)]: Done  50 out of  50 | elapsed:  6.6min finished\n"
     ]
    },
    {
     "data": {
      "text/plain": [
       "RandomizedSearchCV(cv=5, estimator=RandomForestRegressor(), n_jobs=1,\n",
       "                   param_distributions={'max_depth': [5, 10, 15, 20, 25, 30],\n",
       "                                        'max_features': ['auto', 'sqrt'],\n",
       "                                        'min_samples_leaf': [1, 2, 5, 10],\n",
       "                                        'min_samples_split': [2, 5, 10, 15,\n",
       "                                                              100],\n",
       "                                        'n_estimators': [100, 200, 300, 400,\n",
       "                                                         500, 600, 700, 800,\n",
       "                                                         900, 1000, 1100,\n",
       "                                                         1200]},\n",
       "                   random_state=42, scoring='neg_mean_squared_error',\n",
       "                   verbose=2)"
      ]
     },
     "execution_count": 31,
     "metadata": {},
     "output_type": "execute_result"
    }
   ],
   "source": [
    "rf_random.fit(X_train,Y_train)"
   ]
  },
  {
   "cell_type": "code",
   "execution_count": 32,
   "metadata": {},
   "outputs": [
    {
     "data": {
      "text/plain": [
       "-9086.309462057232"
      ]
     },
     "execution_count": 32,
     "metadata": {},
     "output_type": "execute_result"
    }
   ],
   "source": [
    "rf_random.best_score_"
   ]
  },
  {
   "cell_type": "code",
   "execution_count": 35,
   "metadata": {},
   "outputs": [
    {
     "name": "stdout",
     "output_type": "stream",
     "text": [
      "34.860232023830505\n",
      "92.27971289045504\n",
      "-0.1540060690855065\n"
     ]
    }
   ],
   "source": [
    "preds=rf_random.predict(X_test)\n",
    "print(mean_absolute_error(preds,Y_test))\n",
    "print(np.sqrt(mean_squared_error(preds,Y_test)))\n",
    "print(- np.sqrt(np.square(np.log10(preds +1) - np.log10(Y_test +1)).mean()))"
   ]
  },
  {
   "cell_type": "code",
   "execution_count": 36,
   "metadata": {},
   "outputs": [
    {
     "data": {
      "text/plain": [
       "XGBRegressor(base_score=0.5, booster='gbtree', colsample_bylevel=1,\n",
       "             colsample_bynode=1, colsample_bytree=1, gamma=0, gpu_id=-1,\n",
       "             importance_type='gain', interaction_constraints='',\n",
       "             learning_rate=0.300000012, max_delta_step=0, max_depth=6,\n",
       "             min_child_weight=1, missing=nan, monotone_constraints='()',\n",
       "             n_estimators=100, n_jobs=0, num_parallel_tree=1, random_state=0,\n",
       "             reg_alpha=0, reg_lambda=1, scale_pos_weight=1, subsample=1,\n",
       "             tree_method='exact', validate_parameters=1, verbosity=None)"
      ]
     },
     "execution_count": 36,
     "metadata": {},
     "output_type": "execute_result"
    }
   ],
   "source": [
    "import xgboost as xgb\n",
    "xgr=xgb.XGBRegressor()\n",
    "xgr.fit(X_train,Y_train)"
   ]
  },
  {
   "cell_type": "code",
   "execution_count": 37,
   "metadata": {},
   "outputs": [
    {
     "name": "stdout",
     "output_type": "stream",
     "text": [
      "32.8463187268976\n",
      "90.67771842623661\n"
     ]
    }
   ],
   "source": [
    "import math\n",
    "preds=xgr.predict(X_test)\n",
    "print(mean_absolute_error(preds,Y_test))\n",
    "print(math.sqrt(mean_squared_error(Y_test,preds)))"
   ]
  },
  {
   "cell_type": "code",
   "execution_count": 38,
   "metadata": {},
   "outputs": [],
   "source": [
    "min_child_weight=[1,2,3,4,5,6]\n",
    "max_depth=[int(x) for x in np.linspace(start=5,stop=30,num=6)]\n",
    "gamma=[i/10.0 for i in range(0,5)]\n",
    "subsample=[i/10.0 for i in range(6,10)]\n",
    "colsample_bytree=[i/10.0 for i in range(6,10)]\n",
    "reg_alpha=[1e-5, 1e-2, 0.1, 1, 100,0, 0.001, 0.005,0.05]\n",
    "learning_rate=[0.05,0.025,0.075,0.25,0.5,0.75,1]\n"
   ]
  },
  {
   "cell_type": "code",
   "execution_count": 39,
   "metadata": {},
   "outputs": [
    {
     "name": "stdout",
     "output_type": "stream",
     "text": [
      "{'min_child_weight': [1, 2, 3, 4, 5, 6], 'max_depth': [5, 10, 15, 20, 25, 30], 'gamma': [0.0, 0.1, 0.2, 0.3, 0.4], 'subsample': [0.6, 0.7, 0.8, 0.9], 'colsample_bytree': [0.6, 0.7, 0.8, 0.9], 'reg_alpha': [1e-05, 0.01, 0.1, 1, 100, 0, 0.001, 0.005, 0.05], 'learning_rate': [0.05, 0.025, 0.075, 0.25, 0.5, 0.75, 1]}\n"
     ]
    }
   ],
   "source": [
    "grid={'min_child_weight':min_child_weight,'max_depth':max_depth,'gamma':gamma,'subsample':subsample,'colsample_bytree':colsample_bytree,'reg_alpha':reg_alpha,'learning_rate':learning_rate}\n",
    "print(grid)"
   ]
  },
  {
   "cell_type": "code",
   "execution_count": 40,
   "metadata": {},
   "outputs": [],
   "source": [
    "xgr_random = RandomizedSearchCV(estimator = xgr, param_distributions=grid,scoring='neg_mean_squared_error',n_iter=10,cv = 5,random_state=42,verbose=2,n_jobs = 1)"
   ]
  },
  {
   "cell_type": "code",
   "execution_count": 41,
   "metadata": {},
   "outputs": [
    {
     "name": "stdout",
     "output_type": "stream",
     "text": [
      "Fitting 5 folds for each of 10 candidates, totalling 50 fits\n",
      "[CV] subsample=0.8, reg_alpha=0.001, min_child_weight=4, max_depth=5, learning_rate=0.25, gamma=0.3, colsample_bytree=0.8 \n"
     ]
    },
    {
     "name": "stderr",
     "output_type": "stream",
     "text": [
      "[Parallel(n_jobs=1)]: Using backend SequentialBackend with 1 concurrent workers.\n"
     ]
    },
    {
     "name": "stdout",
     "output_type": "stream",
     "text": [
      "[CV]  subsample=0.8, reg_alpha=0.001, min_child_weight=4, max_depth=5, learning_rate=0.25, gamma=0.3, colsample_bytree=0.8, total=   0.4s\n",
      "[CV] subsample=0.8, reg_alpha=0.001, min_child_weight=4, max_depth=5, learning_rate=0.25, gamma=0.3, colsample_bytree=0.8 \n"
     ]
    },
    {
     "name": "stderr",
     "output_type": "stream",
     "text": [
      "[Parallel(n_jobs=1)]: Done   1 out of   1 | elapsed:    0.3s remaining:    0.0s\n"
     ]
    },
    {
     "name": "stdout",
     "output_type": "stream",
     "text": [
      "[CV]  subsample=0.8, reg_alpha=0.001, min_child_weight=4, max_depth=5, learning_rate=0.25, gamma=0.3, colsample_bytree=0.8, total=   0.4s\n",
      "[CV] subsample=0.8, reg_alpha=0.001, min_child_weight=4, max_depth=5, learning_rate=0.25, gamma=0.3, colsample_bytree=0.8 \n",
      "[CV]  subsample=0.8, reg_alpha=0.001, min_child_weight=4, max_depth=5, learning_rate=0.25, gamma=0.3, colsample_bytree=0.8, total=   0.4s\n",
      "[CV] subsample=0.8, reg_alpha=0.001, min_child_weight=4, max_depth=5, learning_rate=0.25, gamma=0.3, colsample_bytree=0.8 \n",
      "[CV]  subsample=0.8, reg_alpha=0.001, min_child_weight=4, max_depth=5, learning_rate=0.25, gamma=0.3, colsample_bytree=0.8, total=   0.4s\n",
      "[CV] subsample=0.8, reg_alpha=0.001, min_child_weight=4, max_depth=5, learning_rate=0.25, gamma=0.3, colsample_bytree=0.8 \n",
      "[CV]  subsample=0.8, reg_alpha=0.001, min_child_weight=4, max_depth=5, learning_rate=0.25, gamma=0.3, colsample_bytree=0.8, total=   0.4s\n",
      "[CV] subsample=0.9, reg_alpha=0, min_child_weight=6, max_depth=10, learning_rate=0.025, gamma=0.1, colsample_bytree=0.9 \n",
      "[CV]  subsample=0.9, reg_alpha=0, min_child_weight=6, max_depth=10, learning_rate=0.025, gamma=0.1, colsample_bytree=0.9, total=   0.7s\n",
      "[CV] subsample=0.9, reg_alpha=0, min_child_weight=6, max_depth=10, learning_rate=0.025, gamma=0.1, colsample_bytree=0.9 \n",
      "[CV]  subsample=0.9, reg_alpha=0, min_child_weight=6, max_depth=10, learning_rate=0.025, gamma=0.1, colsample_bytree=0.9, total=   0.8s\n",
      "[CV] subsample=0.9, reg_alpha=0, min_child_weight=6, max_depth=10, learning_rate=0.025, gamma=0.1, colsample_bytree=0.9 \n",
      "[CV]  subsample=0.9, reg_alpha=0, min_child_weight=6, max_depth=10, learning_rate=0.025, gamma=0.1, colsample_bytree=0.9, total=   0.9s\n",
      "[CV] subsample=0.9, reg_alpha=0, min_child_weight=6, max_depth=10, learning_rate=0.025, gamma=0.1, colsample_bytree=0.9 \n",
      "[CV]  subsample=0.9, reg_alpha=0, min_child_weight=6, max_depth=10, learning_rate=0.025, gamma=0.1, colsample_bytree=0.9, total=   0.9s\n",
      "[CV] subsample=0.9, reg_alpha=0, min_child_weight=6, max_depth=10, learning_rate=0.025, gamma=0.1, colsample_bytree=0.9 \n",
      "[CV]  subsample=0.9, reg_alpha=0, min_child_weight=6, max_depth=10, learning_rate=0.025, gamma=0.1, colsample_bytree=0.9, total=   0.9s\n",
      "[CV] subsample=0.6, reg_alpha=0.005, min_child_weight=5, max_depth=25, learning_rate=0.25, gamma=0.4, colsample_bytree=0.8 \n",
      "[CV]  subsample=0.6, reg_alpha=0.005, min_child_weight=5, max_depth=25, learning_rate=0.25, gamma=0.4, colsample_bytree=0.8, total=   1.4s\n",
      "[CV] subsample=0.6, reg_alpha=0.005, min_child_weight=5, max_depth=25, learning_rate=0.25, gamma=0.4, colsample_bytree=0.8 \n",
      "[CV]  subsample=0.6, reg_alpha=0.005, min_child_weight=5, max_depth=25, learning_rate=0.25, gamma=0.4, colsample_bytree=0.8, total=   1.4s\n",
      "[CV] subsample=0.6, reg_alpha=0.005, min_child_weight=5, max_depth=25, learning_rate=0.25, gamma=0.4, colsample_bytree=0.8 \n",
      "[CV]  subsample=0.6, reg_alpha=0.005, min_child_weight=5, max_depth=25, learning_rate=0.25, gamma=0.4, colsample_bytree=0.8, total=   1.7s\n",
      "[CV] subsample=0.6, reg_alpha=0.005, min_child_weight=5, max_depth=25, learning_rate=0.25, gamma=0.4, colsample_bytree=0.8 \n",
      "[CV]  subsample=0.6, reg_alpha=0.005, min_child_weight=5, max_depth=25, learning_rate=0.25, gamma=0.4, colsample_bytree=0.8, total=   1.6s\n",
      "[CV] subsample=0.6, reg_alpha=0.005, min_child_weight=5, max_depth=25, learning_rate=0.25, gamma=0.4, colsample_bytree=0.8 \n",
      "[CV]  subsample=0.6, reg_alpha=0.005, min_child_weight=5, max_depth=25, learning_rate=0.25, gamma=0.4, colsample_bytree=0.8, total=   1.3s\n",
      "[CV] subsample=0.8, reg_alpha=1, min_child_weight=1, max_depth=5, learning_rate=0.25, gamma=0.1, colsample_bytree=0.8 \n",
      "[CV]  subsample=0.8, reg_alpha=1, min_child_weight=1, max_depth=5, learning_rate=0.25, gamma=0.1, colsample_bytree=0.8, total=   0.4s\n",
      "[CV] subsample=0.8, reg_alpha=1, min_child_weight=1, max_depth=5, learning_rate=0.25, gamma=0.1, colsample_bytree=0.8 \n",
      "[CV]  subsample=0.8, reg_alpha=1, min_child_weight=1, max_depth=5, learning_rate=0.25, gamma=0.1, colsample_bytree=0.8, total=   0.4s\n",
      "[CV] subsample=0.8, reg_alpha=1, min_child_weight=1, max_depth=5, learning_rate=0.25, gamma=0.1, colsample_bytree=0.8 \n",
      "[CV]  subsample=0.8, reg_alpha=1, min_child_weight=1, max_depth=5, learning_rate=0.25, gamma=0.1, colsample_bytree=0.8, total=   0.5s\n",
      "[CV] subsample=0.8, reg_alpha=1, min_child_weight=1, max_depth=5, learning_rate=0.25, gamma=0.1, colsample_bytree=0.8 \n",
      "[CV]  subsample=0.8, reg_alpha=1, min_child_weight=1, max_depth=5, learning_rate=0.25, gamma=0.1, colsample_bytree=0.8, total=   0.5s\n",
      "[CV] subsample=0.8, reg_alpha=1, min_child_weight=1, max_depth=5, learning_rate=0.25, gamma=0.1, colsample_bytree=0.8 \n",
      "[CV]  subsample=0.8, reg_alpha=1, min_child_weight=1, max_depth=5, learning_rate=0.25, gamma=0.1, colsample_bytree=0.8, total=   0.5s\n",
      "[CV] subsample=0.9, reg_alpha=0.05, min_child_weight=6, max_depth=15, learning_rate=0.025, gamma=0.3, colsample_bytree=0.8 \n",
      "[CV]  subsample=0.9, reg_alpha=0.05, min_child_weight=6, max_depth=15, learning_rate=0.025, gamma=0.3, colsample_bytree=0.8, total=   1.2s\n",
      "[CV] subsample=0.9, reg_alpha=0.05, min_child_weight=6, max_depth=15, learning_rate=0.025, gamma=0.3, colsample_bytree=0.8 \n",
      "[CV]  subsample=0.9, reg_alpha=0.05, min_child_weight=6, max_depth=15, learning_rate=0.025, gamma=0.3, colsample_bytree=0.8, total=   1.1s\n",
      "[CV] subsample=0.9, reg_alpha=0.05, min_child_weight=6, max_depth=15, learning_rate=0.025, gamma=0.3, colsample_bytree=0.8 \n",
      "[CV]  subsample=0.9, reg_alpha=0.05, min_child_weight=6, max_depth=15, learning_rate=0.025, gamma=0.3, colsample_bytree=0.8, total=   1.1s\n",
      "[CV] subsample=0.9, reg_alpha=0.05, min_child_weight=6, max_depth=15, learning_rate=0.025, gamma=0.3, colsample_bytree=0.8 \n",
      "[CV]  subsample=0.9, reg_alpha=0.05, min_child_weight=6, max_depth=15, learning_rate=0.025, gamma=0.3, colsample_bytree=0.8, total=   1.2s\n",
      "[CV] subsample=0.9, reg_alpha=0.05, min_child_weight=6, max_depth=15, learning_rate=0.025, gamma=0.3, colsample_bytree=0.8 \n",
      "[CV]  subsample=0.9, reg_alpha=0.05, min_child_weight=6, max_depth=15, learning_rate=0.025, gamma=0.3, colsample_bytree=0.8, total=   1.3s\n",
      "[CV] subsample=0.6, reg_alpha=1e-05, min_child_weight=4, max_depth=5, learning_rate=0.025, gamma=0.2, colsample_bytree=0.8 \n",
      "[CV]  subsample=0.6, reg_alpha=1e-05, min_child_weight=4, max_depth=5, learning_rate=0.025, gamma=0.2, colsample_bytree=0.8, total=   0.5s\n",
      "[CV] subsample=0.6, reg_alpha=1e-05, min_child_weight=4, max_depth=5, learning_rate=0.025, gamma=0.2, colsample_bytree=0.8 \n",
      "[CV]  subsample=0.6, reg_alpha=1e-05, min_child_weight=4, max_depth=5, learning_rate=0.025, gamma=0.2, colsample_bytree=0.8, total=   0.4s\n",
      "[CV] subsample=0.6, reg_alpha=1e-05, min_child_weight=4, max_depth=5, learning_rate=0.025, gamma=0.2, colsample_bytree=0.8 \n",
      "[CV]  subsample=0.6, reg_alpha=1e-05, min_child_weight=4, max_depth=5, learning_rate=0.025, gamma=0.2, colsample_bytree=0.8, total=   0.4s\n",
      "[CV] subsample=0.6, reg_alpha=1e-05, min_child_weight=4, max_depth=5, learning_rate=0.025, gamma=0.2, colsample_bytree=0.8 \n",
      "[CV]  subsample=0.6, reg_alpha=1e-05, min_child_weight=4, max_depth=5, learning_rate=0.025, gamma=0.2, colsample_bytree=0.8, total=   0.5s\n",
      "[CV] subsample=0.6, reg_alpha=1e-05, min_child_weight=4, max_depth=5, learning_rate=0.025, gamma=0.2, colsample_bytree=0.8 \n",
      "[CV]  subsample=0.6, reg_alpha=1e-05, min_child_weight=4, max_depth=5, learning_rate=0.025, gamma=0.2, colsample_bytree=0.8, total=   0.5s\n",
      "[CV] subsample=0.8, reg_alpha=0, min_child_weight=1, max_depth=15, learning_rate=0.05, gamma=0.1, colsample_bytree=0.7 \n",
      "[CV]  subsample=0.8, reg_alpha=0, min_child_weight=1, max_depth=15, learning_rate=0.05, gamma=0.1, colsample_bytree=0.7, total=   1.4s\n",
      "[CV] subsample=0.8, reg_alpha=0, min_child_weight=1, max_depth=15, learning_rate=0.05, gamma=0.1, colsample_bytree=0.7 \n",
      "[CV]  subsample=0.8, reg_alpha=0, min_child_weight=1, max_depth=15, learning_rate=0.05, gamma=0.1, colsample_bytree=0.7, total=   1.3s\n",
      "[CV] subsample=0.8, reg_alpha=0, min_child_weight=1, max_depth=15, learning_rate=0.05, gamma=0.1, colsample_bytree=0.7 \n",
      "[CV]  subsample=0.8, reg_alpha=0, min_child_weight=1, max_depth=15, learning_rate=0.05, gamma=0.1, colsample_bytree=0.7, total=   1.1s\n",
      "[CV] subsample=0.8, reg_alpha=0, min_child_weight=1, max_depth=15, learning_rate=0.05, gamma=0.1, colsample_bytree=0.7 \n"
     ]
    },
    {
     "name": "stdout",
     "output_type": "stream",
     "text": [
      "[CV]  subsample=0.8, reg_alpha=0, min_child_weight=1, max_depth=15, learning_rate=0.05, gamma=0.1, colsample_bytree=0.7, total=   1.3s\n",
      "[CV] subsample=0.8, reg_alpha=0, min_child_weight=1, max_depth=15, learning_rate=0.05, gamma=0.1, colsample_bytree=0.7 \n",
      "[CV]  subsample=0.8, reg_alpha=0, min_child_weight=1, max_depth=15, learning_rate=0.05, gamma=0.1, colsample_bytree=0.7, total=   1.4s\n",
      "[CV] subsample=0.7, reg_alpha=0.05, min_child_weight=5, max_depth=30, learning_rate=0.05, gamma=0.0, colsample_bytree=0.9 \n",
      "[CV]  subsample=0.7, reg_alpha=0.05, min_child_weight=5, max_depth=30, learning_rate=0.05, gamma=0.0, colsample_bytree=0.9, total=   2.1s\n",
      "[CV] subsample=0.7, reg_alpha=0.05, min_child_weight=5, max_depth=30, learning_rate=0.05, gamma=0.0, colsample_bytree=0.9 \n",
      "[CV]  subsample=0.7, reg_alpha=0.05, min_child_weight=5, max_depth=30, learning_rate=0.05, gamma=0.0, colsample_bytree=0.9, total=   2.1s\n",
      "[CV] subsample=0.7, reg_alpha=0.05, min_child_weight=5, max_depth=30, learning_rate=0.05, gamma=0.0, colsample_bytree=0.9 \n",
      "[CV]  subsample=0.7, reg_alpha=0.05, min_child_weight=5, max_depth=30, learning_rate=0.05, gamma=0.0, colsample_bytree=0.9, total=   1.9s\n",
      "[CV] subsample=0.7, reg_alpha=0.05, min_child_weight=5, max_depth=30, learning_rate=0.05, gamma=0.0, colsample_bytree=0.9 \n",
      "[CV]  subsample=0.7, reg_alpha=0.05, min_child_weight=5, max_depth=30, learning_rate=0.05, gamma=0.0, colsample_bytree=0.9, total=   1.8s\n",
      "[CV] subsample=0.7, reg_alpha=0.05, min_child_weight=5, max_depth=30, learning_rate=0.05, gamma=0.0, colsample_bytree=0.9 \n",
      "[CV]  subsample=0.7, reg_alpha=0.05, min_child_weight=5, max_depth=30, learning_rate=0.05, gamma=0.0, colsample_bytree=0.9, total=   1.9s\n",
      "[CV] subsample=0.8, reg_alpha=1e-05, min_child_weight=1, max_depth=30, learning_rate=0.25, gamma=0.3, colsample_bytree=0.9 \n",
      "[CV]  subsample=0.8, reg_alpha=1e-05, min_child_weight=1, max_depth=30, learning_rate=0.25, gamma=0.3, colsample_bytree=0.9, total=   2.8s\n",
      "[CV] subsample=0.8, reg_alpha=1e-05, min_child_weight=1, max_depth=30, learning_rate=0.25, gamma=0.3, colsample_bytree=0.9 \n",
      "[CV]  subsample=0.8, reg_alpha=1e-05, min_child_weight=1, max_depth=30, learning_rate=0.25, gamma=0.3, colsample_bytree=0.9, total=   2.5s\n",
      "[CV] subsample=0.8, reg_alpha=1e-05, min_child_weight=1, max_depth=30, learning_rate=0.25, gamma=0.3, colsample_bytree=0.9 \n",
      "[CV]  subsample=0.8, reg_alpha=1e-05, min_child_weight=1, max_depth=30, learning_rate=0.25, gamma=0.3, colsample_bytree=0.9, total=   2.8s\n",
      "[CV] subsample=0.8, reg_alpha=1e-05, min_child_weight=1, max_depth=30, learning_rate=0.25, gamma=0.3, colsample_bytree=0.9 \n",
      "[CV]  subsample=0.8, reg_alpha=1e-05, min_child_weight=1, max_depth=30, learning_rate=0.25, gamma=0.3, colsample_bytree=0.9, total=   2.8s\n",
      "[CV] subsample=0.8, reg_alpha=1e-05, min_child_weight=1, max_depth=30, learning_rate=0.25, gamma=0.3, colsample_bytree=0.9 \n",
      "[CV]  subsample=0.8, reg_alpha=1e-05, min_child_weight=1, max_depth=30, learning_rate=0.25, gamma=0.3, colsample_bytree=0.9, total=   2.4s\n",
      "[CV] subsample=0.8, reg_alpha=100, min_child_weight=1, max_depth=20, learning_rate=0.5, gamma=0.4, colsample_bytree=0.7 \n",
      "[CV]  subsample=0.8, reg_alpha=100, min_child_weight=1, max_depth=20, learning_rate=0.5, gamma=0.4, colsample_bytree=0.7, total=   1.4s\n",
      "[CV] subsample=0.8, reg_alpha=100, min_child_weight=1, max_depth=20, learning_rate=0.5, gamma=0.4, colsample_bytree=0.7 \n",
      "[CV]  subsample=0.8, reg_alpha=100, min_child_weight=1, max_depth=20, learning_rate=0.5, gamma=0.4, colsample_bytree=0.7, total=   1.3s\n",
      "[CV] subsample=0.8, reg_alpha=100, min_child_weight=1, max_depth=20, learning_rate=0.5, gamma=0.4, colsample_bytree=0.7 \n",
      "[CV]  subsample=0.8, reg_alpha=100, min_child_weight=1, max_depth=20, learning_rate=0.5, gamma=0.4, colsample_bytree=0.7, total=   1.3s\n",
      "[CV] subsample=0.8, reg_alpha=100, min_child_weight=1, max_depth=20, learning_rate=0.5, gamma=0.4, colsample_bytree=0.7 \n",
      "[CV]  subsample=0.8, reg_alpha=100, min_child_weight=1, max_depth=20, learning_rate=0.5, gamma=0.4, colsample_bytree=0.7, total=   1.3s\n",
      "[CV] subsample=0.8, reg_alpha=100, min_child_weight=1, max_depth=20, learning_rate=0.5, gamma=0.4, colsample_bytree=0.7 \n",
      "[CV]  subsample=0.8, reg_alpha=100, min_child_weight=1, max_depth=20, learning_rate=0.5, gamma=0.4, colsample_bytree=0.7, total=   1.3s\n"
     ]
    },
    {
     "name": "stderr",
     "output_type": "stream",
     "text": [
      "[Parallel(n_jobs=1)]: Done  50 out of  50 | elapsed:  1.0min finished\n"
     ]
    },
    {
     "data": {
      "text/plain": [
       "RandomizedSearchCV(cv=5,\n",
       "                   estimator=XGBRegressor(base_score=0.5, booster='gbtree',\n",
       "                                          colsample_bylevel=1,\n",
       "                                          colsample_bynode=1,\n",
       "                                          colsample_bytree=1, gamma=0,\n",
       "                                          gpu_id=-1, importance_type='gain',\n",
       "                                          interaction_constraints='',\n",
       "                                          learning_rate=0.300000012,\n",
       "                                          max_delta_step=0, max_depth=6,\n",
       "                                          min_child_weight=1, missing=nan,\n",
       "                                          monotone_constraints='()',\n",
       "                                          n_estimators=100, n_jobs=0,\n",
       "                                          num_par...\n",
       "                   n_jobs=1,\n",
       "                   param_distributions={'colsample_bytree': [0.6, 0.7, 0.8,\n",
       "                                                             0.9],\n",
       "                                        'gamma': [0.0, 0.1, 0.2, 0.3, 0.4],\n",
       "                                        'learning_rate': [0.05, 0.025, 0.075,\n",
       "                                                          0.25, 0.5, 0.75, 1],\n",
       "                                        'max_depth': [5, 10, 15, 20, 25, 30],\n",
       "                                        'min_child_weight': [1, 2, 3, 4, 5, 6],\n",
       "                                        'reg_alpha': [1e-05, 0.01, 0.1, 1, 100,\n",
       "                                                      0, 0.001, 0.005, 0.05],\n",
       "                                        'subsample': [0.6, 0.7, 0.8, 0.9]},\n",
       "                   random_state=42, scoring='neg_mean_squared_error',\n",
       "                   verbose=2)"
      ]
     },
     "execution_count": 41,
     "metadata": {},
     "output_type": "execute_result"
    }
   ],
   "source": [
    "xgr_random.fit(X_train,Y_train)"
   ]
  },
  {
   "cell_type": "code",
   "execution_count": 42,
   "metadata": {},
   "outputs": [
    {
     "name": "stdout",
     "output_type": "stream",
     "text": [
      "32.34402824814255\n",
      "86.614431308321\n",
      "-0.1474811545998762\n"
     ]
    }
   ],
   "source": [
    "preds=xgr_random.predict(X_test)\n",
    "print(mean_absolute_error(preds,Y_test))\n",
    "print(math.sqrt(mean_squared_error(Y_test,preds)))\n",
    "print(- np.sqrt(np.square(np.log10(preds +1) - np.log10(Y_test +1)).mean()))"
   ]
  },
  {
   "cell_type": "code",
   "execution_count": 43,
   "metadata": {},
   "outputs": [
    {
     "name": "stdout",
     "output_type": "stream",
     "text": [
      "22.738854803636464\n",
      "64.75819215212213\n"
     ]
    }
   ],
   "source": [
    "preds=xgr_random.predict(X_train)\n",
    "print(mean_absolute_error(preds,Y_train))\n",
    "print(math.sqrt(mean_squared_error(Y_train,preds)))"
   ]
  },
  {
   "cell_type": "code",
   "execution_count": 44,
   "metadata": {},
   "outputs": [
    {
     "name": "stdout",
     "output_type": "stream",
     "text": [
      "27.569704558646617\n",
      "72.52501618469651\n"
     ]
    }
   ],
   "source": [
    "preds=rf_random.predict(X_train)\n",
    "print(mean_absolute_error(preds,Y_train))\n",
    "print(math.sqrt(mean_squared_error(Y_train,preds)))"
   ]
  },
  {
   "cell_type": "code",
   "execution_count": 45,
   "metadata": {},
   "outputs": [
    {
     "name": "stdout",
     "output_type": "stream",
     "text": [
      "18.605360060756432\n",
      "34.0470297019639\n"
     ]
    }
   ],
   "source": [
    "preds=xgr.predict(X_train)\n",
    "print(mean_absolute_error(preds,Y_train))\n",
    "print(math.sqrt(mean_squared_error(Y_train,preds)))"
   ]
  },
  {
   "cell_type": "code",
   "execution_count": 46,
   "metadata": {},
   "outputs": [],
   "source": [
    "df_test=pd.read_csv('test.csv')"
   ]
  },
  {
   "cell_type": "code",
   "execution_count": 47,
   "metadata": {},
   "outputs": [
    {
     "data": {
      "text/plain": [
       "595"
      ]
     },
     "execution_count": 47,
     "metadata": {},
     "output_type": "execute_result"
    }
   ],
   "source": [
    "len(df_test['society'].unique())"
   ]
  },
  {
   "cell_type": "code",
   "execution_count": 48,
   "metadata": {},
   "outputs": [
    {
     "data": {
      "text/plain": [
       "1306"
      ]
     },
     "execution_count": 48,
     "metadata": {},
     "output_type": "execute_result"
    }
   ],
   "source": [
    "len(df['location'].unique())"
   ]
  },
  {
   "cell_type": "code",
   "execution_count": 49,
   "metadata": {},
   "outputs": [
    {
     "data": {
      "text/plain": [
       "area_type          0\n",
       "availability       0\n",
       "location           0\n",
       "size               2\n",
       "society          626\n",
       "total_sqft         0\n",
       "bath               7\n",
       "balcony           69\n",
       "price           1480\n",
       "dtype: int64"
      ]
     },
     "execution_count": 49,
     "metadata": {},
     "output_type": "execute_result"
    }
   ],
   "source": [
    "df_test.isnull().sum()"
   ]
  },
  {
   "cell_type": "code",
   "execution_count": 50,
   "metadata": {},
   "outputs": [],
   "source": [
    "for feature in discrete_features:\n",
    "    df_test[feature]=df_test[feature].fillna(value=df_test[feature].value_counts().idxmax())"
   ]
  },
  {
   "cell_type": "code",
   "execution_count": 51,
   "metadata": {},
   "outputs": [],
   "source": [
    "for feature in categorical_features:\n",
    "    df_test[feature]=df_test[feature].fillna(value=df_test[feature].value_counts().idxmax())"
   ]
  },
  {
   "cell_type": "code",
   "execution_count": 52,
   "metadata": {},
   "outputs": [],
   "source": [
    "le=LabelEncoder()\n",
    "\n",
    "for feature in categorical_features:\n",
    "    df_test[feature]=le.fit_transform(df_test[feature])"
   ]
  },
  {
   "cell_type": "code",
   "execution_count": 53,
   "metadata": {},
   "outputs": [
    {
     "data": {
      "text/plain": [
       "area_type          0\n",
       "availability       0\n",
       "location           0\n",
       "size               0\n",
       "society            0\n",
       "total_sqft         0\n",
       "bath               0\n",
       "balcony            0\n",
       "price           1480\n",
       "dtype: int64"
      ]
     },
     "execution_count": 53,
     "metadata": {},
     "output_type": "execute_result"
    }
   ],
   "source": [
    "df_test.isnull().sum()"
   ]
  },
  {
   "cell_type": "code",
   "execution_count": 55,
   "metadata": {},
   "outputs": [],
   "source": [
    "df_test['total_sqft'] = df_test['total_sqft'].apply(lambda x: x.split(' - ')[1] if (len(x.split(' - ')))>1 else x.split(' - ')[0]) \n",
    "df_test['total_sqft'] = df_test['total_sqft'].apply(lambda x: re.findall(r'\\d+',x)[0])\n",
    "df_test['total_sqft'] = df_test['total_sqft'].astype(np.float64)"
   ]
  },
  {
   "cell_type": "code",
   "execution_count": 56,
   "metadata": {},
   "outputs": [],
   "source": [
    "preds=xgr_random.predict(df_test[features])"
   ]
  },
  {
   "cell_type": "code",
   "execution_count": 57,
   "metadata": {},
   "outputs": [],
   "source": [
    "df_test['price']=preds"
   ]
  },
  {
   "cell_type": "code",
   "execution_count": 58,
   "metadata": {},
   "outputs": [],
   "source": [
    "df_test.to_csv('submission.csv',index=False)"
   ]
  },
  {
   "cell_type": "code",
   "execution_count": null,
   "metadata": {},
   "outputs": [],
   "source": []
  }
 ],
 "metadata": {
  "kernelspec": {
   "display_name": "Python 3 (ipykernel)",
   "language": "python",
   "name": "python3"
  },
  "language_info": {
   "codemirror_mode": {
    "name": "ipython",
    "version": 3
   },
   "file_extension": ".py",
   "mimetype": "text/x-python",
   "name": "python",
   "nbconvert_exporter": "python",
   "pygments_lexer": "ipython3",
   "version": "3.7.16"
  }
 },
 "nbformat": 4,
 "nbformat_minor": 4
}
